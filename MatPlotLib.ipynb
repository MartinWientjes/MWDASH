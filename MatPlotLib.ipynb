{
 "cells": [
  {
   "cell_type": "markdown",
   "metadata": {},
   "source": [
    "# Sectie 1"
   ]
  },
  {
   "cell_type": "code",
   "execution_count": 1,
   "metadata": {
    "ExecuteTime": {
     "end_time": "2016-02-25T20:48:45.417338",
     "start_time": "2016-02-25T20:48:30.514627"
    },
    "collapsed": false
   },
   "outputs": [],
   "source": [
    "import matplotlib.pyplot as plt\n",
    "plt.plot([1,2,3,4])\n",
    "plt.ylabel(\"some numbers\")\n",
    "plt.show()\n",
    "plt.close()"
   ]
  },
  {
   "cell_type": "markdown",
   "metadata": {},
   "source": [
    "# Sectie 2 "
   ]
  },
  {
   "cell_type": "code",
   "execution_count": 2,
   "metadata": {
    "ExecuteTime": {
     "end_time": "2016-02-25T20:49:03.348381",
     "start_time": "2016-02-25T20:48:50.816827"
    },
    "collapsed": false
   },
   "outputs": [],
   "source": [
    "import matplotlib.pyplot as plt\n",
    "plt.plot([1,2,3,4], [1,4,9,16], \"ro\")\n",
    "plt.axis([0, 6, 0, 20])\n",
    "plt.show()\n",
    "plt.close()"
   ]
  },
  {
   "cell_type": "markdown",
   "metadata": {},
   "source": [
    "# Sectie 3"
   ]
  },
  {
   "cell_type": "code",
   "execution_count": 3,
   "metadata": {
    "ExecuteTime": {
     "end_time": "2016-02-25T20:49:04.529546",
     "start_time": "2016-02-25T20:49:03.349544"
    },
    "collapsed": false
   },
   "outputs": [],
   "source": [
    "import numpy as np\n",
    "import matplotlib.pyplot as plt\n",
    "# evenly sampled time at 200ms intervals\n",
    "t = np.arange(0., 5., 0.2)\n",
    "# red dashes, blue squares and green triangles\n",
    "plt.plot(t, t, \"r--\", t, t**2, \"bs\", t, t**3, \"g^\")\n",
    "plt.show()\n",
    "plt.close()"
   ]
  },
  {
   "cell_type": "markdown",
   "metadata": {},
   "source": [
    "# Sectie 4"
   ]
  },
  {
   "cell_type": "code",
   "execution_count": 4,
   "metadata": {
    "ExecuteTime": {
     "end_time": "2016-02-25T20:49:05.631713",
     "start_time": "2016-02-25T20:49:04.530924"
    },
    "collapsed": false
   },
   "outputs": [],
   "source": [
    "import numpy as np\n",
    "import matplotlib.pyplot as plt\n",
    "def f(t):\n",
    "    return np.exp(-t) * np.cos(2*np.pi*t)\n",
    "t1 = np.arange(0.0, 5.0, 0.1)\n",
    "t2 = np.arange(0.0, 5.0, 0.02)\n",
    "plt.figure(1)\n",
    "plt.subplot(211)\n",
    "plt.plot(t1, f(t1), \"bo\", t2, f(t2), \"k\")\n",
    "plt.subplot(212)\n",
    "plt.plot(t2, np.cos(2*np.pi*t2), \"r--\")\n",
    "plt.show()\n",
    "plt.close()"
   ]
  },
  {
   "cell_type": "markdown",
   "metadata": {},
   "source": [
    "# Sectie 5"
   ]
  },
  {
   "cell_type": "code",
   "execution_count": 5,
   "metadata": {
    "ExecuteTime": {
     "end_time": "2016-02-25T20:49:07.208783",
     "start_time": "2016-02-25T20:49:05.632927"
    },
    "collapsed": false
   },
   "outputs": [],
   "source": [
    "import numpy as np\n",
    "import matplotlib.pyplot as plt\n",
    "mu, sigma = 100, 15\n",
    "x = mu + sigma * np.random.randn(10000)\n",
    "# the histogram of the data\n",
    "n, bins, patches = plt.hist(x, 50, normed=1, facecolor=\"g\", alpha=0.75)\n",
    "plt.xlabel(\"Smarts\")\n",
    "plt.ylabel(\"Probability\")\n",
    "plt.title(\"Histogram of IQ\")\n",
    "plt.text(60, .025, r\"$\\mu=100,\\ \\sigma=15$\")\n",
    "plt.axis([40, 160, 0, 0.03])\n",
    "plt.grid(True)\n",
    "plt.show()\n",
    "plt.close()"
   ]
  },
  {
   "cell_type": "markdown",
   "metadata": {},
   "source": [
    "# Sectie 6"
   ]
  },
  {
   "cell_type": "code",
   "execution_count": 6,
   "metadata": {
    "ExecuteTime": {
     "end_time": "2016-02-25T20:49:08.673085",
     "start_time": "2016-02-25T20:49:07.211138"
    },
    "collapsed": false
   },
   "outputs": [],
   "source": [
    "import numpy as np\n",
    "import matplotlib.pyplot as plt\n",
    "ax = plt.subplot(111)\n",
    "t = np.arange(0.0, 5.0, 0.01)\n",
    "s = np.cos(2*np.pi*t)\n",
    "line, = plt.plot(t, s, lw=2)\n",
    "plt.annotate(\"Local Max\", xy=(2, 1), xytext=(3, 1.5),arrowprops=dict(facecolor=\"black\", shrink=0.05),)\n",
    "plt.ylim(-2,2)\n",
    "plt.show()"
   ]
  },
  {
   "cell_type": "markdown",
   "metadata": {},
   "source": [
    "# Sectie 7 "
   ]
  },
  {
   "cell_type": "code",
   "execution_count": 7,
   "metadata": {
    "ExecuteTime": {
     "end_time": "2016-02-25T20:49:17.303121",
     "start_time": "2016-02-25T20:49:16.140715"
    },
    "collapsed": false
   },
   "outputs": [
    {
     "ename": "NameError",
     "evalue": "name 'unicode' is not defined",
     "output_type": "error",
     "traceback": [
      "\u001b[0;31m---------------------------------------------------------------------------\u001b[0m",
      "\u001b[0;31mNameError\u001b[0m                                 Traceback (most recent call last)",
      "\u001b[0;32m<ipython-input-7-c777bcd883db>\u001b[0m in \u001b[0;36m<module>\u001b[0;34m()\u001b[0m\n\u001b[1;32m     10\u001b[0m \u001b[0max\u001b[0m\u001b[0;34m.\u001b[0m\u001b[0mtext\u001b[0m\u001b[0;34m(\u001b[0m\u001b[0;36m3\u001b[0m\u001b[0;34m,\u001b[0m \u001b[0;36m8\u001b[0m\u001b[0;34m,\u001b[0m \u001b[0;34m\"boxed italics text in data coords\"\u001b[0m\u001b[0;34m,\u001b[0m \u001b[0mstyle\u001b[0m\u001b[0;34m=\u001b[0m\u001b[0;34m\"italic\"\u001b[0m\u001b[0;34m,\u001b[0m \u001b[0mbbox\u001b[0m\u001b[0;34m=\u001b[0m\u001b[0;34m{\u001b[0m\u001b[0;34m\"facecolor\"\u001b[0m\u001b[0;34m:\u001b[0m\u001b[0;34m\"red\"\u001b[0m\u001b[0;34m,\u001b[0m \u001b[0;34m\"alpha\"\u001b[0m\u001b[0;34m:\u001b[0m\u001b[0;36m0.5\u001b[0m\u001b[0;34m,\u001b[0m \u001b[0;34m\"pad\"\u001b[0m\u001b[0;34m:\u001b[0m\u001b[0;36m10\u001b[0m\u001b[0;34m}\u001b[0m\u001b[0;34m)\u001b[0m\u001b[0;34m\u001b[0m\u001b[0m\n\u001b[1;32m     11\u001b[0m \u001b[0max\u001b[0m\u001b[0;34m.\u001b[0m\u001b[0mtext\u001b[0m\u001b[0;34m(\u001b[0m\u001b[0;36m2\u001b[0m\u001b[0;34m,\u001b[0m \u001b[0;36m6\u001b[0m\u001b[0;34m,\u001b[0m \u001b[0;34mr\"an equation: $E=mc^2$\"\u001b[0m\u001b[0;34m,\u001b[0m \u001b[0mfontsize\u001b[0m\u001b[0;34m=\u001b[0m\u001b[0;36m15\u001b[0m\u001b[0;34m)\u001b[0m\u001b[0;34m\u001b[0m\u001b[0m\n\u001b[0;32m---> 12\u001b[0;31m \u001b[0max\u001b[0m\u001b[0;34m.\u001b[0m\u001b[0mtext\u001b[0m\u001b[0;34m(\u001b[0m\u001b[0;36m3\u001b[0m\u001b[0;34m,\u001b[0m \u001b[0;36m2\u001b[0m\u001b[0;34m,\u001b[0m \u001b[0municode\u001b[0m\u001b[0;34m(\u001b[0m\u001b[0;34m\"unicode: Institut f\\374r Festk\\366rperphysik\"\u001b[0m\u001b[0;34m,\u001b[0m \u001b[0;34m\"latin-1\"\u001b[0m\u001b[0;34m)\u001b[0m\u001b[0;34m)\u001b[0m\u001b[0;34m\u001b[0m\u001b[0m\n\u001b[0m\u001b[1;32m     13\u001b[0m \u001b[0max\u001b[0m\u001b[0;34m.\u001b[0m\u001b[0mtext\u001b[0m\u001b[0;34m(\u001b[0m\u001b[0;36m0.95\u001b[0m\u001b[0;34m,\u001b[0m \u001b[0;36m0.01\u001b[0m\u001b[0;34m,\u001b[0m \u001b[0;34m\"colored text in axes coords\"\u001b[0m\u001b[0;34m,\u001b[0m \u001b[0mverticalalignment\u001b[0m\u001b[0;34m=\u001b[0m\u001b[0;34m\"bottom\"\u001b[0m\u001b[0;34m,\u001b[0m \u001b[0mhorizontalalignment\u001b[0m\u001b[0;34m=\u001b[0m\u001b[0;34m\"right\"\u001b[0m\u001b[0;34m,\u001b[0m \u001b[0mtransform\u001b[0m\u001b[0;34m=\u001b[0m\u001b[0max\u001b[0m\u001b[0;34m.\u001b[0m\u001b[0mtransAxes\u001b[0m\u001b[0;34m,\u001b[0m \u001b[0mcolor\u001b[0m\u001b[0;34m=\u001b[0m\u001b[0;34m\"green\"\u001b[0m\u001b[0;34m,\u001b[0m \u001b[0mfontsize\u001b[0m\u001b[0;34m=\u001b[0m\u001b[0;36m15\u001b[0m\u001b[0;34m)\u001b[0m\u001b[0;34m\u001b[0m\u001b[0m\n\u001b[1;32m     14\u001b[0m \u001b[0max\u001b[0m\u001b[0;34m.\u001b[0m\u001b[0mplot\u001b[0m\u001b[0;34m(\u001b[0m\u001b[0;34m[\u001b[0m\u001b[0;36m2\u001b[0m\u001b[0;34m]\u001b[0m\u001b[0;34m,\u001b[0m \u001b[0;34m[\u001b[0m\u001b[0;36m1\u001b[0m\u001b[0;34m]\u001b[0m\u001b[0;34m,\u001b[0m \u001b[0;34m\"o\"\u001b[0m\u001b[0;34m)\u001b[0m\u001b[0;34m\u001b[0m\u001b[0m\n",
      "\u001b[0;31mNameError\u001b[0m: name 'unicode' is not defined"
     ]
    }
   ],
   "source": [
    "# -*- coding: utf-8 -*-\n",
    "import matplotlib.pyplot as plt\n",
    "fig = plt.figure()\n",
    "fig.suptitle(\"bold figure suptitle\", fontsize=14, fontweight=\"bold\")\n",
    "ax = fig.add_subplot(111)\n",
    "fig.subplots_adjust(top=0.85)\n",
    "ax.set_title(\"axes title\")\n",
    "ax.set_xlabel(\"xlabel\")\n",
    "ax.set_ylabel(\"ylabel\")\n",
    "ax.text(3, 8, \"boxed italics text in data coords\", style=\"italic\", bbox={\"facecolor\":\"red\", \"alpha\":0.5, \"pad\":10})\n",
    "ax.text(2, 6, r\"an equation: $E=mc^2$\", fontsize=15)\n",
    "ax.text(3, 2, unicode(\"unicode: Institut f\\374r Festk\\366rperphysik\", \"latin-1\"))\n",
    "ax.text(0.95, 0.01, \"colored text in axes coords\", verticalalignment=\"bottom\", horizontalalignment=\"right\", transform=ax.transAxes, color=\"green\", fontsize=15)\n",
    "ax.plot([2], [1], \"o\")\n",
    "ax.annotate(\"annotate\", xy=(2, 1), xytext=(3, 4), arrowprops=dict(facecolor=\"black\", shrink=0.05))\n",
    "ax.axis([0, 10, 0, 10])\n",
    "plt.show()"
   ]
  },
  {
   "cell_type": "markdown",
   "metadata": {},
   "source": [
    "# Sectie 8 "
   ]
  },
  {
   "cell_type": "code",
   "execution_count": 8,
   "metadata": {
    "ExecuteTime": {
     "end_time": "2016-02-25T20:49:35.781638",
     "start_time": "2016-02-25T20:49:19.808219"
    },
    "collapsed": false,
    "slideshow": {
     "slide_type": "slide"
    }
   },
   "outputs": [],
   "source": [
    "import matplotlib.pyplot as plt\n",
    "import matplotlib.patches as patches\n",
    "# build a rectangle in axes coords\n",
    "left, width = .25, .5\n",
    "bottom, height = .25, .5\n",
    "right = left + width\n",
    "top = bottom + height\n",
    "fig = plt.figure()\n",
    "ax = fig.add_axes([0,0,1,1])\n",
    "# axes coordinates are 0,0 is bottom left and 1,1 is upper right\n",
    "p = patches.Rectangle((left, bottom), width, height,fill=False, transform=ax.transAxes, clip_on=False)\n",
    "ax.add_patch(p)\n",
    "ax.text(left, bottom, \"left top\",horizontalalignment=\"left\",verticalalignment=\"top\",transform=ax.transAxes)\n",
    "ax.text(left, bottom, \"left bottom\",horizontalalignment=\"left\",verticalalignment=\"bottom\",transform=ax.transAxes)\n",
    "ax.text(right, top, \"right bottom\",horizontalalignment=\"right\",verticalalignment=\"bottom\",transform=ax.transAxes)\n",
    "ax.text(right, top, \"right top\",horizontalalignment=\"right\",verticalalignment=\"top\",transform=ax.transAxes)\n",
    "ax.text(right, bottom, \"center top\",horizontalalignment=\"center\",verticalalignment=\"top\",transform=ax.transAxes)\n",
    "ax.text(left, 0.5*(bottom+top), \"right center\",horizontalalignment=\"right\",verticalalignment=\"center\",rotation=\"vertical\",transform=ax.transAxes)\n",
    "ax.text(left, 0.5*(bottom+top), \"left center\",horizontalalignment=\"left\",verticalalignment=\"center\",rotation=\"vertical\",transform=ax.transAxes)\n",
    "ax.text(0.5*(left+right), 0.5*(bottom+top), \"middle\",horizontalalignment=\"center\",verticalalignment=\"center\",fontsize=20, color=\"red\",transform=ax.transAxes)\n",
    "ax.text(right, 0.5*(bottom+top), \"centered\",horizontalalignment=\"center\",verticalalignment=\"center\",rotation=\"vertical\",transform=ax.transAxes)\n",
    "ax.text(left, top, \"rotated\\nwith newlines\",horizontalalignment=\"center\",verticalalignment=\"center\",rotation=45,transform=ax.transAxes)\n",
    "ax.set_axis_off()\n",
    "plt.show()"
   ]
  },
  {
   "cell_type": "markdown",
   "metadata": {},
   "source": [
    "# Sectie 9"
   ]
  },
  {
   "cell_type": "code",
   "execution_count": 9,
   "metadata": {
    "ExecuteTime": {
     "end_time": "2016-02-25T20:49:38.241435",
     "start_time": "2016-02-25T20:49:35.782895"
    },
    "collapsed": false
   },
   "outputs": [],
   "source": [
    "import numpy as np\n",
    "import matplotlib.pyplot as plt\n",
    "t = np.arange(0.0, 2.0, 0.01)\n",
    "s = np.sin(2*np.pi*t)\n",
    "plt.plot(t,s)\n",
    "plt.title(r\"$\\alpha_i > \\beta_i$\", fontsize=20)\n",
    "plt.text(1, -0.6, r\"$\\sum_{i=0}^\\infty x_i$\", fontsize=20)\n",
    "plt.text(0.6, 0.6, r\"$\\mathcal{A}\\mathrm{sin}(2 \\omega t)$\",\n",
    "fontsize=20)\n",
    "plt.xlabel(\"time (s)\")\n",
    "plt.ylabel(\"volts (mV)\")\n",
    "plt.show()"
   ]
  },
  {
   "cell_type": "markdown",
   "metadata": {},
   "source": [
    "# Sectie 10"
   ]
  },
  {
   "cell_type": "code",
   "execution_count": null,
   "metadata": {
    "collapsed": false
   },
   "outputs": [],
   "source": [
    "import matplotlib as mpl\n",
    "mpl.use(\"pgf\")\n",
    "pgf_with_rc_fonts = {\"font.family\": \"serif\",\"font.serif\": [], \"font.sans-serif\": [\"DejaVu Sans\"],}\n",
    "mpl.rcParams.update(pgf_with_rc_fonts)\n",
    "\n",
    "import matplotlib.pyplot as plt\n",
    "plt.figure(figsize=(4.5,2.5))\n",
    "plt.plot(range(5))\n",
    "plt.text(0.5, 3., \"serif\")\n",
    "plt.text(0.5, 2., \"monospace\", family=\"monospace\")\n",
    "plt.text(2.5, 2., \"sans-serif\", family=\"sans-serif\")\n",
    "plt.text(2.5, 1., \"comic sans\", family=\"Comic Sans MS\")\n",
    "plt.xlabel(u\"µ is not $\\\\mu$\")\n",
    "plt.tight_layout(.5)"
   ]
  },
  {
   "cell_type": "markdown",
   "metadata": {},
   "source": [
    "# Sectie 11"
   ]
  },
  {
   "cell_type": "code",
   "execution_count": null,
   "metadata": {
    "collapsed": false
   },
   "outputs": [],
   "source": [
    "import numpy as np\n",
    "import matplotlib.pyplot as plt\n",
    "# Example data\n",
    "t = np.arange(0.0, 1.0 + 0.01, 0.01)\n",
    "s = np.cos(4 * np.pi * t) + 2\n",
    "plt.rc(\"text\", usetex=True)\n",
    "plt.rc(\"font\", family=\"serif\")\n",
    "plt.plot(t, s)\n",
    "plt.xlabel(r\"\\textbf{time} (s)\")\n",
    "plt.ylabel(r\"\\textit{voltage} (mV)\",fontsize=16)\n",
    "plt.title(r\"\\TeX\\ is Number \"\n",
    "r\"$\\displaystyle\\sum_{n=1}^\\infty\\frac{-e^{i\\pi}}{2^n}$!\",\n",
    "fontsize=16, color=\"gray\")\n",
    "# Make room for the ridiculously large title.\n",
    "plt.subplots_adjust(top=0.8)\n",
    "plt.savefig(\"tex_demo\")\n",
    "plt.show()"
   ]
  },
  {
   "cell_type": "markdown",
   "metadata": {},
   "source": [
    "# Sectie 12"
   ]
  },
  {
   "cell_type": "code",
   "execution_count": null,
   "metadata": {
    "collapsed": false
   },
   "outputs": [],
   "source": [
    "import numpy as np\n",
    "import matplotlib.pyplot as plt\n",
    "fig = plt.figure()\n",
    "ax = fig.add_subplot(111, polar=True)\n",
    "r = np.arange(0,1,0.001)\n",
    "theta = 2*2*np.pi*r\n",
    "line, = ax.plot(theta, r, color=\"#ee8d18\", lw=3)\n",
    "ind = 800\n",
    "thisr, thistheta = r[ind], theta[ind]\n",
    "ax.plot([thistheta], [thisr], \"o\")\n",
    "ax.annotate(\"a polar annotation\",\n",
    "\t\t\txy=(thistheta, thisr), # theta, radius \n",
    "\t\t\txytext=(0.05, 0.05), # fraction, fraction \n",
    "\t\t\ttextcoords=\"figure fraction\",\n",
    "\t\t\tarrowprops=dict(facecolor=\"black\", shrink=0.05),horizontalalignment=\"left\",\n",
    "\t\t\tverticalalignment=\"bottom\",\n",
    "\t\t\t)\n",
    "plt.show()"
   ]
  },
  {
   "cell_type": "code",
   "execution_count": null,
   "metadata": {
    "collapsed": false
   },
   "outputs": [],
   "source": [
    "# -*- coding: utf-8 -*-\n",
    "import matplotlib.pyplot as plt\n",
    "fig = plt.figure()\n",
    "fig.suptitle(’bold figure suptitle’, fontsize=14, fontweight=’bold’)\n",
    "ax = fig.add_subplot(111)\n",
    "fig.subplots_adjust(top=0.85)\n",
    "ax.set_title(’axes title’)\n",
    "ax.set_xlabel(’xlabel’)\n",
    "ax.set_ylabel(’ylabel’)\n",
    "ax.text(3, 8, ’boxed italics text in data coords’, style=’italic’, bbox={’facecolor’:’red’, ’alpha’:0.5, ’pad’:10})\n",
    "ax.text(2, 6, r’an equation: $E=mc^2$’, fontsize=15)\n",
    "ax.text(3, 2, unicode(’unicode: Institut f\\374r Festk\\366rperphysik’, ’latin-1’))\n",
    "ax.text(0.95, 0.01, ’colored text in axes coords’, verticalalignment=’bottom’, horizontalalignment=’right’, transform=ax.transAxes, color=’green’, fontsize=15)\n",
    "ax.plot([2], [1], ’o’)\n",
    "ax.annotate(’annotate’, xy=(2, 1), xytext=(3, 4), arrowprops=dict(facecolor=’black’, shrink=0.05))\n",
    "ax.axis([0, 10, 0, 10])\n",
    "plt.show()"
   ]
  },
  {
   "cell_type": "code",
   "execution_count": null,
   "metadata": {
    "collapsed": false
   },
   "outputs": [],
   "source": [
    "import numpy as np\n",
    "import matplotlib.pyplot as plt\n",
    "t = np.arange(0.0, 2.0, 0.01)\n",
    "s = np.sin(2*np.pi*t)\n",
    "plt.plot(t,s)\n",
    "plt.title(r\"$\\alpha_i > \\beta_i$\", fontsize=20)\n",
    "plt.text(1, -0.6, r\"$\\sum_{i=0}^\\infty x_i$\", fontsize=20)\n",
    "plt.text(0.6, 0.6, r\"$\\mathcal{A}\\mathrm{sin}(2 \\omega t)$\",\n",
    "fontsize=20)\n",
    "plt.xlabel(\"Time (s)\")\n",
    "plt.ylabel(\"Volts (mV)\")\n",
    "plt.show()"
   ]
  },
  {
   "cell_type": "code",
   "execution_count": null,
   "metadata": {
    "collapsed": false
   },
   "outputs": [],
   "source": [
    "# -*- coding: utf-8 -*-\n",
    "import matplotlib as mpl\n",
    "mpl.use(\"pgf\")\n",
    "pgf_with_custom_preamble = {\n",
    "\t\"font.family\": \"serif\", # use serif/main font for text elements\n",
    "\t\"text.usetex\": True, # use inline math for ticks\n",
    "\t\"pgf.rcfonts\": False, # don’t setup fonts from rc parameters\n",
    "\t\"pgf.preamble\": [\n",
    "\t\tr\"\\usepackage{units}\", # load additional packages\n",
    "\t\tr\"\\usepackage{metalogo}\",\n",
    "\t\tr\"\\usepackage{unicode-math}\", # unicode math setup\n",
    "\t\tr\"\\setmathfont{xits-math.otf}\",\n",
    "\t\tr\"\\setmainfont{DejaVu Serif}\", # serif font via preamble\n",
    "\t\t]\n",
    "}\n",
    "mpl.rcParams.update(pgf_with_custom_preamble)"
   ]
  },
  {
   "cell_type": "code",
   "execution_count": 1,
   "metadata": {
    "collapsed": false
   },
   "outputs": [],
   "source": [
    "import numpy as np\n",
    "import matplotlib.pyplot as plt\n",
    "from math import sqrt\n",
    "\n",
    "t = range(1000)\n",
    "y = [sqrt(i) for i in t]\n",
    "plt.plot(t, y, color='red', lw=2)\n",
    "plt.fill_between(t, y, color='silver')\n",
    "plt.show()\n"
   ]
  },
  {
   "cell_type": "code",
   "execution_count": 4,
   "metadata": {
    "collapsed": true
   },
   "outputs": [],
   "source": [
    "import matplotlib.pyplot as plt\n",
    "import numpy as np\n",
    "\n",
    "x = np.arange(0.0, 2, 0.01)\n",
    "y1 = np.sin(np.pi*x)\n",
    "y2 = 1.7*np.sin(4*np.pi*x)\n",
    "\n",
    "fig = plt.figure()\n",
    "axes1 = fig.add_subplot(211)\n",
    "axes1.plot(x, y1, x, y2, color='grey')\n",
    "axes1.fill_between(x, y1, y2, where=y2<=y1, facecolor='red', interpolate=True)\n",
    "axes1.fill_between(x, y1, y2, where=y2>=y1, facecolor='green', interpolate=True)\n",
    "axes1.set_title('Blue where y2 <= y1. Gold-color where y2 >= y1.')\n",
    "axes1.set_ylim(-2,2)\n",
    "\n",
    "# Mask values in y2 with value greater than 1.0\n",
    "y2 = np.ma.masked_greater(y2, 1.0)\n",
    "axes2 = fig.add_subplot(212, sharex=axes1)\n",
    "axes2.plot(x, y1, x, y2, color='black')\n",
    "axes2.fill_between(x, y1, y2, where=y2<=y1, facecolor='red', interpolate=True)\n",
    "axes2.fill_between(x, y1, y2, where=y2>=y1, facecolor='green', interpolate=True)\n",
    "axes2.set_title('Same as above, but mask')\n",
    "axes2.set_ylim(-2,2)\n",
    "axes2.grid('on')\n",
    "plt.show()\n"
   ]
  },
  {
   "cell_type": "code",
   "execution_count": 6,
   "metadata": {
    "collapsed": false
   },
   "outputs": [],
   "source": [
    "import numpy as np\n",
    "import matplotlib.cm as cm\n",
    "import matplotlib.pyplot as plt\n",
    "\n",
    "figsize = 7\n",
    "colormap = lambda r: cm.Set2(r / 20.)\n",
    "N = 18 # number of bars\n",
    "\n",
    "\n",
    "fig = plt.figure(figsize=(figsize,figsize))\n",
    "ax = fig.add_axes([0.2, 0.2, 0.7, 0.7], polar=True)\n",
    "\n",
    "theta = np.arange(0.0, 2*np.pi, 2*np.pi/N)\n",
    "radii = 20*np.random.rand(N)\n",
    "width = np.pi/4*np.random.rand(N)\n",
    "bars = ax.bar(theta, radii, width=width, bottom=0.0)\n",
    "for r, bar in zip(radii, bars):\n",
    "    bar.set_facecolor(colormap(r))\n",
    "    bar.set_alpha(0.6)\n",
    "\n",
    "plt.show()\n"
   ]
  },
  {
   "cell_type": "code",
   "execution_count": 11,
   "metadata": {
    "collapsed": false
   },
   "outputs": [],
   "source": [
    "import os\n",
    "import sys\n",
    "\n",
    "import matplotlib.pyplot as plt\n",
    "import matplotlib.cm as cm\n",
    "import numpy as np\n",
    "\n",
    "def build_folders(start_path):\n",
    "    folders = []\n",
    "    \n",
    "    for each in get_directories(start_path):\n",
    "        size = get_size(each)\n",
    "        if size >= 25 * 1024 * 1024:\n",
    "            folders.append({'size' : size, 'path' : each})\n",
    "    \n",
    "    for each in folders:\n",
    "        print(\"Path: \" + os.path.basename(each['path']))\n",
    "        print(\"Size: \" + str(each['size'] / 1024 / 1024) + \" MB\")\n",
    "    return folders\n",
    "\n",
    "def get_size(path):\n",
    "    assert path is not None\n",
    "    \n",
    "    total_size = 0\n",
    "    for dirpath, dirnames, filenames in os.walk(path):\n",
    "        for f in filenames:\n",
    "            fp = os.path.join(dirpath, f)\n",
    "            try:\n",
    "                size = os.path.getsize(fp)\n",
    "                total_size += size\n",
    "                #print \"Size of '{0}' is {1}\".format(fp, size)\n",
    "            except OSError as err:\n",
    "                print(str(err))\n",
    "                pass\n",
    "    return total_size\n",
    "\n",
    "def get_directories(path):\n",
    "    dirs = set()\n",
    "    for dirpath, dirnames, filenames in os.walk(path):\n",
    "        dirs = set([os.path.join(dirpath, x) for x in dirnames])\n",
    "        break # we just want the first one\n",
    "    return dirs\n",
    "\n",
    "def draw(folders):\n",
    "    \"\"\" Draw folder size for given folder\"\"\"\n",
    "    figsize = (8, 8)  # keep the figure square\n",
    "    ldo, rup = 0.1, 0.8  # leftdown and right up normalized\n",
    "    fig = plt.figure(figsize=figsize)\n",
    "    ax = fig.add_axes([ldo, ldo, rup, rup], polar=True)\n",
    "\n",
    "    # transform data\n",
    "    x = [os.path.basename(x['path']) for x in folders]\n",
    "    y = [y['size'] / 1024 / 1024 for y in folders]\n",
    "    theta = np.arange(0.0, 2 * np.pi, 2 * np.pi / len(x))\n",
    "    radii = y\n",
    "    \n",
    "    bars = ax.bar(theta, radii)\n",
    "    middle = 90/len(x)\n",
    "    theta_ticks = [t*(180/np.pi)+middle for t in theta]\n",
    "    lines, labels = plt.thetagrids(theta_ticks, labels=x, frac=0.5)\n",
    "    for step, each in enumerate(labels):\n",
    "        each.set_rotation(theta[step]*(180/np.pi)+ middle)\n",
    "        each.set_fontsize(8)\n",
    "\n",
    "    # configure bars\n",
    "    colormap = lambda r:cm.Set2(r / len(x))\n",
    "    for r, each in zip(radii, bars):\n",
    "        each.set_facecolor(colormap(r))\n",
    "        each.set_alpha(0.5)\n",
    "    \n",
    "    plt.show()"
   ]
  },
  {
   "cell_type": "code",
   "execution_count": 14,
   "metadata": {
    "collapsed": false
   },
   "outputs": [],
   "source": [
    "import random\n",
    "\n",
    "import numpy as np\n",
    "import matplotlib as mpl\n",
    "import matplotlib.pyplot as plt\n",
    "import matplotlib.dates as mdates\n",
    "\n",
    "from mpl_toolkits.mplot3d import Axes3D\n",
    "\n",
    "mpl.rcParams['font.size'] = 10\n",
    "fig = plt.figure()\n",
    "ax = fig.add_subplot(111, projection='3d')\n",
    "\n",
    "for z in [2011, 2012, 2013, 2014]:\n",
    "    xs = range(1,13)\n",
    "    ys = 1000 * np.random.rand(12)\n",
    "    \n",
    "    color = plt.cm.Set2(random.choice(range(plt.cm.Set2.N)))\n",
    "    ax.bar(xs, ys, zs=z, zdir='y', color=color, alpha=0.8)\n",
    "\n",
    "ax.xaxis.set_major_locator(mpl.ticker.FixedLocator(xs))\n",
    "ax.yaxis.set_major_locator(mpl.ticker.FixedLocator(ys))\n",
    "\n",
    "\n",
    "ax.set_xlabel('Month')\n",
    "ax.set_ylabel('Year')\n",
    "ax.set_zlabel('Sales Net [usd]')\n",
    "\n",
    "plt.show()"
   ]
  },
  {
   "cell_type": "code",
   "execution_count": 15,
   "metadata": {
    "collapsed": true
   },
   "outputs": [],
   "source": [
    "from mpl_toolkits.mplot3d import Axes3D\n",
    "from matplotlib import cm\n",
    "import matplotlib.pyplot as plt\n",
    "import numpy as np\n",
    "\n",
    "n_angles = 36\n",
    "n_radii = 8\n",
    "\n",
    "# An array of radii\n",
    "# Does not include radius r=0, this is to eliminate duplicate points\n",
    "radii = np.linspace(0.125, 1.0, n_radii)\n",
    "\n",
    "# An array of angles\n",
    "angles = np.linspace(0, 2*np.pi, n_angles, endpoint=False)\n",
    "\n",
    "# Repeat all angles for each radius\n",
    "angles = np.repeat(angles[...,np.newaxis], n_radii, axis=1)\n",
    "\n",
    "# Convert polar (radii, angles) coords to cartesian (x, y) coords\n",
    "# (0, 0) is added here. There are no duplicate points in the (x, y) plane\n",
    "x = np.append(0, (radii*np.cos(angles)).flatten())\n",
    "y = np.append(0, (radii*np.sin(angles)).flatten())\n",
    "# Pringle surface\n",
    "\n",
    "z = np.sin(-x*y)\n",
    "\n",
    "fig = plt.figure()\n",
    "ax = fig.gca(projection='3d')\n",
    "\n",
    "ax.plot_trisurf(x, y, z, cmap=cm.jet, linewidth=0.2)\n",
    "\n",
    "plt.show()"
   ]
  },
  {
   "cell_type": "code",
   "execution_count": 16,
   "metadata": {
    "collapsed": true
   },
   "outputs": [],
   "source": [
    "import numpy as np\n",
    "import matplotlib.pyplot as plt\n",
    "import matplotlib as mpl\n",
    "\n",
    "from mpl_toolkits.mplot3d import Axes3D\n",
    "\n",
    "mpl.rcParams['font.size'] = 10\n",
    "\n",
    "samples = 25\n",
    "\n",
    "x = np.random.normal(5, 1, samples)\n",
    "y = np.random.normal(3, .5, samples)\n",
    "\n",
    "fig = plt.figure()\n",
    "ax1 = fig.add_subplot(211, projection='3d')\n",
    "\n",
    "# compute two-dimensional histogram\n",
    "hist, xedges, yedges = np.histogram2d(x, y, bins=10)\n",
    "\n",
    "# compute location of the x,y bar positions\n",
    "elements = (len(xedges) - 1) * (len(yedges) - 1)\n",
    "xpos, ypos = np.meshgrid(xedges[:-1]+.25, yedges[:-1]+.25)\n",
    "\n",
    "xpos = xpos.flatten()\n",
    "ypos = ypos.flatten()\n",
    "zpos = np.zeros(elements)\n",
    "\n",
    "# make every bar the same width in base\n",
    "dx = .1 * np.ones_like(zpos)\n",
    "dy = dx.copy()\n",
    "\n",
    "# this defines the height of the bar\n",
    "dz = hist.flatten()\n",
    "\n",
    "ax1.bar3d(xpos, ypos, zpos, dx, dy, dz, color='b', alpha=0.4)\n",
    "ax1.set_xlabel('X Axis')\n",
    "ax1.set_ylabel('Y Axis')\n",
    "ax1.set_zlabel('Z Axis')\n",
    "\n",
    "# plot the same x,y correlation in scatter plot \n",
    "# for comparison\n",
    "ax2 = fig.add_subplot(212)\n",
    "ax2.scatter(x, y)\n",
    "ax2.set_xlabel('X Axis')\n",
    "ax2.set_ylabel('Y Axis')\n",
    "\n",
    "plt.show()"
   ]
  },
  {
   "cell_type": "code",
   "execution_count": 19,
   "metadata": {
    "collapsed": false
   },
   "outputs": [
    {
     "name": "stderr",
     "output_type": "stream",
     "text": [
      "/Users/martin/anaconda/lib/python3.5/site-packages/matplotlib/animation.py:752: UserWarning: MovieWriter ffmpeg_file unavailable\n",
      "  warnings.warn(\"MovieWriter %s unavailable\" % writer)\n"
     ]
    },
    {
     "ename": "ValueError",
     "evalue": "Cannot save animation: no writers are available. Please install mencoder or ffmpeg to save animations.",
     "output_type": "error",
     "traceback": [
      "\u001b[0;31m---------------------------------------------------------------------------\u001b[0m",
      "\u001b[0;31mIndexError\u001b[0m                                Traceback (most recent call last)",
      "\u001b[0;32m/Users/martin/anaconda/lib/python3.5/site-packages/matplotlib/animation.py\u001b[0m in \u001b[0;36msave\u001b[0;34m(self, filename, writer, fps, dpi, codec, bitrate, extra_args, metadata, extra_anim, savefig_kwargs)\u001b[0m\n\u001b[1;32m    754\u001b[0m                 \u001b[0;32mtry\u001b[0m\u001b[0;34m:\u001b[0m\u001b[0;34m\u001b[0m\u001b[0m\n\u001b[0;32m--> 755\u001b[0;31m                     writer = writers[writers.list()[0]](fps, codec, bitrate,\n\u001b[0m\u001b[1;32m    756\u001b[0m                                                         \u001b[0mextra_args\u001b[0m\u001b[0;34m=\u001b[0m\u001b[0mextra_args\u001b[0m\u001b[0;34m,\u001b[0m\u001b[0;34m\u001b[0m\u001b[0m\n",
      "\u001b[0;31mIndexError\u001b[0m: list index out of range",
      "\nDuring handling of the above exception, another exception occurred:\n",
      "\u001b[0;31mValueError\u001b[0m                                Traceback (most recent call last)",
      "\u001b[0;32m<ipython-input-19-51b346e1f3ed>\u001b[0m in \u001b[0;36m<module>\u001b[0;34m()\u001b[0m\n\u001b[1;32m     30\u001b[0m \u001b[0;31m# and later processed by ffmpeg encoder into MPEG4 file\u001b[0m\u001b[0;34m\u001b[0m\u001b[0;34m\u001b[0m\u001b[0m\n\u001b[1;32m     31\u001b[0m \u001b[0;31m# we can pass various arguments to ffmpeg via extra_args\u001b[0m\u001b[0;34m\u001b[0m\u001b[0;34m\u001b[0m\u001b[0m\n\u001b[0;32m---> 32\u001b[0;31m \u001b[0manimator\u001b[0m\u001b[0;34m.\u001b[0m\u001b[0msave\u001b[0m\u001b[0;34m(\u001b[0m\u001b[0;34m'basic_animation.mp4'\u001b[0m\u001b[0;34m,\u001b[0m \u001b[0mfps\u001b[0m\u001b[0;34m=\u001b[0m\u001b[0;36m30\u001b[0m\u001b[0;34m,\u001b[0m \u001b[0mextra_args\u001b[0m\u001b[0;34m=\u001b[0m\u001b[0;34m[\u001b[0m\u001b[0;34m'-vcodec'\u001b[0m\u001b[0;34m,\u001b[0m \u001b[0;34m'libx264'\u001b[0m\u001b[0;34m]\u001b[0m\u001b[0;34m,\u001b[0m \u001b[0mwriter\u001b[0m\u001b[0;34m=\u001b[0m\u001b[0;34m'ffmpeg_file'\u001b[0m\u001b[0;34m)\u001b[0m\u001b[0;34m\u001b[0m\u001b[0m\n\u001b[0m\u001b[1;32m     33\u001b[0m \u001b[0mplt\u001b[0m\u001b[0;34m.\u001b[0m\u001b[0mshow\u001b[0m\u001b[0;34m(\u001b[0m\u001b[0;34m)\u001b[0m\u001b[0;34m\u001b[0m\u001b[0m\n",
      "\u001b[0;32m/Users/martin/anaconda/lib/python3.5/site-packages/matplotlib/animation.py\u001b[0m in \u001b[0;36msave\u001b[0;34m(self, filename, writer, fps, dpi, codec, bitrate, extra_args, metadata, extra_anim, savefig_kwargs)\u001b[0m\n\u001b[1;32m    757\u001b[0m                                                         metadata=metadata)\n\u001b[1;32m    758\u001b[0m                 \u001b[0;32mexcept\u001b[0m \u001b[0mIndexError\u001b[0m\u001b[0;34m:\u001b[0m\u001b[0;34m\u001b[0m\u001b[0m\n\u001b[0;32m--> 759\u001b[0;31m                     raise ValueError(\"Cannot save animation: no writers are \"\n\u001b[0m\u001b[1;32m    760\u001b[0m                                      \u001b[0;34m\"available. Please install mencoder or \"\u001b[0m\u001b[0;34m\u001b[0m\u001b[0m\n\u001b[1;32m    761\u001b[0m                                      \"ffmpeg to save animations.\")\n",
      "\u001b[0;31mValueError\u001b[0m: Cannot save animation: no writers are available. Please install mencoder or ffmpeg to save animations."
     ]
    }
   ],
   "source": [
    "import numpy as np\n",
    "from matplotlib import pyplot as plt\n",
    "from matplotlib import animation\n",
    "\n",
    "fig = plt.figure()\n",
    "ax = plt.axes(xlim=(0, 2), ylim=(-2, 2))\n",
    "line, = ax.plot([], [], lw=2)\n",
    "\n",
    "def init():\n",
    "    \"\"\"Clears current frame.\"\"\"\n",
    "    line.set_data([], [])\n",
    "    return line,\n",
    "\n",
    "\n",
    "def animate(i):\n",
    "    \"\"\"Draw figure.\n",
    "    @param i: Frame counter\n",
    "    @type i: int\n",
    "    \"\"\"\n",
    "    x = np.linspace(0, 2, 1000)\n",
    "    y = np.sin(2 * np.pi * (x - 0.01 * i)) * np.cos(22 * np.pi * (x - 0.01 * i))\n",
    "    line.set_data(x, y)\n",
    "    return line,\n",
    "# This call puts the work in motion\n",
    "# connecting init and animate functions and figure we want to draw\n",
    "animator = animation.FuncAnimation(fig, animate, init_func=init, frames=200, interval=20, blit=True)\n",
    "\n",
    "# This call creates the video file.\n",
    "# Temporary, every frame is saved as PNG file\n",
    "# and later processed by ffmpeg encoder into MPEG4 file\n",
    "# we can pass various arguments to ffmpeg via extra_args\n",
    "animator.save('basic_animation.mp4', fps=30, extra_args=['-vcodec', 'libx264'], writer='ffmpeg_file')\n",
    "plt.show()"
   ]
  },
  {
   "cell_type": "code",
   "execution_count": null,
   "metadata": {
    "collapsed": true
   },
   "outputs": [],
   "source": []
  }
 ],
 "metadata": {
  "kernelspec": {
   "display_name": "Python 3",
   "language": "python",
   "name": "python3"
  },
  "language_info": {
   "codemirror_mode": {
    "name": "ipython",
    "version": 3
   },
   "file_extension": ".py",
   "mimetype": "text/x-python",
   "name": "python",
   "nbconvert_exporter": "python",
   "pygments_lexer": "ipython3",
   "version": "3.5.1"
  },
  "latex_envs": {
   "bibliofile": "biblio.bib",
   "cite_by": "apalike",
   "current_citInitial": 1,
   "eqLabelWithNumbers": true,
   "eqNumInitial": 0
  }
 },
 "nbformat": 4,
 "nbformat_minor": 0
}
