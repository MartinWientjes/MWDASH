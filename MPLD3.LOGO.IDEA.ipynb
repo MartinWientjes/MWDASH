{
 "cells": [
  {
   "cell_type": "code",
   "execution_count": 2,
   "metadata": {
    "ExecuteTime": {
     "end_time": "2016-02-28T20:11:59.810586",
     "start_time": "2016-02-28T20:11:59.551270"
    },
    "collapsed": false
   },
   "outputs": [
    {
     "ename": "RuntimeError",
     "evalue": "Python is not installed as a framework. The Mac OS X backend will not be able to function correctly if Python is not installed as a framework. See the Python documentation for more information on installing Python as a framework on Mac OS X. Please either reinstall Python as a framework, or try one of the other backends. If you are Working with Matplotlib in a virtual enviroment see 'Working with Matplotlib in Virtual environments' in the Matplotlib FAQ",
     "output_type": "error",
     "traceback": [
      "\u001b[0;31m---------------------------------------------------------------------------\u001b[0m",
      "\u001b[0;31mRuntimeError\u001b[0m                              Traceback (most recent call last)",
      "\u001b[0;32m<ipython-input-2-3112c7e58fd4>\u001b[0m in \u001b[0;36m<module>\u001b[0;34m()\u001b[0m\n\u001b[1;32m      1\u001b[0m \u001b[0;31m# Author: Jake VanderPlas\u001b[0m\u001b[0;34m\u001b[0m\u001b[0;34m\u001b[0m\u001b[0m\n\u001b[1;32m      2\u001b[0m \u001b[0;34m\u001b[0m\u001b[0m\n\u001b[0;32m----> 3\u001b[0;31m \u001b[0;32mimport\u001b[0m \u001b[0mmatplotlib\u001b[0m\u001b[0;34m.\u001b[0m\u001b[0mpyplot\u001b[0m \u001b[0;32mas\u001b[0m \u001b[0mplt\u001b[0m\u001b[0;34m\u001b[0m\u001b[0m\n\u001b[0m\u001b[1;32m      4\u001b[0m \u001b[0;32mfrom\u001b[0m \u001b[0mmatplotlib\u001b[0m \u001b[0;32mimport\u001b[0m \u001b[0mimage\u001b[0m\u001b[0;34m,\u001b[0m \u001b[0mpatches\u001b[0m\u001b[0;34m,\u001b[0m \u001b[0mcolors\u001b[0m\u001b[0;34m\u001b[0m\u001b[0m\n\u001b[1;32m      5\u001b[0m \u001b[0;32mfrom\u001b[0m \u001b[0mmatplotlib\u001b[0m\u001b[0;34m.\u001b[0m\u001b[0mcolors\u001b[0m \u001b[0;32mimport\u001b[0m \u001b[0mcolorConverter\u001b[0m\u001b[0;34m\u001b[0m\u001b[0m\n",
      "\u001b[0;32m/Users/martin/anaconda/lib/python3.5/site-packages/matplotlib/pyplot.py\u001b[0m in \u001b[0;36m<module>\u001b[0;34m()\u001b[0m\n\u001b[1;32m    112\u001b[0m \u001b[0;34m\u001b[0m\u001b[0m\n\u001b[1;32m    113\u001b[0m \u001b[0;32mfrom\u001b[0m \u001b[0mmatplotlib\u001b[0m\u001b[0;34m.\u001b[0m\u001b[0mbackends\u001b[0m \u001b[0;32mimport\u001b[0m \u001b[0mpylab_setup\u001b[0m\u001b[0;34m\u001b[0m\u001b[0m\n\u001b[0;32m--> 114\u001b[0;31m \u001b[0m_backend_mod\u001b[0m\u001b[0;34m,\u001b[0m \u001b[0mnew_figure_manager\u001b[0m\u001b[0;34m,\u001b[0m \u001b[0mdraw_if_interactive\u001b[0m\u001b[0;34m,\u001b[0m \u001b[0m_show\u001b[0m \u001b[0;34m=\u001b[0m \u001b[0mpylab_setup\u001b[0m\u001b[0;34m(\u001b[0m\u001b[0;34m)\u001b[0m\u001b[0;34m\u001b[0m\u001b[0m\n\u001b[0m\u001b[1;32m    115\u001b[0m \u001b[0;34m\u001b[0m\u001b[0m\n\u001b[1;32m    116\u001b[0m \u001b[0m_IP_REGISTERED\u001b[0m \u001b[0;34m=\u001b[0m \u001b[0;32mNone\u001b[0m\u001b[0;34m\u001b[0m\u001b[0m\n",
      "\u001b[0;32m/Users/martin/anaconda/lib/python3.5/site-packages/matplotlib/backends/__init__.py\u001b[0m in \u001b[0;36mpylab_setup\u001b[0;34m()\u001b[0m\n\u001b[1;32m     30\u001b[0m     \u001b[0;31m# imports. 0 means only perform absolute imports.\u001b[0m\u001b[0;34m\u001b[0m\u001b[0;34m\u001b[0m\u001b[0m\n\u001b[1;32m     31\u001b[0m     backend_mod = __import__(backend_name,\n\u001b[0;32m---> 32\u001b[0;31m                              globals(),locals(),[backend_name],0)\n\u001b[0m\u001b[1;32m     33\u001b[0m \u001b[0;34m\u001b[0m\u001b[0m\n\u001b[1;32m     34\u001b[0m     \u001b[0;31m# Things we pull in from all backends\u001b[0m\u001b[0;34m\u001b[0m\u001b[0;34m\u001b[0m\u001b[0m\n",
      "\u001b[0;32m/Users/martin/anaconda/lib/python3.5/site-packages/matplotlib/backends/backend_macosx.py\u001b[0m in \u001b[0;36m<module>\u001b[0;34m()\u001b[0m\n\u001b[1;32m     22\u001b[0m \u001b[0;34m\u001b[0m\u001b[0m\n\u001b[1;32m     23\u001b[0m \u001b[0;32mimport\u001b[0m \u001b[0mmatplotlib\u001b[0m\u001b[0;34m\u001b[0m\u001b[0m\n\u001b[0;32m---> 24\u001b[0;31m \u001b[0;32mfrom\u001b[0m \u001b[0mmatplotlib\u001b[0m\u001b[0;34m.\u001b[0m\u001b[0mbackends\u001b[0m \u001b[0;32mimport\u001b[0m \u001b[0m_macosx\u001b[0m\u001b[0;34m\u001b[0m\u001b[0m\n\u001b[0m\u001b[1;32m     25\u001b[0m \u001b[0;34m\u001b[0m\u001b[0m\n\u001b[1;32m     26\u001b[0m \u001b[0;34m\u001b[0m\u001b[0m\n",
      "\u001b[0;31mRuntimeError\u001b[0m: Python is not installed as a framework. The Mac OS X backend will not be able to function correctly if Python is not installed as a framework. See the Python documentation for more information on installing Python as a framework on Mac OS X. Please either reinstall Python as a framework, or try one of the other backends. If you are Working with Matplotlib in a virtual enviroment see 'Working with Matplotlib in Virtual environments' in the Matplotlib FAQ"
     ]
    }
   ],
   "source": [
    "# Author: Jake VanderPlas\n",
    "\n",
    "import matplotlib.pyplot as plt\n",
    "from matplotlib import image, patches, colors\n",
    "from matplotlib.colors import colorConverter\n",
    "import numpy as np\n",
    "import mpld3\n",
    "\n",
    "imsize = np.array([319, 217])\n",
    "center = [108.5, 108.5]\n",
    "max_radius = 108.5\n",
    "radii = np.linspace(16, max_radius, 5)\n",
    "angles = np.arange(0, 360, 45)\n",
    "\n",
    "\n",
    "fig = plt.figure(figsize=imsize / 50.)\n",
    "ax = fig.add_axes([0, 0, 1, 1], frameon=False, xticks=[], yticks=[])\n",
    "\n",
    "# Create a clip path for the elements\n",
    "clip_path = patches.Rectangle((0, 0), imsize[0], imsize[1],\n",
    "                              transform=ax.transData)\n",
    "\n",
    "# Create the background gradient\n",
    "x = np.array([0, 104, 196, 300])\n",
    "y = np.linspace(150, 450, 86)[:, None]\n",
    "\n",
    "c = np.cos(-np.pi / 4)\n",
    "s = np.sin(-np.pi / 4)\n",
    "X, Y = (c * x - s * y) - 116, (s * x + c * y)\n",
    "C = np.arange(255).reshape((3, 85)).T\n",
    "C = C[::-1, :]\n",
    "cmap = colors.LinearSegmentedColormap.from_list(\"mpld3\",\n",
    "                                                [[0.97, 0.6, 0.29],\n",
    "                                                 [0.97, 0.59, 0.27],\n",
    "                                                 [0.97, 0.58, 0.25],\n",
    "                                                 [0.95, 0.44, 0.34],\n",
    "                                                 [0.92, 0.51, 0.29],\n",
    "                                                 [0.68, 0.21, 0.20]])\n",
    "mesh = ax.pcolormesh(X, Y, C, cmap=cmap, shading='gourand', zorder=0)\n",
    "mesh.set_clip_path(clip_path)\n",
    "\n",
    "# cut-off the background to form the \"D\" and \"3\" using white patches\n",
    "# (this could also be done with a clip path)\n",
    "kwargs = dict(fc='white', ec='none', zorder=1)\n",
    "ax.add_patch(patches.Rectangle([0, 0], center[0], imsize[1], **kwargs))\n",
    "\n",
    "ax.add_patch(patches.Circle(center, radii[2], **kwargs))\n",
    "ax.add_patch(patches.Wedge(center, 127, -90, 90, width=18.5, **kwargs))\n",
    "\n",
    "ax.add_patch(patches.Circle((252, 66), 18, **kwargs))\n",
    "ax.add_patch(patches.Rectangle([216, 48], 36, 36, **kwargs))\n",
    "ax.add_patch(patches.Wedge((252, 66), 101, -90, 40.1, width=35, **kwargs))\n",
    "\n",
    "ax.add_patch(patches.Circle((252, 151), 18, **kwargs))\n",
    "ax.add_patch(patches.Rectangle([216, 133], 36, 36, **kwargs))\n",
    "ax.add_patch(patches.Wedge((252, 151), 101, -40.1, 90, width=35, **kwargs))\n",
    "\n",
    "ax.add_patch(patches.Rectangle([-200, -200], 719, 200, **kwargs))\n",
    "ax.add_patch(patches.Rectangle([-200, -200], 200, 617, **kwargs))\n",
    "ax.add_patch(patches.Rectangle([-200, imsize[1]], 719, 200, **kwargs))\n",
    "ax.add_patch(patches.Rectangle([imsize[0], -200], 200, 617, **kwargs))\n",
    "\n",
    "# plot circles and lines\n",
    "for radius in radii:\n",
    "    ax.add_patch(patches.Circle(center, radius, lw=0.5,\n",
    "                                ec='gray', fc='none', zorder=2))\n",
    "for angle in angles:\n",
    "    dx, dy = np.sin(np.radians(angle)), np.cos(np.radians(angle))\n",
    "    ax.plot([max_radius * (1 - dx), max_radius * (1 + dx)],\n",
    "            [max_radius * (1 - dy), max_radius * (1 + dy)],\n",
    "            '-', color='gray', lw=0.5, zorder=2)\n",
    "\n",
    "# plot wedges within the graph\n",
    "wedges = [(98, 231, 258, '#FF6600'),\n",
    "          (85, 170, 205, '#FFC500'),\n",
    "          (60, 80, 103, '#7DFF78'),\n",
    "          (96, 45, 58, '#FD7C1A'),\n",
    "          (73, 291, 308, '#CCFF28'),\n",
    "          (47, 146, 155, '#28FFCC'),\n",
    "          (25, 340, 360, '#004AFF')]\n",
    "\n",
    "for (radius, theta1, theta2, color) in wedges:\n",
    "    ax.add_patch(patches.Wedge(center, radius, theta1, theta2,\n",
    "                               fc=color, ec='black', alpha=0.6, zorder=3))\n",
    "\n",
    "for patch in ax.patches:\n",
    "    patch.set_clip_path(clip_path)\n",
    "\n",
    "ax.set_xlim(0, imsize[0])\n",
    "ax.set_ylim(imsize[1], 0)\n",
    "\n",
    "#plt.savefig('mpld3.png')\n",
    "mpld3.show()"
   ]
  },
  {
   "cell_type": "code",
   "execution_count": null,
   "metadata": {
    "collapsed": true
   },
   "outputs": [],
   "source": []
  }
 ],
 "metadata": {
  "kernelspec": {
   "display_name": "Python 3",
   "language": "python",
   "name": "python3"
  },
  "language_info": {
   "codemirror_mode": {
    "name": "ipython",
    "version": 3
   },
   "file_extension": ".py",
   "mimetype": "text/x-python",
   "name": "python",
   "nbconvert_exporter": "python",
   "pygments_lexer": "ipython3",
   "version": "3.5.1"
  },
  "latex_envs": {
   "bibliofile": "biblio.bib",
   "cite_by": "apalike",
   "current_citInitial": 1,
   "eqLabelWithNumbers": true,
   "eqNumInitial": 0
  },
  "toc": {
   "toc_cell": false,
   "toc_number_sections": true,
   "toc_threshold": 4,
   "toc_window_display": false
  }
 },
 "nbformat": 4,
 "nbformat_minor": 0
}
