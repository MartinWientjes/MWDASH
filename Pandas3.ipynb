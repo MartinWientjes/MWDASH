{
 "cells": [
  {
   "cell_type": "code",
   "execution_count": null,
   "metadata": {
    "collapsed": true
   },
   "outputs": [],
   "source": [
    "import pandas as pd\n",
    "import numpy as np"
   ]
  },
  {
   "cell_type": "code",
   "execution_count": null,
   "metadata": {
    "collapsed": false
   },
   "outputs": [],
   "source": [
    "url = 'https://raw.github.com/pydata/pandas/master/pandas/tests/data/tips.csv'\n",
    "tips = pd.read_csv(url)\n",
    "tips"
   ]
  },
  {
   "cell_type": "code",
   "execution_count": null,
   "metadata": {
    "collapsed": false
   },
   "outputs": [],
   "source": [
    "#SELECT total_bill, tip, smoker, time FROM tips LIMIT 5;\n",
    "tips[['total_bill', 'tip', 'smoker', 'time']].head(5)"
   ]
  },
  {
   "cell_type": "code",
   "execution_count": null,
   "metadata": {
    "collapsed": false
   },
   "outputs": [],
   "source": [
    "# SELECT * FROM tips WHERE time = 'Dinner' LIMIT 5;\n",
    "tips[tips['time'] == 'Dinner'].head(5)"
   ]
  },
  {
   "cell_type": "code",
   "execution_count": null,
   "metadata": {
    "collapsed": false
   },
   "outputs": [],
   "source": [
    "# SELECT * FROM tips WHERE time = 'Dinner' AND tip > 5.00;\n",
    "tips[(tips['time'] == 'Dinner') & (tips['tip'] > 5.00)]"
   ]
  },
  {
   "cell_type": "code",
   "execution_count": null,
   "metadata": {
    "collapsed": false
   },
   "outputs": [],
   "source": [
    "# SELECT * FROM tips WHERE size >= 5 OR total_bill > 45;\n",
    "tips[(tips['size'] >= 5) | (tips['total_bill'] > 45)]"
   ]
  },
  {
   "cell_type": "code",
   "execution_count": null,
   "metadata": {
    "collapsed": false
   },
   "outputs": [],
   "source": [
    "# SELECT * FROM frame WHERE col2 IS NULL;\n",
    "frame[frame['col2'].isnull()]"
   ]
  },
  {
   "cell_type": "code",
   "execution_count": null,
   "metadata": {
    "collapsed": false
   },
   "outputs": [],
   "source": [
    "# SELECT * FROM frame WHERE col1 IS NOT NULL;\n",
    "frame[frame['col1'].notnull()]"
   ]
  },
  {
   "cell_type": "code",
   "execution_count": null,
   "metadata": {
    "collapsed": false
   },
   "outputs": [],
   "source": [
    "# SELECT sex, count(*) FROM tips GROUP BY sex;\n",
    "tips.groupby('sex').size()\n",
    "tips.groupby('sex').count()\n",
    "tips.groupby('sex')['total_bill'].count()"
   ]
  },
  {
   "cell_type": "code",
   "execution_count": null,
   "metadata": {
    "collapsed": false
   },
   "outputs": [],
   "source": [
    "# SELECT day, AVG(tip), COUNT(*) FROM tips GROUP BY day;\n",
    "tips.groupby('day').agg({'tip': np.mean, 'day': np.size})"
   ]
  },
  {
   "cell_type": "code",
   "execution_count": null,
   "metadata": {
    "collapsed": false
   },
   "outputs": [],
   "source": [
    "# SELECT smoker, day, COUNT(*), AVG(tip) FROM tips GROUP BY smoker, day;\n",
    "tips.groupby(['smoker', 'day']).agg({'tip': [np.size, np.mean]})"
   ]
  },
  {
   "cell_type": "code",
   "execution_count": null,
   "metadata": {
    "collapsed": false
   },
   "outputs": [],
   "source": [
    "# SELECT * FROM df1 INNER JOIN df2 ON df1.key = df2.key;\n",
    "pd.merge(df1, df2, on='key')\n",
    "indexed_df2 = df2.set_index('key')\n",
    "pd.merge(df1, indexed_df2, left_on='key', right_index=True)"
   ]
  },
  {
   "cell_type": "code",
   "execution_count": null,
   "metadata": {
    "collapsed": false
   },
   "outputs": [],
   "source": [
    "# SELECT * FROM df1 LEFT OUTER JOIN df2 ON df1.key = df2.key;\n",
    "pd.merge(df1, df2, on='key', how='left')"
   ]
  },
  {
   "cell_type": "code",
   "execution_count": null,
   "metadata": {
    "collapsed": false
   },
   "outputs": [],
   "source": [
    "# SELECT * FROM df1 RIGHT OUTER JOIN df2 ON df1.key = df2.key;\n",
    "pd.merge(df1, df2, on='key')\n",
    "indexed_df2 = df2.set_index('key')\n",
    "pd.merge(df1, indexed_df2, left_on='key', right_index=True)"
   ]
  },
  {
   "cell_type": "code",
   "execution_count": null,
   "metadata": {
    "collapsed": false
   },
   "outputs": [],
   "source": [
    "# SELECT city, rank FROM df1 UNION ALL SELECT city, rank FROM df2;\n",
    "pd.concat([df1, df2])"
   ]
  }
 ],
 "metadata": {
  "kernelspec": {
   "display_name": "Python 3",
   "language": "python",
   "name": "python3"
  },
  "language_info": {
   "codemirror_mode": {
    "name": "ipython",
    "version": 3
   },
   "file_extension": ".py",
   "mimetype": "text/x-python",
   "name": "python",
   "nbconvert_exporter": "python",
   "pygments_lexer": "ipython3",
   "version": "3.5.0"
  },
  "latex_envs": {
   "bibliofile": "biblio.bib",
   "cite_by": "apalike",
   "current_citInitial": 1,
   "eqLabelWithNumbers": true,
   "eqNumInitial": 0
  },
  "toc": {
   "toc_cell": false,
   "toc_number_sections": true,
   "toc_threshold": 4,
   "toc_window_display": false
  }
 },
 "nbformat": 4,
 "nbformat_minor": 0
}
