{
 "cells": [
  {
   "cell_type": "markdown",
   "metadata": {},
   "source": [
    "# Control flow : drop the colon (:) and add end"
   ]
  },
  {
   "cell_type": "code",
   "execution_count": 2,
   "metadata": {
    "collapsed": false
   },
   "outputs": [
    {
     "name": "stdout",
     "output_type": "stream",
     "text": [
      "0\t1\t2\t3\t4\t"
     ]
    }
   ],
   "source": [
    "i = 0\n",
    "while i < 5 \n",
    "    print(\"$i\\t\")\n",
    "    i += 1 \n",
    "end"
   ]
  },
  {
   "cell_type": "code",
   "execution_count": 5,
   "metadata": {
    "collapsed": false
   },
   "outputs": [
    {
     "name": "stdout",
     "output_type": "stream",
     "text": [
      "Sum is 10\n"
     ]
    }
   ],
   "source": [
    "total = 0 \n",
    "for i = 1:10\n",
    "    total+= 1\n",
    "end\n",
    "println(\"Sum is $total\")    "
   ]
  },
  {
   "cell_type": "code",
   "execution_count": 6,
   "metadata": {
    "collapsed": false
   },
   "outputs": [
    {
     "data": {
      "text/plain": [
       "UnitRange{Int64}"
      ]
     },
     "execution_count": 6,
     "metadata": {},
     "output_type": "execute_result"
    }
   ],
   "source": [
    "typeof(1:10)"
   ]
  },
  {
   "cell_type": "code",
   "execution_count": 7,
   "metadata": {
    "collapsed": false
   },
   "outputs": [
    {
     "name": "stderr",
     "output_type": "stream",
     "text": [
      "WARNING: [a] concatenation is deprecated; use collect(a) instead\n"
     ]
    },
    {
     "data": {
      "text/plain": [
       "5-element Array{Int64,1}:\n",
       " 1\n",
       " 3\n",
       " 5\n",
       " 7\n",
       " 9"
      ]
     },
     "execution_count": 7,
     "metadata": {},
     "output_type": "execute_result"
    },
    {
     "name": "stderr",
     "output_type": "stream",
     "text": [
      " in depwarn at deprecated.jl:73\n",
      " in oldstyle_vcat_warning at /Applications/Julia.app/Contents/Resources/julia/lib/julia/sys.dylib\n",
      " in vect at abstractarray.jl:32\n",
      " in include_string at loading.jl:266\n",
      " in execute_request_0x535c5df2 at /Users/martin/.julia/v0.4/IJulia/src/execute_request.jl:177\n",
      " in eventloop at /Users/martin/.julia/v0.4/IJulia/src/IJulia.jl:141\n",
      " in anonymous at task.jl:447\n",
      "while loading In[7], in expression starting on line 1\n"
     ]
    }
   ],
   "source": [
    "[1:2:10]"
   ]
  },
  {
   "cell_type": "code",
   "execution_count": 8,
   "metadata": {
    "collapsed": false
   },
   "outputs": [
    {
     "data": {
      "text/plain": [
       "6-element Array{Int64,1}:\n",
       "  1\n",
       "  3\n",
       "  5\n",
       "  7\n",
       "  9\n",
       " 17"
      ]
     },
     "execution_count": 8,
     "metadata": {},
     "output_type": "execute_result"
    }
   ],
   "source": [
    "[1:2:10, 17]"
   ]
  },
  {
   "cell_type": "code",
   "execution_count": 9,
   "metadata": {
    "collapsed": false
   },
   "outputs": [
    {
     "name": "stdout",
     "output_type": "stream",
     "text": [
      "search: "
     ]
    },
    {
     "data": {
      "text/latex": [
       "\\begin{verbatim}\n",
       "dot(x, y)\n",
       "⋅(x,y)\n",
       "\\end{verbatim}\n",
       "Compute the dot product. For complex vectors, the first vector is conjugated.\n"
      ],
      "text/markdown": [
       "```\n",
       "dot(x, y)\n",
       "⋅(x,y)\n",
       "```\n",
       "\n",
       "Compute the dot product. For complex vectors, the first vector is conjugated.\n"
      ],
      "text/plain": [
       "```\n",
       "dot(x, y)\n",
       "⋅(x,y)\n",
       "```\n",
       "\n",
       "Compute the dot product. For complex vectors, the first vector is conjugated.\n"
      ]
     },
     "execution_count": 9,
     "metadata": {},
     "output_type": "execute_result"
    },
    {
     "name": "stdout",
     "output_type": "stream",
     "text": [
      "dot vecdot STDOUT @doc_str midpoints fieldoffsets UDPSocket\n",
      "\n"
     ]
    }
   ],
   "source": [
    "?dot"
   ]
  },
  {
   "cell_type": "code",
   "execution_count": 10,
   "metadata": {
    "collapsed": false
   },
   "outputs": [
    {
     "ename": "LoadError",
     "evalue": "LoadError: UndefVarError: help not defined\nwhile loading In[10], in expression starting on line 1",
     "output_type": "error",
     "traceback": [
      "LoadError: UndefVarError: help not defined\nwhile loading In[10], in expression starting on line 1",
      ""
     ]
    }
   ],
   "source": [
    "help(dot)"
   ]
  },
  {
   "cell_type": "code",
   "execution_count": 11,
   "metadata": {
    "collapsed": false
   },
   "outputs": [
    {
     "ename": "LoadError",
     "evalue": "LoadError: UndefVarError: help not defined\nwhile loading In[11], in expression starting on line 1",
     "output_type": "error",
     "traceback": [
      "LoadError: UndefVarError: help not defined\nwhile loading In[11], in expression starting on line 1",
      ""
     ]
    }
   ],
   "source": [
    "help(\"dot\")"
   ]
  },
  {
   "cell_type": "markdown",
   "metadata": {},
   "source": [
    "# Short-circuit evaluation"
   ]
  },
  {
   "cell_type": "code",
   "execution_count": 17,
   "metadata": {
    "collapsed": false
   },
   "outputs": [
    {
     "name": "stdout",
     "output_type": "stream",
     "text": [
      "Small\n",
      "Small\n"
     ]
    }
   ],
   "source": [
    "a = 3\n",
    "a < 5 && println(\"Small\")\n",
    "a > 10 || println(\"Small\")"
   ]
  },
  {
   "cell_type": "markdown",
   "metadata": {},
   "source": [
    "# Array comprehensions"
   ]
  },
  {
   "cell_type": "code",
   "execution_count": 18,
   "metadata": {
    "collapsed": false
   },
   "outputs": [
    {
     "name": "stderr",
     "output_type": "stream",
     "text": [
      "WARNING: [a] concatenation is deprecated; use collect(a) instead\n"
     ]
    },
    {
     "data": {
      "text/plain": [
       "5-element Array{Int64,1}:\n",
       "  1\n",
       "  9\n",
       " 25\n",
       " 49\n",
       " 81"
      ]
     },
     "execution_count": 18,
     "metadata": {},
     "output_type": "execute_result"
    },
    {
     "name": "stderr",
     "output_type": "stream",
     "text": [
      " in depwarn at deprecated.jl:73\n",
      " in oldstyle_vcat_warning at /Applications/Julia.app/Contents/Resources/julia/lib/julia/sys.dylib\n",
      " in anonymous at no file\n",
      " in include_string at loading.jl:266\n",
      " in execute_request_0x535c5df2 at /Users/martin/.julia/v0.4/IJulia/src/execute_request.jl:177\n",
      " in eventloop at /Users/martin/.julia/v0.4/IJulia/src/IJulia.jl:141\n",
      " in anonymous at task.jl:447\n",
      "while loading In[18], in expression starting on line 1\n"
     ]
    }
   ],
   "source": [
    "squares = [i^2 for i in [1:2:10]]"
   ]
  },
  {
   "cell_type": "code",
   "execution_count": 19,
   "metadata": {
    "collapsed": false
   },
   "outputs": [
    {
     "data": {
      "text/plain": [
       "5x5 Array{Int64,2}:\n",
       " 2  3  4  5   6\n",
       " 3  4  5  6   7\n",
       " 4  5  6  7   8\n",
       " 5  6  7  8   9\n",
       " 6  7  8  9  10"
      ]
     },
     "execution_count": 19,
     "metadata": {},
     "output_type": "execute_result"
    }
   ],
   "source": [
    "sums = [i+j for i=1:5, j=1:5]"
   ]
  },
  {
   "cell_type": "code",
   "execution_count": 22,
   "metadata": {
    "collapsed": false
   },
   "outputs": [
    {
     "data": {
      "text/plain": [
       "5x5x5 Array{Int64,3}:\n",
       "[:, :, 1] =\n",
       " 3  4  5   6   7\n",
       " 4  5  6   7   8\n",
       " 5  6  7   8   9\n",
       " 6  7  8   9  10\n",
       " 7  8  9  10  11\n",
       "\n",
       "[:, :, 2] =\n",
       " 4  5   6   7   8\n",
       " 5  6   7   8   9\n",
       " 6  7   8   9  10\n",
       " 7  8   9  10  11\n",
       " 8  9  10  11  12\n",
       "\n",
       "[:, :, 3] =\n",
       " 5   6   7   8   9\n",
       " 6   7   8   9  10\n",
       " 7   8   9  10  11\n",
       " 8   9  10  11  12\n",
       " 9  10  11  12  13\n",
       "\n",
       "[:, :, 4] =\n",
       "  6   7   8   9  10\n",
       "  7   8   9  10  11\n",
       "  8   9  10  11  12\n",
       "  9  10  11  12  13\n",
       " 10  11  12  13  14\n",
       "\n",
       "[:, :, 5] =\n",
       "  7   8   9  10  11\n",
       "  8   9  10  11  12\n",
       "  9  10  11  12  13\n",
       " 10  11  12  13  14\n",
       " 11  12  13  14  15"
      ]
     },
     "execution_count": 22,
     "metadata": {},
     "output_type": "execute_result"
    }
   ],
   "source": [
    "sums = [i+j+k for i=1:5, j=1:5, k=1:5]"
   ]
  },
  {
   "cell_type": "code",
   "execution_count": 24,
   "metadata": {
    "collapsed": false
   },
   "outputs": [
    {
     "data": {
      "text/plain": [
       "5x5 Array{Float64,2}:\n",
       " 0.928096   0.846145  0.570223   0.471535    0.449328\n",
       " 0.961273   0.585328  0.0368933  0.00740428  0.956585\n",
       " 0.0216047  0.104985  0.313412   0.525606    0.820544\n",
       " 0.125894   0.815987  0.568477   0.647379    0.204733\n",
       " 0.880557   0.176053  0.102073   0.194301    0.448558"
      ]
     },
     "execution_count": 24,
     "metadata": {},
     "output_type": "execute_result"
    }
   ],
   "source": [
    "rand(5,5)"
   ]
  },
  {
   "cell_type": "code",
   "execution_count": 25,
   "metadata": {
    "collapsed": false
   },
   "outputs": [
    {
     "data": {
      "text/html": [
       "138 methods for generic function <b>*</b>:<ul><li> *(x::<b>Bool</b>, y::<b>Bool</b>) at <a href=\"https://github.com/JuliaLang/julia/tree/bb73f3489d837e3339fce2c1aab283d3b2e97a4c/base/bool.jl#L38\" target=\"_blank\">bool.jl:38</a><li> *<i>{T<:Unsigned}</i>(x::<b>Bool</b>, y::<b>T<:Unsigned</b>) at <a href=\"https://github.com/JuliaLang/julia/tree/bb73f3489d837e3339fce2c1aab283d3b2e97a4c/base/bool.jl#L53\" target=\"_blank\">bool.jl:53</a><li> *(x::<b>Bool</b>, z::<b>Complex{Bool}</b>) at <a href=\"https://github.com/JuliaLang/julia/tree/bb73f3489d837e3339fce2c1aab283d3b2e97a4c/base/complex.jl#L122\" target=\"_blank\">complex.jl:122</a><li> *(x::<b>Bool</b>, z::<b>Complex{T<:Real}</b>) at <a href=\"https://github.com/JuliaLang/julia/tree/bb73f3489d837e3339fce2c1aab283d3b2e97a4c/base/complex.jl#L129\" target=\"_blank\">complex.jl:129</a><li> *<i>{T<:Number}</i>(x::<b>Bool</b>, y::<b>T<:Number</b>) at <a href=\"https://github.com/JuliaLang/julia/tree/bb73f3489d837e3339fce2c1aab283d3b2e97a4c/base/bool.jl#L49\" target=\"_blank\">bool.jl:49</a><li> *(x::<b>Float32</b>, y::<b>Float32</b>) at <a href=\"https://github.com/JuliaLang/julia/tree/bb73f3489d837e3339fce2c1aab283d3b2e97a4c/base/float.jl#L207\" target=\"_blank\">float.jl:207</a><li> *(x::<b>Float64</b>, y::<b>Float64</b>) at <a href=\"https://github.com/JuliaLang/julia/tree/bb73f3489d837e3339fce2c1aab283d3b2e97a4c/base/float.jl#L208\" target=\"_blank\">float.jl:208</a><li> *(z::<b>Complex{T<:Real}</b>, w::<b>Complex{T<:Real}</b>) at <a href=\"https://github.com/JuliaLang/julia/tree/bb73f3489d837e3339fce2c1aab283d3b2e97a4c/base/complex.jl#L113\" target=\"_blank\">complex.jl:113</a><li> *(z::<b>Complex{Bool}</b>, x::<b>Bool</b>) at <a href=\"https://github.com/JuliaLang/julia/tree/bb73f3489d837e3339fce2c1aab283d3b2e97a4c/base/complex.jl#L123\" target=\"_blank\">complex.jl:123</a><li> *(z::<b>Complex{T<:Real}</b>, x::<b>Bool</b>) at <a href=\"https://github.com/JuliaLang/julia/tree/bb73f3489d837e3339fce2c1aab283d3b2e97a4c/base/complex.jl#L130\" target=\"_blank\">complex.jl:130</a><li> *(x::<b>Real</b>, z::<b>Complex{Bool}</b>) at <a href=\"https://github.com/JuliaLang/julia/tree/bb73f3489d837e3339fce2c1aab283d3b2e97a4c/base/complex.jl#L140\" target=\"_blank\">complex.jl:140</a><li> *(z::<b>Complex{Bool}</b>, x::<b>Real</b>) at <a href=\"https://github.com/JuliaLang/julia/tree/bb73f3489d837e3339fce2c1aab283d3b2e97a4c/base/complex.jl#L141\" target=\"_blank\">complex.jl:141</a><li> *(x::<b>Real</b>, z::<b>Complex{T<:Real}</b>) at <a href=\"https://github.com/JuliaLang/julia/tree/bb73f3489d837e3339fce2c1aab283d3b2e97a4c/base/complex.jl#L152\" target=\"_blank\">complex.jl:152</a><li> *(z::<b>Complex{T<:Real}</b>, x::<b>Real</b>) at <a href=\"https://github.com/JuliaLang/julia/tree/bb73f3489d837e3339fce2c1aab283d3b2e97a4c/base/complex.jl#L153\" target=\"_blank\">complex.jl:153</a><li> *(x::<b>Rational{T<:Integer}</b>, y::<b>Rational{T<:Integer}</b>) at <a href=\"https://github.com/JuliaLang/julia/tree/bb73f3489d837e3339fce2c1aab283d3b2e97a4c/base/rational.jl#L186\" target=\"_blank\">rational.jl:186</a><li> *(a::<b>Float16</b>, b::<b>Float16</b>) at <a href=\"https://github.com/JuliaLang/julia/tree/bb73f3489d837e3339fce2c1aab283d3b2e97a4c/base/float16.jl#L136\" target=\"_blank\">float16.jl:136</a><li> *<i>{N}</i>(a::<b>Integer</b>, index::<b>CartesianIndex{N}</b>) at <a href=\"https://github.com/JuliaLang/julia/tree/bb73f3489d837e3339fce2c1aab283d3b2e97a4c/base/multidimensional.jl#L50\" target=\"_blank\">multidimensional.jl:50</a><li> *(x::<b>BigInt</b>, y::<b>BigInt</b>) at <a href=\"https://github.com/JuliaLang/julia/tree/bb73f3489d837e3339fce2c1aab283d3b2e97a4c/base/gmp.jl#L256\" target=\"_blank\">gmp.jl:256</a><li> *(a::<b>BigInt</b>, b::<b>BigInt</b>, c::<b>BigInt</b>) at <a href=\"https://github.com/JuliaLang/julia/tree/bb73f3489d837e3339fce2c1aab283d3b2e97a4c/base/gmp.jl#L279\" target=\"_blank\">gmp.jl:279</a><li> *(a::<b>BigInt</b>, b::<b>BigInt</b>, c::<b>BigInt</b>, d::<b>BigInt</b>) at <a href=\"https://github.com/JuliaLang/julia/tree/bb73f3489d837e3339fce2c1aab283d3b2e97a4c/base/gmp.jl#L285\" target=\"_blank\">gmp.jl:285</a><li> *(a::<b>BigInt</b>, b::<b>BigInt</b>, c::<b>BigInt</b>, d::<b>BigInt</b>, e::<b>BigInt</b>) at <a href=\"https://github.com/JuliaLang/julia/tree/bb73f3489d837e3339fce2c1aab283d3b2e97a4c/base/gmp.jl#L292\" target=\"_blank\">gmp.jl:292</a><li> *(x::<b>BigInt</b>, c::<b>Union{UInt16,UInt32,UInt64,UInt8}</b>) at <a href=\"https://github.com/JuliaLang/julia/tree/bb73f3489d837e3339fce2c1aab283d3b2e97a4c/base/gmp.jl#L326\" target=\"_blank\">gmp.jl:326</a><li> *(c::<b>Union{UInt16,UInt32,UInt64,UInt8}</b>, x::<b>BigInt</b>) at <a href=\"https://github.com/JuliaLang/julia/tree/bb73f3489d837e3339fce2c1aab283d3b2e97a4c/base/gmp.jl#L330\" target=\"_blank\">gmp.jl:330</a><li> *(x::<b>BigInt</b>, c::<b>Union{Int16,Int32,Int64,Int8}</b>) at <a href=\"https://github.com/JuliaLang/julia/tree/bb73f3489d837e3339fce2c1aab283d3b2e97a4c/base/gmp.jl#L332\" target=\"_blank\">gmp.jl:332</a><li> *(c::<b>Union{Int16,Int32,Int64,Int8}</b>, x::<b>BigInt</b>) at <a href=\"https://github.com/JuliaLang/julia/tree/bb73f3489d837e3339fce2c1aab283d3b2e97a4c/base/gmp.jl#L336\" target=\"_blank\">gmp.jl:336</a><li> *(x::<b>BigFloat</b>, y::<b>BigFloat</b>) at <a href=\"https://github.com/JuliaLang/julia/tree/bb73f3489d837e3339fce2c1aab283d3b2e97a4c/base/mpfr.jl#L208\" target=\"_blank\">mpfr.jl:208</a><li> *(x::<b>BigFloat</b>, c::<b>Union{UInt16,UInt32,UInt64,UInt8}</b>) at <a href=\"https://github.com/JuliaLang/julia/tree/bb73f3489d837e3339fce2c1aab283d3b2e97a4c/base/mpfr.jl#L215\" target=\"_blank\">mpfr.jl:215</a><li> *(c::<b>Union{UInt16,UInt32,UInt64,UInt8}</b>, x::<b>BigFloat</b>) at <a href=\"https://github.com/JuliaLang/julia/tree/bb73f3489d837e3339fce2c1aab283d3b2e97a4c/base/mpfr.jl#L219\" target=\"_blank\">mpfr.jl:219</a><li> *(x::<b>BigFloat</b>, c::<b>Union{Int16,Int32,Int64,Int8}</b>) at <a href=\"https://github.com/JuliaLang/julia/tree/bb73f3489d837e3339fce2c1aab283d3b2e97a4c/base/mpfr.jl#L223\" target=\"_blank\">mpfr.jl:223</a><li> *(c::<b>Union{Int16,Int32,Int64,Int8}</b>, x::<b>BigFloat</b>) at <a href=\"https://github.com/JuliaLang/julia/tree/bb73f3489d837e3339fce2c1aab283d3b2e97a4c/base/mpfr.jl#L227\" target=\"_blank\">mpfr.jl:227</a><li> *(x::<b>BigFloat</b>, c::<b>Union{Float16,Float32,Float64}</b>) at <a href=\"https://github.com/JuliaLang/julia/tree/bb73f3489d837e3339fce2c1aab283d3b2e97a4c/base/mpfr.jl#L231\" target=\"_blank\">mpfr.jl:231</a><li> *(c::<b>Union{Float16,Float32,Float64}</b>, x::<b>BigFloat</b>) at <a href=\"https://github.com/JuliaLang/julia/tree/bb73f3489d837e3339fce2c1aab283d3b2e97a4c/base/mpfr.jl#L235\" target=\"_blank\">mpfr.jl:235</a><li> *(x::<b>BigFloat</b>, c::<b>BigInt</b>) at <a href=\"https://github.com/JuliaLang/julia/tree/bb73f3489d837e3339fce2c1aab283d3b2e97a4c/base/mpfr.jl#L239\" target=\"_blank\">mpfr.jl:239</a><li> *(c::<b>BigInt</b>, x::<b>BigFloat</b>) at <a href=\"https://github.com/JuliaLang/julia/tree/bb73f3489d837e3339fce2c1aab283d3b2e97a4c/base/mpfr.jl#L243\" target=\"_blank\">mpfr.jl:243</a><li> *(a::<b>BigFloat</b>, b::<b>BigFloat</b>, c::<b>BigFloat</b>) at <a href=\"https://github.com/JuliaLang/julia/tree/bb73f3489d837e3339fce2c1aab283d3b2e97a4c/base/mpfr.jl#L379\" target=\"_blank\">mpfr.jl:379</a><li> *(a::<b>BigFloat</b>, b::<b>BigFloat</b>, c::<b>BigFloat</b>, d::<b>BigFloat</b>) at <a href=\"https://github.com/JuliaLang/julia/tree/bb73f3489d837e3339fce2c1aab283d3b2e97a4c/base/mpfr.jl#L385\" target=\"_blank\">mpfr.jl:385</a><li> *(a::<b>BigFloat</b>, b::<b>BigFloat</b>, c::<b>BigFloat</b>, d::<b>BigFloat</b>, e::<b>BigFloat</b>) at <a href=\"https://github.com/JuliaLang/julia/tree/bb73f3489d837e3339fce2c1aab283d3b2e97a4c/base/mpfr.jl#L392\" target=\"_blank\">mpfr.jl:392</a><li> *<i>{T<:Number}</i>(x::<b>T<:Number</b>, D::<b>Diagonal{T}</b>) at <a href=\"https://github.com/JuliaLang/julia/tree/bb73f3489d837e3339fce2c1aab283d3b2e97a4c/base/linalg/diagonal.jl#L89\" target=\"_blank\">linalg/diagonal.jl:89</a><li> *(x::<b>Irrational{sym}</b>, y::<b>Irrational{sym}</b>) at <a href=\"https://github.com/JuliaLang/julia/tree/bb73f3489d837e3339fce2c1aab283d3b2e97a4c/base/irrationals.jl#L72\" target=\"_blank\">irrationals.jl:72</a><li> *(y::<b>Real</b>, x::<b>Base.Dates.Period</b>) at <a href=\"https://github.com/JuliaLang/julia/tree/bb73f3489d837e3339fce2c1aab283d3b2e97a4c/base/dates/periods.jl#L55\" target=\"_blank\">dates/periods.jl:55</a><li> *(x::<b>Number</b>) at <a href=\"https://github.com/JuliaLang/julia/tree/bb73f3489d837e3339fce2c1aab283d3b2e97a4c/base/operators.jl#L74\" target=\"_blank\">operators.jl:74</a><li> *(y::<b>Number</b>, x::<b>Bool</b>) at <a href=\"https://github.com/JuliaLang/julia/tree/bb73f3489d837e3339fce2c1aab283d3b2e97a4c/base/bool.jl#L55\" target=\"_blank\">bool.jl:55</a><li> *(x::<b>Int8</b>, y::<b>Int8</b>) at <a href=\"https://github.com/JuliaLang/julia/tree/bb73f3489d837e3339fce2c1aab283d3b2e97a4c/base/int.jl#L19\" target=\"_blank\">int.jl:19</a><li> *(x::<b>UInt8</b>, y::<b>UInt8</b>) at <a href=\"https://github.com/JuliaLang/julia/tree/bb73f3489d837e3339fce2c1aab283d3b2e97a4c/base/int.jl#L19\" target=\"_blank\">int.jl:19</a><li> *(x::<b>Int16</b>, y::<b>Int16</b>) at <a href=\"https://github.com/JuliaLang/julia/tree/bb73f3489d837e3339fce2c1aab283d3b2e97a4c/base/int.jl#L19\" target=\"_blank\">int.jl:19</a><li> *(x::<b>UInt16</b>, y::<b>UInt16</b>) at <a href=\"https://github.com/JuliaLang/julia/tree/bb73f3489d837e3339fce2c1aab283d3b2e97a4c/base/int.jl#L19\" target=\"_blank\">int.jl:19</a><li> *(x::<b>Int32</b>, y::<b>Int32</b>) at <a href=\"https://github.com/JuliaLang/julia/tree/bb73f3489d837e3339fce2c1aab283d3b2e97a4c/base/int.jl#L19\" target=\"_blank\">int.jl:19</a><li> *(x::<b>UInt32</b>, y::<b>UInt32</b>) at <a href=\"https://github.com/JuliaLang/julia/tree/bb73f3489d837e3339fce2c1aab283d3b2e97a4c/base/int.jl#L19\" target=\"_blank\">int.jl:19</a><li> *(x::<b>Int64</b>, y::<b>Int64</b>) at <a href=\"https://github.com/JuliaLang/julia/tree/bb73f3489d837e3339fce2c1aab283d3b2e97a4c/base/int.jl#L19\" target=\"_blank\">int.jl:19</a><li> *(x::<b>UInt64</b>, y::<b>UInt64</b>) at <a href=\"https://github.com/JuliaLang/julia/tree/bb73f3489d837e3339fce2c1aab283d3b2e97a4c/base/int.jl#L19\" target=\"_blank\">int.jl:19</a><li> *(x::<b>Int128</b>, y::<b>Int128</b>) at <a href=\"https://github.com/JuliaLang/julia/tree/bb73f3489d837e3339fce2c1aab283d3b2e97a4c/base/int.jl#L456\" target=\"_blank\">int.jl:456</a><li> *(x::<b>UInt128</b>, y::<b>UInt128</b>) at <a href=\"https://github.com/JuliaLang/julia/tree/bb73f3489d837e3339fce2c1aab283d3b2e97a4c/base/int.jl#L457\" target=\"_blank\">int.jl:457</a><li> *<i>{T<:Number}</i>(x::<b>T<:Number</b>, y::<b>T<:Number</b>) at <a href=\"https://github.com/JuliaLang/julia/tree/bb73f3489d837e3339fce2c1aab283d3b2e97a4c/base/promotion.jl#L212\" target=\"_blank\">promotion.jl:212</a><li> *(x::<b>Number</b>, y::<b>Number</b>) at <a href=\"https://github.com/JuliaLang/julia/tree/bb73f3489d837e3339fce2c1aab283d3b2e97a4c/base/promotion.jl#L168\" target=\"_blank\">promotion.jl:168</a><li> *<i>{T<:Union{Complex{Float32},Complex{Float64},Float32,Float64},S}</i>(A::<b>Union{DenseArray{T<:Union{Complex{Float32},Complex{Float64},Float32,Float64},2},SubArray{T<:Union{Complex{Float32},Complex{Float64},Float32,Float64},2,A<:DenseArray{T,N},I<:Tuple{Vararg{Union{Colon,Int64,Range{Int64}}}},LD}}</b>, x::<b>Union{DenseArray{S,1},SubArray{S,1,A<:DenseArray{T,N},I<:Tuple{Vararg{Union{Colon,Int64,Range{Int64}}}},LD}}</b>) at <a href=\"https://github.com/JuliaLang/julia/tree/bb73f3489d837e3339fce2c1aab283d3b2e97a4c/base/linalg/matmul.jl#L81\" target=\"_blank\">linalg/matmul.jl:81</a><li> *(A::<b>SymTridiagonal{T}</b>, B::<b>Number</b>) at <a href=\"https://github.com/JuliaLang/julia/tree/bb73f3489d837e3339fce2c1aab283d3b2e97a4c/base/linalg/tridiag.jl#L86\" target=\"_blank\">linalg/tridiag.jl:86</a><li> *(A::<b>Tridiagonal{T}</b>, B::<b>Number</b>) at <a href=\"https://github.com/JuliaLang/julia/tree/bb73f3489d837e3339fce2c1aab283d3b2e97a4c/base/linalg/tridiag.jl#L406\" target=\"_blank\">linalg/tridiag.jl:406</a><li> *(A::<b>UpperTriangular{T,S<:AbstractArray{T,2}}</b>, x::<b>Number</b>) at <a href=\"https://github.com/JuliaLang/julia/tree/bb73f3489d837e3339fce2c1aab283d3b2e97a4c/base/linalg/triangular.jl#L454\" target=\"_blank\">linalg/triangular.jl:454</a><li> *(A::<b>Base.LinAlg.UnitUpperTriangular{T,S<:AbstractArray{T,2}}</b>, x::<b>Number</b>) at <a href=\"https://github.com/JuliaLang/julia/tree/bb73f3489d837e3339fce2c1aab283d3b2e97a4c/base/linalg/triangular.jl#L457\" target=\"_blank\">linalg/triangular.jl:457</a><li> *(A::<b>LowerTriangular{T,S<:AbstractArray{T,2}}</b>, x::<b>Number</b>) at <a href=\"https://github.com/JuliaLang/julia/tree/bb73f3489d837e3339fce2c1aab283d3b2e97a4c/base/linalg/triangular.jl#L454\" target=\"_blank\">linalg/triangular.jl:454</a><li> *(A::<b>Base.LinAlg.UnitLowerTriangular{T,S<:AbstractArray{T,2}}</b>, x::<b>Number</b>) at <a href=\"https://github.com/JuliaLang/julia/tree/bb73f3489d837e3339fce2c1aab283d3b2e97a4c/base/linalg/triangular.jl#L457\" target=\"_blank\">linalg/triangular.jl:457</a><li> *(A::<b>Tridiagonal{T}</b>, B::<b>UpperTriangular{T,S<:AbstractArray{T,2}}</b>) at <a href=\"https://github.com/JuliaLang/julia/tree/bb73f3489d837e3339fce2c1aab283d3b2e97a4c/base/linalg/triangular.jl#L969\" target=\"_blank\">linalg/triangular.jl:969</a><li> *(A::<b>Tridiagonal{T}</b>, B::<b>Base.LinAlg.UnitUpperTriangular{T,S<:AbstractArray{T,2}}</b>) at <a href=\"https://github.com/JuliaLang/julia/tree/bb73f3489d837e3339fce2c1aab283d3b2e97a4c/base/linalg/triangular.jl#L969\" target=\"_blank\">linalg/triangular.jl:969</a><li> *(A::<b>Tridiagonal{T}</b>, B::<b>LowerTriangular{T,S<:AbstractArray{T,2}}</b>) at <a href=\"https://github.com/JuliaLang/julia/tree/bb73f3489d837e3339fce2c1aab283d3b2e97a4c/base/linalg/triangular.jl#L969\" target=\"_blank\">linalg/triangular.jl:969</a><li> *(A::<b>Tridiagonal{T}</b>, B::<b>Base.LinAlg.UnitLowerTriangular{T,S<:AbstractArray{T,2}}</b>) at <a href=\"https://github.com/JuliaLang/julia/tree/bb73f3489d837e3339fce2c1aab283d3b2e97a4c/base/linalg/triangular.jl#L969\" target=\"_blank\">linalg/triangular.jl:969</a><li> *(A::<b>Base.LinAlg.AbstractTriangular{T,S<:AbstractArray{T,2}}</b>, B::<b>Base.LinAlg.AbstractTriangular{T,S<:AbstractArray{T,2}}</b>) at <a href=\"https://github.com/JuliaLang/julia/tree/bb73f3489d837e3339fce2c1aab283d3b2e97a4c/base/linalg/triangular.jl#L975\" target=\"_blank\">linalg/triangular.jl:975</a><li> *<i>{TA,TB}</i>(A::<b>Base.LinAlg.AbstractTriangular{TA,S<:AbstractArray{T,2}}</b>, B::<b>Union{DenseArray{TB,1},DenseArray{TB,2},SubArray{TB,1,A<:DenseArray{T,N},I<:Tuple{Vararg{Union{Colon,Int64,Range{Int64}}}},LD},SubArray{TB,2,A<:DenseArray{T,N},I<:Tuple{Vararg{Union{Colon,Int64,Range{Int64}}}},LD}}</b>) at <a href=\"https://github.com/JuliaLang/julia/tree/bb73f3489d837e3339fce2c1aab283d3b2e97a4c/base/linalg/triangular.jl#L989\" target=\"_blank\">linalg/triangular.jl:989</a><li> *<i>{TA,TB}</i>(A::<b>Union{DenseArray{TA,1},DenseArray{TA,2},SubArray{TA,1,A<:DenseArray{T,N},I<:Tuple{Vararg{Union{Colon,Int64,Range{Int64}}}},LD},SubArray{TA,2,A<:DenseArray{T,N},I<:Tuple{Vararg{Union{Colon,Int64,Range{Int64}}}},LD}}</b>, B::<b>Base.LinAlg.AbstractTriangular{TB,S<:AbstractArray{T,2}}</b>) at <a href=\"https://github.com/JuliaLang/julia/tree/bb73f3489d837e3339fce2c1aab283d3b2e97a4c/base/linalg/triangular.jl#L1016\" target=\"_blank\">linalg/triangular.jl:1016</a><li> *<i>{TA,Tb}</i>(A::<b>Union{Base.LinAlg.QRCompactWYQ{TA,M<:AbstractArray{T,2}},Base.LinAlg.QRPackedQ{TA,S<:AbstractArray{T,2}}}</b>, b::<b>Union{DenseArray{Tb,1},SubArray{Tb,1,A<:DenseArray{T,N},I<:Tuple{Vararg{Union{Colon,Int64,Range{Int64}}}},LD}}</b>) at <a href=\"https://github.com/JuliaLang/julia/tree/bb73f3489d837e3339fce2c1aab283d3b2e97a4c/base/linalg/qr.jl#L166\" target=\"_blank\">linalg/qr.jl:166</a><li> *<i>{TA,TB}</i>(A::<b>Union{Base.LinAlg.QRCompactWYQ{TA,M<:AbstractArray{T,2}},Base.LinAlg.QRPackedQ{TA,S<:AbstractArray{T,2}}}</b>, B::<b>Union{DenseArray{TB,2},SubArray{TB,2,A<:DenseArray{T,N},I<:Tuple{Vararg{Union{Colon,Int64,Range{Int64}}}},LD}}</b>) at <a href=\"https://github.com/JuliaLang/julia/tree/bb73f3489d837e3339fce2c1aab283d3b2e97a4c/base/linalg/qr.jl#L178\" target=\"_blank\">linalg/qr.jl:178</a><li> *<i>{TA,TQ,N}</i>(A::<b>Union{DenseArray{TA,N},SubArray{TA,N,A<:DenseArray{T,N},I<:Tuple{Vararg{Union{Colon,Int64,Range{Int64}}}},LD}}</b>, Q::<b>Union{Base.LinAlg.QRCompactWYQ{TQ,M<:AbstractArray{T,2}},Base.LinAlg.QRPackedQ{TQ,S<:AbstractArray{T,2}}}</b>) at <a href=\"https://github.com/JuliaLang/julia/tree/bb73f3489d837e3339fce2c1aab283d3b2e97a4c/base/linalg/qr.jl#L253\" target=\"_blank\">linalg/qr.jl:253</a><li> *(A::<b>Union{Hermitian{T,S},Symmetric{T,S}}</b>, B::<b>Union{Hermitian{T,S},Symmetric{T,S}}</b>) at <a href=\"https://github.com/JuliaLang/julia/tree/bb73f3489d837e3339fce2c1aab283d3b2e97a4c/base/linalg/symmetric.jl#L117\" target=\"_blank\">linalg/symmetric.jl:117</a><li> *(A::<b>Union{DenseArray{T,2},SubArray{T,2,A<:DenseArray{T,N},I<:Tuple{Vararg{Union{Colon,Int64,Range{Int64}}}},LD}}</b>, B::<b>Union{Hermitian{T,S},Symmetric{T,S}}</b>) at <a href=\"https://github.com/JuliaLang/julia/tree/bb73f3489d837e3339fce2c1aab283d3b2e97a4c/base/linalg/symmetric.jl#L118\" target=\"_blank\">linalg/symmetric.jl:118</a><li> *<i>{T<:Number}</i>(D::<b>Diagonal{T}</b>, x::<b>T<:Number</b>) at <a href=\"https://github.com/JuliaLang/julia/tree/bb73f3489d837e3339fce2c1aab283d3b2e97a4c/base/linalg/diagonal.jl#L90\" target=\"_blank\">linalg/diagonal.jl:90</a><li> *(Da::<b>Diagonal{T}</b>, Db::<b>Diagonal{T}</b>) at <a href=\"https://github.com/JuliaLang/julia/tree/bb73f3489d837e3339fce2c1aab283d3b2e97a4c/base/linalg/diagonal.jl#L92\" target=\"_blank\">linalg/diagonal.jl:92</a><li> *(D::<b>Diagonal{T}</b>, V::<b>Array{T,1}</b>) at <a href=\"https://github.com/JuliaLang/julia/tree/bb73f3489d837e3339fce2c1aab283d3b2e97a4c/base/linalg/diagonal.jl#L93\" target=\"_blank\">linalg/diagonal.jl:93</a><li> *(A::<b>Array{T,2}</b>, D::<b>Diagonal{T}</b>) at <a href=\"https://github.com/JuliaLang/julia/tree/bb73f3489d837e3339fce2c1aab283d3b2e97a4c/base/linalg/diagonal.jl#L94\" target=\"_blank\">linalg/diagonal.jl:94</a><li> *(D::<b>Diagonal{T}</b>, A::<b>Array{T,2}</b>) at <a href=\"https://github.com/JuliaLang/julia/tree/bb73f3489d837e3339fce2c1aab283d3b2e97a4c/base/linalg/diagonal.jl#L95\" target=\"_blank\">linalg/diagonal.jl:95</a><li> *(A::<b>Bidiagonal{T}</b>, B::<b>Number</b>) at <a href=\"https://github.com/JuliaLang/julia/tree/bb73f3489d837e3339fce2c1aab283d3b2e97a4c/base/linalg/bidiag.jl#L192\" target=\"_blank\">linalg/bidiag.jl:192</a><li> *(A::<b>Union{Base.LinAlg.AbstractTriangular{T,S<:AbstractArray{T,2}},Bidiagonal{T},Diagonal{T},SymTridiagonal{T},Tridiagonal{T}}</b>, B::<b>Union{Base.LinAlg.AbstractTriangular{T,S<:AbstractArray{T,2}},Bidiagonal{T},Diagonal{T},SymTridiagonal{T},Tridiagonal{T}}</b>) at <a href=\"https://github.com/JuliaLang/julia/tree/bb73f3489d837e3339fce2c1aab283d3b2e97a4c/base/linalg/bidiag.jl#L198\" target=\"_blank\">linalg/bidiag.jl:198</a><li> *<i>{T}</i>(A::<b>Bidiagonal{T}</b>, B::<b>AbstractArray{T,1}</b>) at <a href=\"https://github.com/JuliaLang/julia/tree/bb73f3489d837e3339fce2c1aab283d3b2e97a4c/base/linalg/bidiag.jl#L202\" target=\"_blank\">linalg/bidiag.jl:202</a><li> *(B::<b>BitArray{2}</b>, J::<b>UniformScaling{T<:Number}</b>) at <a href=\"https://github.com/JuliaLang/julia/tree/bb73f3489d837e3339fce2c1aab283d3b2e97a4c/base/linalg/uniformscaling.jl#L122\" target=\"_blank\">linalg/uniformscaling.jl:122</a><li> *<i>{T,S}</i>(s::<b>Base.LinAlg.SVDOperator{T,S}</b>, v::<b>Array{T,1}</b>) at <a href=\"https://github.com/JuliaLang/julia/tree/bb73f3489d837e3339fce2c1aab283d3b2e97a4c/base/linalg/arnoldi.jl#L261\" target=\"_blank\">linalg/arnoldi.jl:261</a><li> *(S::<b>SparseMatrixCSC{Tv,Ti<:Integer}</b>, J::<b>UniformScaling{T<:Number}</b>) at <a href=\"https://github.com/JuliaLang/julia/tree/bb73f3489d837e3339fce2c1aab283d3b2e97a4c/base/sparse/linalg.jl#L23\" target=\"_blank\">sparse/linalg.jl:23</a><li> *<i>{Tv,Ti}</i>(A::<b>SparseMatrixCSC{Tv,Ti}</b>, B::<b>SparseMatrixCSC{Tv,Ti}</b>) at <a href=\"https://github.com/JuliaLang/julia/tree/bb73f3489d837e3339fce2c1aab283d3b2e97a4c/base/sparse/linalg.jl#L108\" target=\"_blank\">sparse/linalg.jl:108</a><li> *<i>{TvA,TiA,TvB,TiB}</i>(A::<b>SparseMatrixCSC{TvA,TiA}</b>, B::<b>SparseMatrixCSC{TvB,TiB}</b>) at <a href=\"https://github.com/JuliaLang/julia/tree/bb73f3489d837e3339fce2c1aab283d3b2e97a4c/base/sparse/linalg.jl#L29\" target=\"_blank\">sparse/linalg.jl:29</a><li> *<i>{TX,TvA,TiA}</i>(X::<b>Union{DenseArray{TX,2},SubArray{TX,2,A<:DenseArray{T,N},I<:Tuple{Vararg{Union{Colon,Int64,Range{Int64}}}},LD}}</b>, A::<b>SparseMatrixCSC{TvA,TiA}</b>) at <a href=\"https://github.com/JuliaLang/julia/tree/bb73f3489d837e3339fce2c1aab283d3b2e97a4c/base/sparse/linalg.jl#L94\" target=\"_blank\">sparse/linalg.jl:94</a><li> *(A::<b>Base.SparseMatrix.CHOLMOD.Sparse{Tv<:Union{Complex{Float64},Float64}}</b>, B::<b>Base.SparseMatrix.CHOLMOD.Sparse{Tv<:Union{Complex{Float64},Float64}}</b>) at <a href=\"https://github.com/JuliaLang/julia/tree/bb73f3489d837e3339fce2c1aab283d3b2e97a4c/base/sparse/cholmod.jl#L1144\" target=\"_blank\">sparse/cholmod.jl:1144</a><li> *(A::<b>Base.SparseMatrix.CHOLMOD.Sparse{Tv<:Union{Complex{Float64},Float64}}</b>, B::<b>Base.SparseMatrix.CHOLMOD.Dense{T<:Union{Complex{Float64},Float64}}</b>) at <a href=\"https://github.com/JuliaLang/julia/tree/bb73f3489d837e3339fce2c1aab283d3b2e97a4c/base/sparse/cholmod.jl#L1145\" target=\"_blank\">sparse/cholmod.jl:1145</a><li> *(A::<b>Base.SparseMatrix.CHOLMOD.Sparse{Tv<:Union{Complex{Float64},Float64}}</b>, B::<b>Union{Array{T,1},Array{T,2}}</b>) at <a href=\"https://github.com/JuliaLang/julia/tree/bb73f3489d837e3339fce2c1aab283d3b2e97a4c/base/sparse/cholmod.jl#L1146\" target=\"_blank\">sparse/cholmod.jl:1146</a><li> *<i>{Ti}</i>(A::<b>Symmetric{Float64,SparseMatrixCSC{Float64,Ti}}</b>, B::<b>SparseMatrixCSC{Float64,Ti}</b>) at <a href=\"https://github.com/JuliaLang/julia/tree/bb73f3489d837e3339fce2c1aab283d3b2e97a4c/base/sparse/cholmod.jl#L1403\" target=\"_blank\">sparse/cholmod.jl:1403</a><li> *<i>{Ti}</i>(A::<b>Hermitian{Complex{Float64},SparseMatrixCSC{Complex{Float64},Ti}}</b>, B::<b>SparseMatrixCSC{Complex{Float64},Ti}</b>) at <a href=\"https://github.com/JuliaLang/julia/tree/bb73f3489d837e3339fce2c1aab283d3b2e97a4c/base/sparse/cholmod.jl#L1404\" target=\"_blank\">sparse/cholmod.jl:1404</a><li> *<i>{T<:Number}</i>(x::<b>AbstractArray{T<:Number,2}</b>) at <a href=\"https://github.com/JuliaLang/julia/tree/bb73f3489d837e3339fce2c1aab283d3b2e97a4c/base/abstractarraymath.jl#L50\" target=\"_blank\">abstractarraymath.jl:50</a><li> *(B::<b>Number</b>, A::<b>SymTridiagonal{T}</b>) at <a href=\"https://github.com/JuliaLang/julia/tree/bb73f3489d837e3339fce2c1aab283d3b2e97a4c/base/linalg/tridiag.jl#L87\" target=\"_blank\">linalg/tridiag.jl:87</a><li> *(B::<b>Number</b>, A::<b>Tridiagonal{T}</b>) at <a href=\"https://github.com/JuliaLang/julia/tree/bb73f3489d837e3339fce2c1aab283d3b2e97a4c/base/linalg/tridiag.jl#L407\" target=\"_blank\">linalg/tridiag.jl:407</a><li> *(x::<b>Number</b>, A::<b>UpperTriangular{T,S<:AbstractArray{T,2}}</b>) at <a href=\"https://github.com/JuliaLang/julia/tree/bb73f3489d837e3339fce2c1aab283d3b2e97a4c/base/linalg/triangular.jl#L464\" target=\"_blank\">linalg/triangular.jl:464</a><li> *(x::<b>Number</b>, A::<b>Base.LinAlg.UnitUpperTriangular{T,S<:AbstractArray{T,2}}</b>) at <a href=\"https://github.com/JuliaLang/julia/tree/bb73f3489d837e3339fce2c1aab283d3b2e97a4c/base/linalg/triangular.jl#L467\" target=\"_blank\">linalg/triangular.jl:467</a><li> *(x::<b>Number</b>, A::<b>LowerTriangular{T,S<:AbstractArray{T,2}}</b>) at <a href=\"https://github.com/JuliaLang/julia/tree/bb73f3489d837e3339fce2c1aab283d3b2e97a4c/base/linalg/triangular.jl#L464\" target=\"_blank\">linalg/triangular.jl:464</a><li> *(x::<b>Number</b>, A::<b>Base.LinAlg.UnitLowerTriangular{T,S<:AbstractArray{T,2}}</b>) at <a href=\"https://github.com/JuliaLang/julia/tree/bb73f3489d837e3339fce2c1aab283d3b2e97a4c/base/linalg/triangular.jl#L467\" target=\"_blank\">linalg/triangular.jl:467</a><li> *(B::<b>Number</b>, A::<b>Bidiagonal{T}</b>) at <a href=\"https://github.com/JuliaLang/julia/tree/bb73f3489d837e3339fce2c1aab283d3b2e97a4c/base/linalg/bidiag.jl#L193\" target=\"_blank\">linalg/bidiag.jl:193</a><li> *(A::<b>Number</b>, B::<b>AbstractArray{T,N}</b>) at <a href=\"https://github.com/JuliaLang/julia/tree/bb73f3489d837e3339fce2c1aab283d3b2e97a4c/base/abstractarraymath.jl#L54\" target=\"_blank\">abstractarraymath.jl:54</a><li> *(A::<b>AbstractArray{T,N}</b>, B::<b>Number</b>) at <a href=\"https://github.com/JuliaLang/julia/tree/bb73f3489d837e3339fce2c1aab283d3b2e97a4c/base/abstractarraymath.jl#L55\" target=\"_blank\">abstractarraymath.jl:55</a><li> *(s1::<b>AbstractString</b>, ss::<b>AbstractString...</b>) at <a href=\"https://github.com/JuliaLang/julia/tree/bb73f3489d837e3339fce2c1aab283d3b2e97a4c/base/strings/basic.jl#L50\" target=\"_blank\">strings/basic.jl:50</a><li> *(this::<b>Base.Grisu.Float</b>, other::<b>Base.Grisu.Float</b>) at <a href=\"https://github.com/JuliaLang/julia/tree/bb73f3489d837e3339fce2c1aab283d3b2e97a4c/base/grisu/float.jl#L138\" target=\"_blank\">grisu/float.jl:138</a><li> *(index::<b>CartesianIndex{N}</b>, a::<b>Integer</b>) at <a href=\"https://github.com/JuliaLang/julia/tree/bb73f3489d837e3339fce2c1aab283d3b2e97a4c/base/multidimensional.jl#L54\" target=\"_blank\">multidimensional.jl:54</a><li> *<i>{T,S}</i>(A::<b>AbstractArray{T,2}</b>, B::<b>Union{DenseArray{S,2},SubArray{S,2,A<:DenseArray{T,N},I<:Tuple{Vararg{Union{Colon,Int64,Range{Int64}}}},LD}}</b>) at <a href=\"https://github.com/JuliaLang/julia/tree/bb73f3489d837e3339fce2c1aab283d3b2e97a4c/base/linalg/matmul.jl#L130\" target=\"_blank\">linalg/matmul.jl:130</a><li> *<i>{T,S}</i>(A::<b>AbstractArray{T,2}</b>, x::<b>AbstractArray{S,1}</b>) at <a href=\"https://github.com/JuliaLang/julia/tree/bb73f3489d837e3339fce2c1aab283d3b2e97a4c/base/linalg/matmul.jl#L85\" target=\"_blank\">linalg/matmul.jl:85</a><li> *(A::<b>AbstractArray{T,1}</b>, B::<b>AbstractArray{T,2}</b>) at <a href=\"https://github.com/JuliaLang/julia/tree/bb73f3489d837e3339fce2c1aab283d3b2e97a4c/base/linalg/matmul.jl#L88\" target=\"_blank\">linalg/matmul.jl:88</a><li> *(J1::<b>UniformScaling{T<:Number}</b>, J2::<b>UniformScaling{T<:Number}</b>) at <a href=\"https://github.com/JuliaLang/julia/tree/bb73f3489d837e3339fce2c1aab283d3b2e97a4c/base/linalg/uniformscaling.jl#L121\" target=\"_blank\">linalg/uniformscaling.jl:121</a><li> *(J::<b>UniformScaling{T<:Number}</b>, B::<b>BitArray{2}</b>) at <a href=\"https://github.com/JuliaLang/julia/tree/bb73f3489d837e3339fce2c1aab283d3b2e97a4c/base/linalg/uniformscaling.jl#L123\" target=\"_blank\">linalg/uniformscaling.jl:123</a><li> *(A::<b>AbstractArray{T,2}</b>, J::<b>UniformScaling{T<:Number}</b>) at <a href=\"https://github.com/JuliaLang/julia/tree/bb73f3489d837e3339fce2c1aab283d3b2e97a4c/base/linalg/uniformscaling.jl#L124\" target=\"_blank\">linalg/uniformscaling.jl:124</a><li> *<i>{Tv,Ti}</i>(J::<b>UniformScaling{T<:Number}</b>, S::<b>SparseMatrixCSC{Tv,Ti}</b>) at <a href=\"https://github.com/JuliaLang/julia/tree/bb73f3489d837e3339fce2c1aab283d3b2e97a4c/base/sparse/linalg.jl#L24\" target=\"_blank\">sparse/linalg.jl:24</a><li> *(J::<b>UniformScaling{T<:Number}</b>, A::<b>Union{AbstractArray{T,1},AbstractArray{T,2}}</b>) at <a href=\"https://github.com/JuliaLang/julia/tree/bb73f3489d837e3339fce2c1aab283d3b2e97a4c/base/linalg/uniformscaling.jl#L125\" target=\"_blank\">linalg/uniformscaling.jl:125</a><li> *(x::<b>Number</b>, J::<b>UniformScaling{T<:Number}</b>) at <a href=\"https://github.com/JuliaLang/julia/tree/bb73f3489d837e3339fce2c1aab283d3b2e97a4c/base/linalg/uniformscaling.jl#L127\" target=\"_blank\">linalg/uniformscaling.jl:127</a><li> *(J::<b>UniformScaling{T<:Number}</b>, x::<b>Number</b>) at <a href=\"https://github.com/JuliaLang/julia/tree/bb73f3489d837e3339fce2c1aab283d3b2e97a4c/base/linalg/uniformscaling.jl#L128\" target=\"_blank\">linalg/uniformscaling.jl:128</a><li> *<i>{T,S}</i>(R::<b>Base.LinAlg.AbstractRotation{T}</b>, A::<b>Union{AbstractArray{S,1},AbstractArray{S,2}}</b>) at <a href=\"https://github.com/JuliaLang/julia/tree/bb73f3489d837e3339fce2c1aab283d3b2e97a4c/base/linalg/givens.jl#L9\" target=\"_blank\">linalg/givens.jl:9</a><li> *<i>{T}</i>(G1::<b>Base.LinAlg.Givens{T}</b>, G2::<b>Base.LinAlg.Givens{T}</b>) at <a href=\"https://github.com/JuliaLang/julia/tree/bb73f3489d837e3339fce2c1aab283d3b2e97a4c/base/linalg/givens.jl#L307\" target=\"_blank\">linalg/givens.jl:307</a><li> *(p::<b>Base.DFT.ScaledPlan{T,P,N}</b>, x::<b>AbstractArray{T,N}</b>) at <a href=\"https://github.com/JuliaLang/julia/tree/bb73f3489d837e3339fce2c1aab283d3b2e97a4c/base/dft.jl#L262\" target=\"_blank\">dft.jl:262</a><li> *<i>{T,K,N}</i>(p::<b>Base.DFT.FFTW.cFFTWPlan{T,K,false,N}</b>, x::<b>Union{DenseArray{T,N},SubArray{T,N,A<:DenseArray{T,N},I<:Tuple{Vararg{Union{Colon,Int64,Range{Int64}}}},LD}}</b>) at <a href=\"https://github.com/JuliaLang/julia/tree/bb73f3489d837e3339fce2c1aab283d3b2e97a4c/base/fft/FFTW.jl#L621\" target=\"_blank\">fft/FFTW.jl:621</a><li> *<i>{T,K}</i>(p::<b>Base.DFT.FFTW.cFFTWPlan{T,K,true,N}</b>, x::<b>Union{DenseArray{T,N},SubArray{T,N,A<:DenseArray{T,N},I<:Tuple{Vararg{Union{Colon,Int64,Range{Int64}}}},LD}}</b>) at <a href=\"https://github.com/JuliaLang/julia/tree/bb73f3489d837e3339fce2c1aab283d3b2e97a4c/base/fft/FFTW.jl#L628\" target=\"_blank\">fft/FFTW.jl:628</a><li> *<i>{N}</i>(p::<b>Base.DFT.FFTW.rFFTWPlan{Float32,-1,false,N}</b>, x::<b>Union{DenseArray{Float32,N},SubArray{Float32,N,A<:DenseArray{T,N},I<:Tuple{Vararg{Union{Colon,Int64,Range{Int64}}}},LD}}</b>) at <a href=\"https://github.com/JuliaLang/julia/tree/bb73f3489d837e3339fce2c1aab283d3b2e97a4c/base/fft/FFTW.jl#L698\" target=\"_blank\">fft/FFTW.jl:698</a><li> *<i>{N}</i>(p::<b>Base.DFT.FFTW.rFFTWPlan{Complex{Float32},1,false,N}</b>, x::<b>Union{DenseArray{Complex{Float32},N},SubArray{Complex{Float32},N,A<:DenseArray{T,N},I<:Tuple{Vararg{Union{Colon,Int64,Range{Int64}}}},LD}}</b>) at <a href=\"https://github.com/JuliaLang/julia/tree/bb73f3489d837e3339fce2c1aab283d3b2e97a4c/base/fft/FFTW.jl#L705\" target=\"_blank\">fft/FFTW.jl:705</a><li> *<i>{N}</i>(p::<b>Base.DFT.FFTW.rFFTWPlan{Float64,-1,false,N}</b>, x::<b>Union{DenseArray{Float64,N},SubArray{Float64,N,A<:DenseArray{T,N},I<:Tuple{Vararg{Union{Colon,Int64,Range{Int64}}}},LD}}</b>) at <a href=\"https://github.com/JuliaLang/julia/tree/bb73f3489d837e3339fce2c1aab283d3b2e97a4c/base/fft/FFTW.jl#L698\" target=\"_blank\">fft/FFTW.jl:698</a><li> *<i>{N}</i>(p::<b>Base.DFT.FFTW.rFFTWPlan{Complex{Float64},1,false,N}</b>, x::<b>Union{DenseArray{Complex{Float64},N},SubArray{Complex{Float64},N,A<:DenseArray{T,N},I<:Tuple{Vararg{Union{Colon,Int64,Range{Int64}}}},LD}}</b>) at <a href=\"https://github.com/JuliaLang/julia/tree/bb73f3489d837e3339fce2c1aab283d3b2e97a4c/base/fft/FFTW.jl#L705\" target=\"_blank\">fft/FFTW.jl:705</a><li> *<i>{T,K,N}</i>(p::<b>Base.DFT.FFTW.r2rFFTWPlan{T,K,false,N}</b>, x::<b>Union{DenseArray{T,N},SubArray{T,N,A<:DenseArray{T,N},I<:Tuple{Vararg{Union{Colon,Int64,Range{Int64}}}},LD}}</b>) at <a href=\"https://github.com/JuliaLang/julia/tree/bb73f3489d837e3339fce2c1aab283d3b2e97a4c/base/fft/FFTW.jl#L866\" target=\"_blank\">fft/FFTW.jl:866</a><li> *<i>{T,K}</i>(p::<b>Base.DFT.FFTW.r2rFFTWPlan{T,K,true,N}</b>, x::<b>Union{DenseArray{T,N},SubArray{T,N,A<:DenseArray{T,N},I<:Tuple{Vararg{Union{Colon,Int64,Range{Int64}}}},LD}}</b>) at <a href=\"https://github.com/JuliaLang/julia/tree/bb73f3489d837e3339fce2c1aab283d3b2e97a4c/base/fft/FFTW.jl#L873\" target=\"_blank\">fft/FFTW.jl:873</a><li> *<i>{T}</i>(p::<b>Base.DFT.FFTW.DCTPlan{T,5,false}</b>, x::<b>Union{DenseArray{T,N},SubArray{T,N,A<:DenseArray{T,N},I<:Tuple{Vararg{Union{Colon,Int64,Range{Int64}}}},LD}}</b>) at <a href=\"https://github.com/JuliaLang/julia/tree/bb73f3489d837e3339fce2c1aab283d3b2e97a4c/base/fft/dct.jl#L188\" target=\"_blank\">fft/dct.jl:188</a><li> *<i>{T}</i>(p::<b>Base.DFT.FFTW.DCTPlan{T,4,false}</b>, x::<b>Union{DenseArray{T,N},SubArray{T,N,A<:DenseArray{T,N},I<:Tuple{Vararg{Union{Colon,Int64,Range{Int64}}}},LD}}</b>) at <a href=\"https://github.com/JuliaLang/julia/tree/bb73f3489d837e3339fce2c1aab283d3b2e97a4c/base/fft/dct.jl#L191\" target=\"_blank\">fft/dct.jl:191</a><li> *<i>{T,K}</i>(p::<b>Base.DFT.FFTW.DCTPlan{T,K,true}</b>, x::<b>Union{DenseArray{T,N},SubArray{T,N,A<:DenseArray{T,N},I<:Tuple{Vararg{Union{Colon,Int64,Range{Int64}}}},LD}}</b>) at <a href=\"https://github.com/JuliaLang/julia/tree/bb73f3489d837e3339fce2c1aab283d3b2e97a4c/base/fft/dct.jl#L194\" target=\"_blank\">fft/dct.jl:194</a><li> *<i>{T}</i>(p::<b>Base.DFT.Plan{T}</b>, x::<b>AbstractArray{T,N}</b>) at <a href=\"https://github.com/JuliaLang/julia/tree/bb73f3489d837e3339fce2c1aab283d3b2e97a4c/base/dft.jl#L221\" target=\"_blank\">dft.jl:221</a><li> *(α::<b>Number</b>, p::<b>Base.DFT.Plan{T}</b>) at <a href=\"https://github.com/JuliaLang/julia/tree/bb73f3489d837e3339fce2c1aab283d3b2e97a4c/base/dft.jl#L264\" target=\"_blank\">dft.jl:264</a><li> *(p::<b>Base.DFT.Plan{T}</b>, α::<b>Number</b>) at <a href=\"https://github.com/JuliaLang/julia/tree/bb73f3489d837e3339fce2c1aab283d3b2e97a4c/base/dft.jl#L265\" target=\"_blank\">dft.jl:265</a><li> *(I::<b>UniformScaling{T<:Number}</b>, p::<b>Base.DFT.ScaledPlan{T,P,N}</b>) at <a href=\"https://github.com/JuliaLang/julia/tree/bb73f3489d837e3339fce2c1aab283d3b2e97a4c/base/dft.jl#L266\" target=\"_blank\">dft.jl:266</a><li> *(p::<b>Base.DFT.ScaledPlan{T,P,N}</b>, I::<b>UniformScaling{T<:Number}</b>) at <a href=\"https://github.com/JuliaLang/julia/tree/bb73f3489d837e3339fce2c1aab283d3b2e97a4c/base/dft.jl#L267\" target=\"_blank\">dft.jl:267</a><li> *(I::<b>UniformScaling{T<:Number}</b>, p::<b>Base.DFT.Plan{T}</b>) at <a href=\"https://github.com/JuliaLang/julia/tree/bb73f3489d837e3339fce2c1aab283d3b2e97a4c/base/dft.jl#L268\" target=\"_blank\">dft.jl:268</a><li> *(p::<b>Base.DFT.Plan{T}</b>, I::<b>UniformScaling{T<:Number}</b>) at <a href=\"https://github.com/JuliaLang/julia/tree/bb73f3489d837e3339fce2c1aab283d3b2e97a4c/base/dft.jl#L269\" target=\"_blank\">dft.jl:269</a><li> *<i>{P<:Base.Dates.Period}</i>(x::<b>P<:Base.Dates.Period</b>, y::<b>Real</b>) at <a href=\"https://github.com/JuliaLang/julia/tree/bb73f3489d837e3339fce2c1aab283d3b2e97a4c/base/dates/periods.jl#L54\" target=\"_blank\">dates/periods.jl:54</a><li> *(a, b, c, xs...) at <a href=\"https://github.com/JuliaLang/julia/tree/bb73f3489d837e3339fce2c1aab283d3b2e97a4c/base/operators.jl#L103\" target=\"_blank\">operators.jl:103</a></ul>"
      ],
      "text/plain": [
       "# 138 methods for generic function \"*\":\n",
       "*(x::Bool, y::Bool) at bool.jl:38\n",
       "*{T<:Unsigned}(x::Bool, y::T<:Unsigned) at bool.jl:53\n",
       "*(x::Bool, z::Complex{Bool}) at complex.jl:122\n",
       "*(x::Bool, z::Complex{T<:Real}) at complex.jl:129\n",
       "*{T<:Number}(x::Bool, y::T<:Number) at bool.jl:49\n",
       "*(x::Float32, y::Float32) at float.jl:207\n",
       "*(x::Float64, y::Float64) at float.jl:208\n",
       "*(z::Complex{T<:Real}, w::Complex{T<:Real}) at complex.jl:113\n",
       "*(z::Complex{Bool}, x::Bool) at complex.jl:123\n",
       "*(z::Complex{T<:Real}, x::Bool) at complex.jl:130\n",
       "*(x::Real, z::Complex{Bool}) at complex.jl:140\n",
       "*(z::Complex{Bool}, x::Real) at complex.jl:141\n",
       "*(x::Real, z::Complex{T<:Real}) at complex.jl:152\n",
       "*(z::Complex{T<:Real}, x::Real) at complex.jl:153\n",
       "*(x::Rational{T<:Integer}, y::Rational{T<:Integer}) at rational.jl:186\n",
       "*(a::Float16, b::Float16) at float16.jl:136\n",
       "*{N}(a::Integer, index::CartesianIndex{N}) at multidimensional.jl:50\n",
       "*(x::BigInt, y::BigInt) at gmp.jl:256\n",
       "*(a::BigInt, b::BigInt, c::BigInt) at gmp.jl:279\n",
       "*(a::BigInt, b::BigInt, c::BigInt, d::BigInt) at gmp.jl:285\n",
       "*(a::BigInt, b::BigInt, c::BigInt, d::BigInt, e::BigInt) at gmp.jl:292\n",
       "*(x::BigInt, c::Union{UInt16,UInt32,UInt64,UInt8}) at gmp.jl:326\n",
       "*(c::Union{UInt16,UInt32,UInt64,UInt8}, x::BigInt) at gmp.jl:330\n",
       "*(x::BigInt, c::Union{Int16,Int32,Int64,Int8}) at gmp.jl:332\n",
       "*(c::Union{Int16,Int32,Int64,Int8}, x::BigInt) at gmp.jl:336\n",
       "*(x::BigFloat, y::BigFloat) at mpfr.jl:208\n",
       "*(x::BigFloat, c::Union{UInt16,UInt32,UInt64,UInt8}) at mpfr.jl:215\n",
       "*(c::Union{UInt16,UInt32,UInt64,UInt8}, x::BigFloat) at mpfr.jl:219\n",
       "*(x::BigFloat, c::Union{Int16,Int32,Int64,Int8}) at mpfr.jl:223\n",
       "*(c::Union{Int16,Int32,Int64,Int8}, x::BigFloat) at mpfr.jl:227\n",
       "*(x::BigFloat, c::Union{Float16,Float32,Float64}) at mpfr.jl:231\n",
       "*(c::Union{Float16,Float32,Float64}, x::BigFloat) at mpfr.jl:235\n",
       "*(x::BigFloat, c::BigInt) at mpfr.jl:239\n",
       "*(c::BigInt, x::BigFloat) at mpfr.jl:243\n",
       "*(a::BigFloat, b::BigFloat, c::BigFloat) at mpfr.jl:379\n",
       "*(a::BigFloat, b::BigFloat, c::BigFloat, d::BigFloat) at mpfr.jl:385\n",
       "*(a::BigFloat, b::BigFloat, c::BigFloat, d::BigFloat, e::BigFloat) at mpfr.jl:392\n",
       "*{T<:Number}(x::T<:Number, D::Diagonal{T}) at linalg/diagonal.jl:89\n",
       "*(x::Irrational{sym}, y::Irrational{sym}) at irrationals.jl:72\n",
       "*(y::Real, x::Base.Dates.Period) at dates/periods.jl:55\n",
       "*(x::Number) at operators.jl:74\n",
       "*(y::Number, x::Bool) at bool.jl:55\n",
       "*(x::Int8, y::Int8) at int.jl:19\n",
       "*(x::UInt8, y::UInt8) at int.jl:19\n",
       "*(x::Int16, y::Int16) at int.jl:19\n",
       "*(x::UInt16, y::UInt16) at int.jl:19\n",
       "*(x::Int32, y::Int32) at int.jl:19\n",
       "*(x::UInt32, y::UInt32) at int.jl:19\n",
       "*(x::Int64, y::Int64) at int.jl:19\n",
       "*(x::UInt64, y::UInt64) at int.jl:19\n",
       "*(x::Int128, y::Int128) at int.jl:456\n",
       "*(x::UInt128, y::UInt128) at int.jl:457\n",
       "*{T<:Number}(x::T<:Number, y::T<:Number) at promotion.jl:212\n",
       "*(x::Number, y::Number) at promotion.jl:168\n",
       "*{T<:Union{Complex{Float32},Complex{Float64},Float32,Float64},S}(A::Union{DenseArray{T<:Union{Complex{Float32},Complex{Float64},Float32,Float64},2},SubArray{T<:Union{Complex{Float32},Complex{Float64},Float32,Float64},2,A<:DenseArray{T,N},I<:Tuple{Vararg{Union{Colon,Int64,Range{Int64}}}},LD}}, x::Union{DenseArray{S,1},SubArray{S,1,A<:DenseArray{T,N},I<:Tuple{Vararg{Union{Colon,Int64,Range{Int64}}}},LD}}) at linalg/matmul.jl:81\n",
       "*(A::SymTridiagonal{T}, B::Number) at linalg/tridiag.jl:86\n",
       "*(A::Tridiagonal{T}, B::Number) at linalg/tridiag.jl:406\n",
       "*(A::UpperTriangular{T,S<:AbstractArray{T,2}}, x::Number) at linalg/triangular.jl:454\n",
       "*(A::Base.LinAlg.UnitUpperTriangular{T,S<:AbstractArray{T,2}}, x::Number) at linalg/triangular.jl:457\n",
       "*(A::LowerTriangular{T,S<:AbstractArray{T,2}}, x::Number) at linalg/triangular.jl:454\n",
       "*(A::Base.LinAlg.UnitLowerTriangular{T,S<:AbstractArray{T,2}}, x::Number) at linalg/triangular.jl:457\n",
       "*(A::Tridiagonal{T}, B::UpperTriangular{T,S<:AbstractArray{T,2}}) at linalg/triangular.jl:969\n",
       "*(A::Tridiagonal{T}, B::Base.LinAlg.UnitUpperTriangular{T,S<:AbstractArray{T,2}}) at linalg/triangular.jl:969\n",
       "*(A::Tridiagonal{T}, B::LowerTriangular{T,S<:AbstractArray{T,2}}) at linalg/triangular.jl:969\n",
       "*(A::Tridiagonal{T}, B::Base.LinAlg.UnitLowerTriangular{T,S<:AbstractArray{T,2}}) at linalg/triangular.jl:969\n",
       "*(A::Base.LinAlg.AbstractTriangular{T,S<:AbstractArray{T,2}}, B::Base.LinAlg.AbstractTriangular{T,S<:AbstractArray{T,2}}) at linalg/triangular.jl:975\n",
       "*{TA,TB}(A::Base.LinAlg.AbstractTriangular{TA,S<:AbstractArray{T,2}}, B::Union{DenseArray{TB,1},DenseArray{TB,2},SubArray{TB,1,A<:DenseArray{T,N},I<:Tuple{Vararg{Union{Colon,Int64,Range{Int64}}}},LD},SubArray{TB,2,A<:DenseArray{T,N},I<:Tuple{Vararg{Union{Colon,Int64,Range{Int64}}}},LD}}) at linalg/triangular.jl:989\n",
       "*{TA,TB}(A::Union{DenseArray{TA,1},DenseArray{TA,2},SubArray{TA,1,A<:DenseArray{T,N},I<:Tuple{Vararg{Union{Colon,Int64,Range{Int64}}}},LD},SubArray{TA,2,A<:DenseArray{T,N},I<:Tuple{Vararg{Union{Colon,Int64,Range{Int64}}}},LD}}, B::Base.LinAlg.AbstractTriangular{TB,S<:AbstractArray{T,2}}) at linalg/triangular.jl:1016\n",
       "*{TA,Tb}(A::Union{Base.LinAlg.QRCompactWYQ{TA,M<:AbstractArray{T,2}},Base.LinAlg.QRPackedQ{TA,S<:AbstractArray{T,2}}}, b::Union{DenseArray{Tb,1},SubArray{Tb,1,A<:DenseArray{T,N},I<:Tuple{Vararg{Union{Colon,Int64,Range{Int64}}}},LD}}) at linalg/qr.jl:166\n",
       "*{TA,TB}(A::Union{Base.LinAlg.QRCompactWYQ{TA,M<:AbstractArray{T,2}},Base.LinAlg.QRPackedQ{TA,S<:AbstractArray{T,2}}}, B::Union{DenseArray{TB,2},SubArray{TB,2,A<:DenseArray{T,N},I<:Tuple{Vararg{Union{Colon,Int64,Range{Int64}}}},LD}}) at linalg/qr.jl:178\n",
       "*{TA,TQ,N}(A::Union{DenseArray{TA,N},SubArray{TA,N,A<:DenseArray{T,N},I<:Tuple{Vararg{Union{Colon,Int64,Range{Int64}}}},LD}}, Q::Union{Base.LinAlg.QRCompactWYQ{TQ,M<:AbstractArray{T,2}},Base.LinAlg.QRPackedQ{TQ,S<:AbstractArray{T,2}}}) at linalg/qr.jl:253\n",
       "*(A::Union{Hermitian{T,S},Symmetric{T,S}}, B::Union{Hermitian{T,S},Symmetric{T,S}}) at linalg/symmetric.jl:117\n",
       "*(A::Union{DenseArray{T,2},SubArray{T,2,A<:DenseArray{T,N},I<:Tuple{Vararg{Union{Colon,Int64,Range{Int64}}}},LD}}, B::Union{Hermitian{T,S},Symmetric{T,S}}) at linalg/symmetric.jl:118\n",
       "*{T<:Number}(D::Diagonal{T}, x::T<:Number) at linalg/diagonal.jl:90\n",
       "*(Da::Diagonal{T}, Db::Diagonal{T}) at linalg/diagonal.jl:92\n",
       "*(D::Diagonal{T}, V::Array{T,1}) at linalg/diagonal.jl:93\n",
       "*(A::Array{T,2}, D::Diagonal{T}) at linalg/diagonal.jl:94\n",
       "*(D::Diagonal{T}, A::Array{T,2}) at linalg/diagonal.jl:95\n",
       "*(A::Bidiagonal{T}, B::Number) at linalg/bidiag.jl:192\n",
       "*(A::Union{Base.LinAlg.AbstractTriangular{T,S<:AbstractArray{T,2}},Bidiagonal{T},Diagonal{T},SymTridiagonal{T},Tridiagonal{T}}, B::Union{Base.LinAlg.AbstractTriangular{T,S<:AbstractArray{T,2}},Bidiagonal{T},Diagonal{T},SymTridiagonal{T},Tridiagonal{T}}) at linalg/bidiag.jl:198\n",
       "*{T}(A::Bidiagonal{T}, B::AbstractArray{T,1}) at linalg/bidiag.jl:202\n",
       "*(B::BitArray{2}, J::UniformScaling{T<:Number}) at linalg/uniformscaling.jl:122\n",
       "*{T,S}(s::Base.LinAlg.SVDOperator{T,S}, v::Array{T,1}) at linalg/arnoldi.jl:261\n",
       "*(S::SparseMatrixCSC{Tv,Ti<:Integer}, J::UniformScaling{T<:Number}) at sparse/linalg.jl:23\n",
       "*{Tv,Ti}(A::SparseMatrixCSC{Tv,Ti}, B::SparseMatrixCSC{Tv,Ti}) at sparse/linalg.jl:108\n",
       "*{TvA,TiA,TvB,TiB}(A::SparseMatrixCSC{TvA,TiA}, B::SparseMatrixCSC{TvB,TiB}) at sparse/linalg.jl:29\n",
       "*{TX,TvA,TiA}(X::Union{DenseArray{TX,2},SubArray{TX,2,A<:DenseArray{T,N},I<:Tuple{Vararg{Union{Colon,Int64,Range{Int64}}}},LD}}, A::SparseMatrixCSC{TvA,TiA}) at sparse/linalg.jl:94\n",
       "*(A::Base.SparseMatrix.CHOLMOD.Sparse{Tv<:Union{Complex{Float64},Float64}}, B::Base.SparseMatrix.CHOLMOD.Sparse{Tv<:Union{Complex{Float64},Float64}}) at sparse/cholmod.jl:1144\n",
       "*(A::Base.SparseMatrix.CHOLMOD.Sparse{Tv<:Union{Complex{Float64},Float64}}, B::Base.SparseMatrix.CHOLMOD.Dense{T<:Union{Complex{Float64},Float64}}) at sparse/cholmod.jl:1145\n",
       "*(A::Base.SparseMatrix.CHOLMOD.Sparse{Tv<:Union{Complex{Float64},Float64}}, B::Union{Array{T,1},Array{T,2}}) at sparse/cholmod.jl:1146\n",
       "*{Ti}(A::Symmetric{Float64,SparseMatrixCSC{Float64,Ti}}, B::SparseMatrixCSC{Float64,Ti}) at sparse/cholmod.jl:1403\n",
       "*{Ti}(A::Hermitian{Complex{Float64},SparseMatrixCSC{Complex{Float64},Ti}}, B::SparseMatrixCSC{Complex{Float64},Ti}) at sparse/cholmod.jl:1404\n",
       "*{T<:Number}(x::AbstractArray{T<:Number,2}) at abstractarraymath.jl:50\n",
       "*(B::Number, A::SymTridiagonal{T}) at linalg/tridiag.jl:87\n",
       "*(B::Number, A::Tridiagonal{T}) at linalg/tridiag.jl:407\n",
       "*(x::Number, A::UpperTriangular{T,S<:AbstractArray{T,2}}) at linalg/triangular.jl:464\n",
       "*(x::Number, A::Base.LinAlg.UnitUpperTriangular{T,S<:AbstractArray{T,2}}) at linalg/triangular.jl:467\n",
       "*(x::Number, A::LowerTriangular{T,S<:AbstractArray{T,2}}) at linalg/triangular.jl:464\n",
       "*(x::Number, A::Base.LinAlg.UnitLowerTriangular{T,S<:AbstractArray{T,2}}) at linalg/triangular.jl:467\n",
       "*(B::Number, A::Bidiagonal{T}) at linalg/bidiag.jl:193\n",
       "*(A::Number, B::AbstractArray{T,N}) at abstractarraymath.jl:54\n",
       "*(A::AbstractArray{T,N}, B::Number) at abstractarraymath.jl:55\n",
       "*(s1::AbstractString, ss::AbstractString...) at strings/basic.jl:50\n",
       "*(this::Base.Grisu.Float, other::Base.Grisu.Float) at grisu/float.jl:138\n",
       "*(index::CartesianIndex{N}, a::Integer) at multidimensional.jl:54\n",
       "*{T,S}(A::AbstractArray{T,2}, B::Union{DenseArray{S,2},SubArray{S,2,A<:DenseArray{T,N},I<:Tuple{Vararg{Union{Colon,Int64,Range{Int64}}}},LD}}) at linalg/matmul.jl:130\n",
       "*{T,S}(A::AbstractArray{T,2}, x::AbstractArray{S,1}) at linalg/matmul.jl:85\n",
       "*(A::AbstractArray{T,1}, B::AbstractArray{T,2}) at linalg/matmul.jl:88\n",
       "*(J1::UniformScaling{T<:Number}, J2::UniformScaling{T<:Number}) at linalg/uniformscaling.jl:121\n",
       "*(J::UniformScaling{T<:Number}, B::BitArray{2}) at linalg/uniformscaling.jl:123\n",
       "*(A::AbstractArray{T,2}, J::UniformScaling{T<:Number}) at linalg/uniformscaling.jl:124\n",
       "*{Tv,Ti}(J::UniformScaling{T<:Number}, S::SparseMatrixCSC{Tv,Ti}) at sparse/linalg.jl:24\n",
       "*(J::UniformScaling{T<:Number}, A::Union{AbstractArray{T,1},AbstractArray{T,2}}) at linalg/uniformscaling.jl:125\n",
       "*(x::Number, J::UniformScaling{T<:Number}) at linalg/uniformscaling.jl:127\n",
       "*(J::UniformScaling{T<:Number}, x::Number) at linalg/uniformscaling.jl:128\n",
       "*{T,S}(R::Base.LinAlg.AbstractRotation{T}, A::Union{AbstractArray{S,1},AbstractArray{S,2}}) at linalg/givens.jl:9\n",
       "*{T}(G1::Base.LinAlg.Givens{T}, G2::Base.LinAlg.Givens{T}) at linalg/givens.jl:307\n",
       "*(p::Base.DFT.ScaledPlan{T,P,N}, x::AbstractArray{T,N}) at dft.jl:262\n",
       "*{T,K,N}(p::Base.DFT.FFTW.cFFTWPlan{T,K,false,N}, x::Union{DenseArray{T,N},SubArray{T,N,A<:DenseArray{T,N},I<:Tuple{Vararg{Union{Colon,Int64,Range{Int64}}}},LD}}) at fft/FFTW.jl:621\n",
       "*{T,K}(p::Base.DFT.FFTW.cFFTWPlan{T,K,true,N}, x::Union{DenseArray{T,N},SubArray{T,N,A<:DenseArray{T,N},I<:Tuple{Vararg{Union{Colon,Int64,Range{Int64}}}},LD}}) at fft/FFTW.jl:628\n",
       "*{N}(p::Base.DFT.FFTW.rFFTWPlan{Float32,-1,false,N}, x::Union{DenseArray{Float32,N},SubArray{Float32,N,A<:DenseArray{T,N},I<:Tuple{Vararg{Union{Colon,Int64,Range{Int64}}}},LD}}) at fft/FFTW.jl:698\n",
       "*{N}(p::Base.DFT.FFTW.rFFTWPlan{Complex{Float32},1,false,N}, x::Union{DenseArray{Complex{Float32},N},SubArray{Complex{Float32},N,A<:DenseArray{T,N},I<:Tuple{Vararg{Union{Colon,Int64,Range{Int64}}}},LD}}) at fft/FFTW.jl:705\n",
       "*{N}(p::Base.DFT.FFTW.rFFTWPlan{Float64,-1,false,N}, x::Union{DenseArray{Float64,N},SubArray{Float64,N,A<:DenseArray{T,N},I<:Tuple{Vararg{Union{Colon,Int64,Range{Int64}}}},LD}}) at fft/FFTW.jl:698\n",
       "*{N}(p::Base.DFT.FFTW.rFFTWPlan{Complex{Float64},1,false,N}, x::Union{DenseArray{Complex{Float64},N},SubArray{Complex{Float64},N,A<:DenseArray{T,N},I<:Tuple{Vararg{Union{Colon,Int64,Range{Int64}}}},LD}}) at fft/FFTW.jl:705\n",
       "*{T,K,N}(p::Base.DFT.FFTW.r2rFFTWPlan{T,K,false,N}, x::Union{DenseArray{T,N},SubArray{T,N,A<:DenseArray{T,N},I<:Tuple{Vararg{Union{Colon,Int64,Range{Int64}}}},LD}}) at fft/FFTW.jl:866\n",
       "*{T,K}(p::Base.DFT.FFTW.r2rFFTWPlan{T,K,true,N}, x::Union{DenseArray{T,N},SubArray{T,N,A<:DenseArray{T,N},I<:Tuple{Vararg{Union{Colon,Int64,Range{Int64}}}},LD}}) at fft/FFTW.jl:873\n",
       "*{T}(p::Base.DFT.FFTW.DCTPlan{T,5,false}, x::Union{DenseArray{T,N},SubArray{T,N,A<:DenseArray{T,N},I<:Tuple{Vararg{Union{Colon,Int64,Range{Int64}}}},LD}}) at fft/dct.jl:188\n",
       "*{T}(p::Base.DFT.FFTW.DCTPlan{T,4,false}, x::Union{DenseArray{T,N},SubArray{T,N,A<:DenseArray{T,N},I<:Tuple{Vararg{Union{Colon,Int64,Range{Int64}}}},LD}}) at fft/dct.jl:191\n",
       "*{T,K}(p::Base.DFT.FFTW.DCTPlan{T,K,true}, x::Union{DenseArray{T,N},SubArray{T,N,A<:DenseArray{T,N},I<:Tuple{Vararg{Union{Colon,Int64,Range{Int64}}}},LD}}) at fft/dct.jl:194\n",
       "*{T}(p::Base.DFT.Plan{T}, x::AbstractArray{T,N}) at dft.jl:221\n",
       "*(α::Number, p::Base.DFT.Plan{T}) at dft.jl:264\n",
       "*(p::Base.DFT.Plan{T}, α::Number) at dft.jl:265\n",
       "*(I::UniformScaling{T<:Number}, p::Base.DFT.ScaledPlan{T,P,N}) at dft.jl:266\n",
       "*(p::Base.DFT.ScaledPlan{T,P,N}, I::UniformScaling{T<:Number}) at dft.jl:267\n",
       "*(I::UniformScaling{T<:Number}, p::Base.DFT.Plan{T}) at dft.jl:268\n",
       "*(p::Base.DFT.Plan{T}, I::UniformScaling{T<:Number}) at dft.jl:269\n",
       "*{P<:Base.Dates.Period}(x::P<:Base.Dates.Period, y::Real) at dates/periods.jl:54\n",
       "*(a, b, c, xs...) at operators.jl:103"
      ]
     },
     "execution_count": 25,
     "metadata": {},
     "output_type": "execute_result"
    }
   ],
   "source": [
    "methods(*)"
   ]
  },
  {
   "cell_type": "code",
   "execution_count": 29,
   "metadata": {
    "collapsed": false
   },
   "outputs": [
    {
     "data": {
      "text/plain": [
       "2-element Array{Int64,1}:\n",
       " 1\n",
       " 2"
      ]
     },
     "execution_count": 29,
     "metadata": {},
     "output_type": "execute_result"
    }
   ],
   "source": [
    "v = [1,2]"
   ]
  },
  {
   "cell_type": "code",
   "execution_count": 30,
   "metadata": {
    "collapsed": false
   },
   "outputs": [
    {
     "ename": "LoadError",
     "evalue": "LoadError: MethodError: `*` has no method matching *(::Array{Int64,1}, ::Array{Int64,1})\nClosest candidates are:\n  *(::Any, ::Any, !Matched::Any, !Matched::Any...)\n  *{T<:Union{Complex{Float32},Complex{Float64},Float32,Float64},S}(!Matched::Union{DenseArray{T<:Union{Complex{Float32},Complex{Float64},Float32,Float64},2},SubArray{T<:Union{Complex{Float32},Complex{Float64},Float32,Float64},2,A<:DenseArray{T,N},I<:Tuple{Vararg{Union{Colon,Int64,Range{Int64}}}},LD}}, ::Union{DenseArray{S,1},SubArray{S,1,A<:DenseArray{T,N},I<:Tuple{Vararg{Union{Colon,Int64,Range{Int64}}}},LD}})\n  *{TA,TB}(!Matched::Base.LinAlg.AbstractTriangular{TA,S<:AbstractArray{T,2}}, ::Union{DenseArray{TB,1},DenseArray{TB,2},SubArray{TB,1,A<:DenseArray{T,N},I<:Tuple{Vararg{Union{Colon,Int64,Range{Int64}}}},LD},SubArray{TB,2,A<:DenseArray{T,N},I<:Tuple{Vararg{Union{Colon,Int64,Range{Int64}}}},LD}})\n  ...\nwhile loading In[30], in expression starting on line 1",
     "output_type": "error",
     "traceback": [
      "LoadError: MethodError: `*` has no method matching *(::Array{Int64,1}, ::Array{Int64,1})\nClosest candidates are:\n  *(::Any, ::Any, !Matched::Any, !Matched::Any...)\n  *{T<:Union{Complex{Float32},Complex{Float64},Float32,Float64},S}(!Matched::Union{DenseArray{T<:Union{Complex{Float32},Complex{Float64},Float32,Float64},2},SubArray{T<:Union{Complex{Float32},Complex{Float64},Float32,Float64},2,A<:DenseArray{T,N},I<:Tuple{Vararg{Union{Colon,Int64,Range{Int64}}}},LD}}, ::Union{DenseArray{S,1},SubArray{S,1,A<:DenseArray{T,N},I<:Tuple{Vararg{Union{Colon,Int64,Range{Int64}}}},LD}})\n  *{TA,TB}(!Matched::Base.LinAlg.AbstractTriangular{TA,S<:AbstractArray{T,2}}, ::Union{DenseArray{TB,1},DenseArray{TB,2},SubArray{TB,1,A<:DenseArray{T,N},I<:Tuple{Vararg{Union{Colon,Int64,Range{Int64}}}},LD},SubArray{TB,2,A<:DenseArray{T,N},I<:Tuple{Vararg{Union{Colon,Int64,Range{Int64}}}},LD}})\n  ...\nwhile loading In[30], in expression starting on line 1",
      ""
     ]
    }
   ],
   "source": [
    "v*v"
   ]
  },
  {
   "cell_type": "code",
   "execution_count": 27,
   "metadata": {
    "collapsed": false
   },
   "outputs": [
    {
     "data": {
      "text/plain": [
       "2x2 Array{Int64,2}:\n",
       " 2  1\n",
       " 1  1"
      ]
     },
     "execution_count": 27,
     "metadata": {},
     "output_type": "execute_result"
    }
   ],
   "source": [
    "M = [2 1; 1 1]"
   ]
  },
  {
   "cell_type": "code",
   "execution_count": 28,
   "metadata": {
    "collapsed": false
   },
   "outputs": [
    {
     "ename": "LoadError",
     "evalue": "LoadError: UndefVarError: v not defined\nwhile loading In[28], in expression starting on line 1",
     "output_type": "error",
     "traceback": [
      "LoadError: UndefVarError: v not defined\nwhile loading In[28], in expression starting on line 1",
      ""
     ]
    }
   ],
   "source": [
    "dot(M,v)"
   ]
  },
  {
   "cell_type": "code",
   "execution_count": 31,
   "metadata": {
    "collapsed": false
   },
   "outputs": [
    {
     "data": {
      "text/plain": [
       "2-element Array{Int64,1}:\n",
       " 4\n",
       " 3"
      ]
     },
     "execution_count": 31,
     "metadata": {},
     "output_type": "execute_result"
    }
   ],
   "source": [
    "M * v"
   ]
  },
  {
   "cell_type": "code",
   "execution_count": 32,
   "metadata": {
    "collapsed": false
   },
   "outputs": [
    {
     "data": {
      "text/html": [
       "*<i>{T,S}</i>(A::<b>AbstractArray{T,2}</b>, x::<b>AbstractArray{S,1}</b>) at <a href=\"https://github.com/JuliaLang/julia/tree/bb73f3489d837e3339fce2c1aab283d3b2e97a4c/base/linalg/matmul.jl#L85\" target=\"_blank\">linalg/matmul.jl:85</a>"
      ],
      "text/plain": [
       "*{T,S}(A::AbstractArray{T,2}, x::AbstractArray{S,1}) at linalg/matmul.jl:85"
      ]
     },
     "execution_count": 32,
     "metadata": {},
     "output_type": "execute_result"
    }
   ],
   "source": [
    "@which M*v"
   ]
  },
  {
   "cell_type": "code",
   "execution_count": 34,
   "metadata": {
    "collapsed": false
   },
   "outputs": [
    {
     "data": {
      "text/plain": [
       "100x100 Array{Float64,2}:\n",
       " 0.00745506  0.0184484  0.534967   …  0.190452   0.141091   0.44072  \n",
       " 0.366801    0.24217    0.904608      0.967007   0.712638   0.241529 \n",
       " 0.60575     0.677117   0.0995264     0.771813   0.15409    0.517927 \n",
       " 0.0976086   0.42699    0.104432      0.921896   0.201264   0.459342 \n",
       " 0.675424    0.12182    0.449648      0.708229   0.64645    0.161002 \n",
       " 0.636981    0.266391   0.0439304  …  0.502744   0.164337   0.0661833\n",
       " 0.89402     0.791558   0.255053      0.779734   0.947513   0.0848251\n",
       " 0.554148    0.502004   0.480081      0.548278   0.67004    0.96549  \n",
       " 0.714195    0.892772   0.0922913     0.0144914  0.97494    0.715431 \n",
       " 0.937578    0.693521   0.031696      0.0278471  0.453645   0.829966 \n",
       " 0.422145    0.464981   0.937831   …  0.546709   0.945396   0.873404 \n",
       " 0.0383652   0.920073   0.269282      0.182803   0.64968    0.980713 \n",
       " 0.105187    0.954146   0.431203      0.30426    0.107554   0.92597  \n",
       " ⋮                                 ⋱                                 \n",
       " 0.480422    0.66054    0.131363      0.394161   0.985331   0.606122 \n",
       " 0.152545    0.208441   0.815166      0.902319   0.241073   0.4386   \n",
       " 0.375076    0.507677   0.163305   …  0.928442   0.6133     0.209565 \n",
       " 0.568692    0.816333   0.0710785     0.469206   0.350798   0.714927 \n",
       " 0.808058    0.599174   0.50132       0.786009   0.722801   0.831541 \n",
       " 0.877545    0.0656137  0.11077       0.350889   0.339221   0.982476 \n",
       " 0.34665     0.997125   0.626939      0.0498527  0.639053   0.951808 \n",
       " 0.349249    0.487182   0.617786   …  0.425657   0.0757011  0.737921 \n",
       " 0.929868    0.458655   0.559793      0.572932   0.727795   0.523922 \n",
       " 0.306553    0.401108   0.946504      0.749749   0.677991   0.575476 \n",
       " 0.704496    0.511503   0.162377      0.406069   0.148254   0.589657 \n",
       " 0.592335    0.676636   0.96851       0.649108   0.520181   0.606466 "
      ]
     },
     "execution_count": 34,
     "metadata": {},
     "output_type": "execute_result"
    }
   ],
   "source": [
    "M = rand(100,100)"
   ]
  },
  {
   "cell_type": "code",
   "execution_count": 35,
   "metadata": {
    "collapsed": false
   },
   "outputs": [
    {
     "data": {
      "text/plain": [
       "100x100 Array{BigFloat,2}:\n",
       " 7.455057160781874969757154758553951978683471679687500000000000000000000000000000e-03  …  4.407198578704210056855572474887594580650329589843750000000000000000000000000000e-01\n",
       " 3.668011399992436860628686190466396510601043701171875000000000000000000000000000e-01     2.415286252926993615375295121339149773120880126953125000000000000000000000000000e-01\n",
       " 6.057495735567233197116365772671997547149658203125000000000000000000000000000000e-01     5.179274418595813944676820028689689934253692626953125000000000000000000000000000e-01\n",
       " 9.760859215625106166669411322800442576408386230468750000000000000000000000000000e-02     4.593421745623151863924249482806771993637084960937500000000000000000000000000000e-01\n",
       " 6.754236277528882226306450320407748222351074218750000000000000000000000000000000e-01     1.610021874120497464843992929672822356224060058593750000000000000000000000000000e-01\n",
       " 6.369810230867596345660786028020083904266357421875000000000000000000000000000000e-01  …  6.618333754776162258792737702606245875358581542968750000000000000000000000000000e-02\n",
       " 8.940201001948808734454132718383334577083587646484375000000000000000000000000000e-01     8.482506279215362710033332405146211385726928710937500000000000000000000000000000e-02\n",
       " 5.541483769729940167536597073194570839405059814453125000000000000000000000000000e-01     9.654896001955808326755459347623400390148162841796875000000000000000000000000000e-01\n",
       " 7.141952864832108449633096824982203543186187744140625000000000000000000000000000e-01     7.154313102213338826373956180759705603122711181640625000000000000000000000000000e-01\n",
       " 9.375776683448695525413540963199920952320098876953125000000000000000000000000000e-01     8.299658521782367071040198425180278718471527099609375000000000000000000000000000e-01\n",
       " 4.221451838347376472881933295866474509239196777343750000000000000000000000000000e-01  …  8.734037937665284356825168288196437060832977294921875000000000000000000000000000e-01\n",
       " 3.836515227172188069459934922633692622184753417968750000000000000000000000000000e-02     9.807129093683235598888359163538552820682525634765625000000000000000000000000000e-01\n",
       " 1.051870278407183167956873148796148598194122314453125000000000000000000000000000e-01     9.259696061648612364081145642558112740516662597656250000000000000000000000000000e-01\n",
       " ⋮                                                                                     ⋱                                                                                      \n",
       " 4.804216120656665811594621118274517357349395751953125000000000000000000000000000e-01     6.061216455044313722311244418960995972156524658203125000000000000000000000000000e-01\n",
       " 1.525450402404784355780975602101534605026245117187500000000000000000000000000000e-01     4.385997620969881438668380724266171455383300781250000000000000000000000000000000e-01\n",
       " 3.750764484777675544791009087930433452129364013671875000000000000000000000000000e-01  …  2.095648131351057763538392464397475123405456542968750000000000000000000000000000e-01\n",
       " 5.686923512422752402528658421942964196205139160156250000000000000000000000000000e-01     7.149267922939481767485858654254116117954254150390625000000000000000000000000000e-01\n",
       " 8.080584046575343126761481471476145088672637939453125000000000000000000000000000e-01     8.315411468805660177849858882836997509002685546875000000000000000000000000000000e-01\n",
       " 8.775450397262511970097875746432691812515258789062500000000000000000000000000000e-01     9.824757427382253549552615368156693875789642333984375000000000000000000000000000e-01\n",
       " 3.466502273241192089159312672563828527927398681640625000000000000000000000000000e-01     9.518084643993978133380551298614591360092163085937500000000000000000000000000000e-01\n",
       " 3.492490874155207425388880437822081148624420166015625000000000000000000000000000e-01  …  7.379205645997222173804175326949916779994964599609375000000000000000000000000000e-01\n",
       " 9.298680642797827466949911467963829636573791503906250000000000000000000000000000e-01     5.239223046250633952780617619282566010951995849609375000000000000000000000000000e-01\n",
       " 3.065531233787992526629295753082260489463806152343750000000000000000000000000000e-01     5.754760966101128971672551415394991636276245117187500000000000000000000000000000e-01\n",
       " 7.044960335566603504275917657651007175445556640625000000000000000000000000000000e-01     5.896567750789774020603317694622091948986053466796875000000000000000000000000000e-01\n",
       " 5.923352968598161183422234898898750543594360351562500000000000000000000000000000e-01     6.064655531776312891167890484211966395378112792968750000000000000000000000000000e-01"
      ]
     },
     "execution_count": 35,
     "metadata": {},
     "output_type": "execute_result"
    }
   ],
   "source": [
    "M2 = map( big, M)"
   ]
  },
  {
   "cell_type": "code",
   "execution_count": 36,
   "metadata": {
    "collapsed": false
   },
   "outputs": [
    {
     "data": {
      "text/plain": [
       "(\n",
       "100x100 Array{BigFloat,2}:\n",
       " 1.000000000000000000000000000000000000000000000000000000000000000000000000000000      …  0.000000000000000000000000000000000000000000000000000000000000000000000000000000\n",
       " 8.353873823213475822665772902804824479442804110581588129344527383636051924181364e-02     0.000000000000000000000000000000000000000000000000000000000000000000000000000000\n",
       " 1.772041558143130390351038082569018121156970110983307254148960081370086302066675e-01     0.000000000000000000000000000000000000000000000000000000000000000000000000000000\n",
       " 7.292054453794155619336828658586079518957396170951252510724771689343195817895735e-02     0.000000000000000000000000000000000000000000000000000000000000000000000000000000\n",
       " 5.996147467514240988941923144629958172988398376993998387956135770485435414023698e-01     0.000000000000000000000000000000000000000000000000000000000000000000000000000000\n",
       " 9.455061813957899197219086338496349818322147061270969192373742204295851070664089e-01  …  0.000000000000000000000000000000000000000000000000000000000000000000000000000000\n",
       " 3.195574426720902921939310416316532692773512026736525779718878809252190195614254e-02     0.000000000000000000000000000000000000000000000000000000000000000000000000000000\n",
       " 1.064797140987768102459382380923837290849770522680860391628842859577392816556858e-01     0.000000000000000000000000000000000000000000000000000000000000000000000000000000\n",
       " 1.583923752123258875423031751809330059698765869364180861124916601208656853714954e-01     0.000000000000000000000000000000000000000000000000000000000000000000000000000000\n",
       " 5.966787006572283066954970971500305799777406691377206757612091733320722774645395e-01     0.000000000000000000000000000000000000000000000000000000000000000000000000000000\n",
       " 2.124601276402826918810947557581906516177379682655243740105863264042022815598673e-01  …  0.000000000000000000000000000000000000000000000000000000000000000000000000000000\n",
       " 2.397863814176232224633273782269346977306173002880206205700133321010607544066196e-01     0.000000000000000000000000000000000000000000000000000000000000000000000000000000\n",
       " 7.546675396819273090486243277280150299530185074076818578101340074999281382391683e-03     0.000000000000000000000000000000000000000000000000000000000000000000000000000000\n",
       " ⋮                                                                                     ⋱                                                                                  \n",
       " 6.131938769621518862278898010156573525225747313336936170893856570646345977414442e-01     0.000000000000000000000000000000000000000000000000000000000000000000000000000000\n",
       " 3.10320479659240549301795446455130621860514865776965170895171532801212592219851e-01      0.000000000000000000000000000000000000000000000000000000000000000000000000000000\n",
       " 1.503991005622992890600989410562252770424679876998228589240186487124077313534802e-01  …  0.000000000000000000000000000000000000000000000000000000000000000000000000000000\n",
       " 2.689812456556273526140229576454058222598683710590460324410610719023730905427147e-01     0.000000000000000000000000000000000000000000000000000000000000000000000000000000\n",
       " 6.53930288104487147430233848637296738373777054080461586887871821243473252306638e-01      0.000000000000000000000000000000000000000000000000000000000000000000000000000000\n",
       " 6.837241840086111284581257062481310744480633695058912115509372529039020477430419e-01     0.000000000000000000000000000000000000000000000000000000000000000000000000000000\n",
       " 9.78230235775158139978721173897537303945767047382964323629050402037775758395279e-01      0.000000000000000000000000000000000000000000000000000000000000000000000000000000\n",
       " 2.051056031683602849469580190191351753803840638225273467231157839079487200144789e-01  …  0.000000000000000000000000000000000000000000000000000000000000000000000000000000\n",
       " 8.883295483958876690544771079143853846709483245904170294637799113688010122801334e-01     0.000000000000000000000000000000000000000000000000000000000000000000000000000000\n",
       " 3.002780618907025262432190828503375341238531555738586578366965375236472234259084e-01     0.000000000000000000000000000000000000000000000000000000000000000000000000000000\n",
       " 3.509103532580252587242860594633340190021965524872073256305927567663123985657946e-01     0.000000000000000000000000000000000000000000000000000000000000000000000000000000\n",
       " 2.024733495921855731222744307388085768881911109288003734231086575507810055377221e-01     1.000000000000000000000000000000000000000000000000000000000000000000000000000000,\n",
       "\n",
       "100x100 Array{BigFloat,2}:\n",
       " 9.878597884207378498899743135552853345870971679687500000000000000000000000000000e-01  …   9.635239888088564796930768352467566728591918945312500000000000000000000000000000e-02\n",
       " 0.000000000000000000000000000000000000000000000000000000000000000000000000000000          1.884958817706663233515711497885244376353502497094895192017405393621097115339103e-01\n",
       " 0.000000000000000000000000000000000000000000000000000000000000000000000000000000          3.583649772309435145607977472330652757922516081742572279200575944893255607738661e-02\n",
       " 0.000000000000000000000000000000000000000000000000000000000000000000000000000000          5.380461927678698030455325988806771890856581195269014089225461229867597666707262e-01\n",
       " 0.000000000000000000000000000000000000000000000000000000000000000000000000000000          9.226464294740074224413554002020693478186900264318957434029503529178460576553849e-02\n",
       " 0.000000000000000000000000000000000000000000000000000000000000000000000000000000      …   3.291022273322645376414066113379725000122419231901116367096929335429448483665926e-01\n",
       " 0.000000000000000000000000000000000000000000000000000000000000000000000000000000          3.199757071370298868869784776022717656790669832236108455540677571227360522857157e-01\n",
       " 0.000000000000000000000000000000000000000000000000000000000000000000000000000000          2.777973000791991599810127869832871899331249635743994616133788423892555940099459e-01\n",
       " 0.000000000000000000000000000000000000000000000000000000000000000000000000000000          8.392986949350782409644044198926916049868648608965997351972716323257082625645664e-01\n",
       " 0.000000000000000000000000000000000000000000000000000000000000000000000000000000          8.441004943253854561388854296042392377661610498218974686000944415092130573696201e-01\n",
       " 0.000000000000000000000000000000000000000000000000000000000000000000000000000000      …  -1.044843209511077670163244370318002047695415990991009801603037380962349416701005e-01\n",
       " 0.000000000000000000000000000000000000000000000000000000000000000000000000000000         -1.288742519451149678510490020068722515856405602457230650346988942668340986567537    \n",
       " 0.000000000000000000000000000000000000000000000000000000000000000000000000000000         -1.325136648732819716856604278326346190787549640391366186700825060024764975809063e-01\n",
       " ⋮                                                                                     ⋱                                                                                       \n",
       " 0.000000000000000000000000000000000000000000000000000000000000000000000000000000         -1.656392683636974994544706606879136815645349218365179120504463738100839861628045    \n",
       " 0.000000000000000000000000000000000000000000000000000000000000000000000000000000         -3.997913295788683040384109004124931773661473810676596025869310517338543130974396e-01\n",
       " 0.000000000000000000000000000000000000000000000000000000000000000000000000000000      …   1.056317561275695741929675429135212022664884035228446168642553719618434413563463e-02\n",
       " 0.000000000000000000000000000000000000000000000000000000000000000000000000000000         -1.931865977761566515741547896988785677194566702969617371537458267054655952737563    \n",
       " 0.000000000000000000000000000000000000000000000000000000000000000000000000000000         -3.330022368297676233710462985113946673141207069663778250776142420287170778259491    \n",
       " 0.000000000000000000000000000000000000000000000000000000000000000000000000000000         -2.424632523835605034062469712869885204671526404845252975838183785552809070967129e-01\n",
       " 0.000000000000000000000000000000000000000000000000000000000000000000000000000000         -2.158983518908335121752841214909310247608785982403976408455654960727835322775592    \n",
       " 0.000000000000000000000000000000000000000000000000000000000000000000000000000000      …   2.787853703398452765749376271980299509757077632703122805958674501148308827824518    \n",
       " 0.000000000000000000000000000000000000000000000000000000000000000000000000000000         -7.352221114982329614710367851883916789345128894763006758241717107385562521054066e-02\n",
       " 0.000000000000000000000000000000000000000000000000000000000000000000000000000000         -1.154612493906755650549706904397539028258671917702149368340878279044156300194142    \n",
       " 0.000000000000000000000000000000000000000000000000000000000000000000000000000000          1.082765904658648875044949298286739831756817229413900112742568383203165443877073    \n",
       " 0.000000000000000000000000000000000000000000000000000000000000000000000000000000         -2.676737557500829403320316454375993526580739738866797409691412131849743440586711e-01,\n",
       "\n",
       "[40,79,71,33,100,36,49,13,44,58  …  84,70,48,5,59,73,94,81,95,27])"
      ]
     },
     "execution_count": 36,
     "metadata": {},
     "output_type": "execute_result"
    }
   ],
   "source": [
    "lu(M2)"
   ]
  },
  {
   "cell_type": "code",
   "execution_count": null,
   "metadata": {
    "collapsed": true
   },
   "outputs": [],
   "source": []
  }
 ],
 "metadata": {
  "kernelspec": {
   "display_name": "Julia 0.4.2",
   "language": "julia",
   "name": "julia-0.4"
  },
  "language_info": {
   "file_extension": ".jl",
   "mimetype": "application/julia",
   "name": "julia",
   "version": "0.4.2"
  }
 },
 "nbformat": 4,
 "nbformat_minor": 0
}
