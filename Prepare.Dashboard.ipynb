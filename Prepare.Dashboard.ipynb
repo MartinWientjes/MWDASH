{
 "cells": [
  {
   "cell_type": "code",
   "execution_count": 27,
   "metadata": {
    "collapsed": true
   },
   "outputs": [],
   "source": [
    "import numpy as np\n",
    "import matplotlib.pyplot as plt\n",
    "from scipy.interpolate import spline\n",
    "x = [\"jan\",\"feb\",\"mrt\",\"apr\",\"mei\",\"juni\",\"jul\",\"aug\",\"sep\",\"okt\",\"nov\",\"dec\",\"jan\",\"feb\",\"mrt\",\"apr\",\"mei\",\"juni\"]\n",
    "y = [3847,5959,5106,8306,5325,6830,7678,5040,5646,9350,8855,13917,9224,9536]\n",
    "z1= [5167,5167,5167,5167,5167,5167,5167,5167,5167,5167,5167,5167,5167,5167,5167,5167,5167,5167,5167]\n",
    "z2 = [7125,7125,7125,7125,7125,7125,7125,7125,7125,7125,7125,7125,7125,7125,7125,7125,7125,7125,7125]\n",
    "\n",
    "plt.title(\"IP uren Tafel Staven 2015-2016\")\n",
    "plt.xlabel('Maanden 2015/2016')\n",
    "plt.ylabel('IP uren per maand')\n",
    "plt.plot(y, linewidth=2)\n",
    "plt.plot(z1)\n",
    "plt.plot(z2)\n",
    "plt.grid(True)\n",
    "plt.show()"
   ]
  },
  {
   "cell_type": "code",
   "execution_count": 26,
   "metadata": {
    "collapsed": false
   },
   "outputs": [],
   "source": []
  },
  {
   "cell_type": "code",
   "execution_count": 7,
   "metadata": {
    "collapsed": true
   },
   "outputs": [],
   "source": [
    "xnew = np.linspace(T.min(),T.max(),300)\n",
    "power_smooth = spline(T,power,xnew)\n",
    "plt.plot(xnew,power_smooth)\n",
    "plt.show()"
   ]
  },
  {
   "cell_type": "code",
   "execution_count": null,
   "metadata": {
    "collapsed": true
   },
   "outputs": [],
   "source": []
  }
 ],
 "metadata": {
  "kernelspec": {
   "display_name": "Python 3",
   "language": "python",
   "name": "python3"
  },
  "language_info": {
   "codemirror_mode": {
    "name": "ipython",
    "version": 3
   },
   "file_extension": ".py",
   "mimetype": "text/x-python",
   "name": "python",
   "nbconvert_exporter": "python",
   "pygments_lexer": "ipython3",
   "version": "3.4.3"
  }
 },
 "nbformat": 4,
 "nbformat_minor": 0
}
