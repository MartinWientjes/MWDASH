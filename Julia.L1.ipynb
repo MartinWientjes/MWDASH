{
 "cells": [
  {
   "cell_type": "code",
   "execution_count": 1,
   "metadata": {
    "collapsed": false
   },
   "outputs": [
    {
     "ename": "LoadError",
     "evalue": "LoadError: PyError (:PyObject_Call) <class 'FileNotFoundError'>\nFileNotFoundError(2, 'No such file or directory')\n  File \"/Users/martin/anaconda/lib/python3.5/site-packages/xlrd/__init__.py\", line 394, in open_workbook\n    f = open(filename, \"rb\")\n\nwhile loading In[1], in expression starting on line 4",
     "output_type": "error",
     "traceback": [
      "LoadError: PyError (:PyObject_Call) <class 'FileNotFoundError'>\nFileNotFoundError(2, 'No such file or directory')\n  File \"/Users/martin/anaconda/lib/python3.5/site-packages/xlrd/__init__.py\", line 394, in open_workbook\n    f = open(filename, \"rb\")\n\nwhile loading In[1], in expression starting on line 4",
      "",
      " [inlined code] from /Users/martin/.julia/v0.4/PyCall/src/exception.jl:81",
      " in pycall at /Users/martin/.julia/v0.4/PyCall/src/PyCall.jl:361",
      " in call at /Users/martin/.julia/v0.4/PyCall/src/PyCall.jl:388"
     ]
    }
   ],
   "source": [
    "using ExcelReaders\n",
    "using DataFrames\n",
    "\n",
    "MWFileName = \"/Users/martin/Desktop/julia/TestNamen.txt\"\n",
    "# /Users/martin/Desktop/julia/Mijn-Medewerkers.xlsx \n",
    "# /Users/martin/Desktop/julia/learnjulia.jl\n",
    "\n",
    "\n",
    "df1 = readxl(DataFrame, \"Mijn-Medewerkers.xlsx\", \"Outlook\")\n",
    "df2 = readxl(DataFrame, \"Filename.xlsx\", \"Outlook\", header=false)\n",
    "df3 = readxl(DataFrame, \"Filename.xlsx\", \"Outlook\", header=false, colnames=[:name1, :name2, :name3])\n",
    "\n",
    "# File = Mijn-Medewerkers.xlsx\n",
    "# Sheet = Mijn_Medewerkers\n",
    "# Sheet = Outlook\n"
   ]
  },
  {
   "cell_type": "code",
   "execution_count": 2,
   "metadata": {
    "collapsed": false
   },
   "outputs": [
    {
     "ename": "LoadError",
     "evalue": "LoadError: LoadError: invalid doc expression:\n\n@doc \"...\" @printf \"%d is less than %f\" 4.5 5.3\n\n'@printf' not documentable. See 'Base.@__doc__' docs for details.\n\nwhile loading /Users/martin/Desktop/julia/learnjulia.jl, in expression starting on line 82\nwhile loading In[2], in expression starting on line 1",
     "output_type": "error",
     "traceback": [
      "LoadError: LoadError: invalid doc expression:\n\n@doc \"...\" @printf \"%d is less than %f\" 4.5 5.3\n\n'@printf' not documentable. See 'Base.@__doc__' docs for details.\n\nwhile loading /Users/martin/Desktop/julia/learnjulia.jl, in expression starting on line 82\nwhile loading In[2], in expression starting on line 1",
      "",
      " in error at error.jl:22",
      " in include at /Applications/Julia.app/Contents/Resources/julia/lib/julia/sys.dylib",
      " in include_from_node1 at /Applications/Julia.app/Contents/Resources/julia/lib/julia/sys.dylib"
     ]
    }
   ],
   "source": [
    "include(\"/Users/martin/Desktop/julia/learnjulia.jl\")"
   ]
  },
  {
   "cell_type": "code",
   "execution_count": null,
   "metadata": {
    "collapsed": true
   },
   "outputs": [],
   "source": [
    "Pkg.add(“JuMP”)\n",
    "Pkg.add(“Clp”)\n",
    "Pkg.add(“Ipopt”)"
   ]
  },
  {
   "cell_type": "code",
   "execution_count": null,
   "metadata": {
    "collapsed": true
   },
   "outputs": [],
   "source": []
  }
 ],
 "metadata": {
  "kernelspec": {
   "display_name": "Julia 0.4.2",
   "language": "julia",
   "name": "julia-0.4"
  },
  "language_info": {
   "file_extension": ".jl",
   "mimetype": "application/julia",
   "name": "julia",
   "version": "0.4.2"
  },
  "latex_envs": {
   "bibliofile": "biblio.bib",
   "cite_by": "apalike",
   "current_citInitial": 1,
   "eqLabelWithNumbers": true,
   "eqNumInitial": 0
  }
 },
 "nbformat": 4,
 "nbformat_minor": 0
}
