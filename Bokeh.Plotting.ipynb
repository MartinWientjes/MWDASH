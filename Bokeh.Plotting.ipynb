{
 "cells": [
  {
   "cell_type": "code",
   "execution_count": 1,
   "metadata": {
    "collapsed": false
   },
   "outputs": [
    {
     "ename": "ImportError",
     "evalue": "No module named 'bokeh'",
     "output_type": "error",
     "traceback": [
      "\u001b[0;31m---------------------------------------------------------------------------\u001b[0m",
      "\u001b[0;31mImportError\u001b[0m                               Traceback (most recent call last)",
      "\u001b[0;32m<ipython-input-1-b81ea2faa34b>\u001b[0m in \u001b[0;36m<module>\u001b[0;34m()\u001b[0m\n\u001b[1;32m      1\u001b[0m \u001b[0;31m# Clean alias\u001b[0m\u001b[0;34m\u001b[0m\u001b[0;34m\u001b[0m\u001b[0m\n\u001b[0;32m----> 2\u001b[0;31m \u001b[0;32mimport\u001b[0m \u001b[0mbokeh\u001b[0m\u001b[0;34m.\u001b[0m\u001b[0mplotting\u001b[0m \u001b[0;32mas\u001b[0m \u001b[0mbk\u001b[0m\u001b[0;34m\u001b[0m\u001b[0m\n\u001b[0m\u001b[1;32m      3\u001b[0m \u001b[0;34m\u001b[0m\u001b[0m\n\u001b[1;32m      4\u001b[0m \u001b[0;31m# Alternatively, import plotting functions into the namespace\u001b[0m\u001b[0;34m\u001b[0m\u001b[0;34m\u001b[0m\u001b[0m\n\u001b[1;32m      5\u001b[0m \u001b[0;32mfrom\u001b[0m \u001b[0mbokeh\u001b[0m\u001b[0;34m.\u001b[0m\u001b[0mplotting\u001b[0m \u001b[0;32mimport\u001b[0m \u001b[0;34m*\u001b[0m\u001b[0;34m\u001b[0m\u001b[0m\n",
      "\u001b[0;31mImportError\u001b[0m: No module named 'bokeh'"
     ]
    }
   ],
   "source": [
    "# Clean alias\n",
    "import bokeh.plotting as bk\n",
    "\n",
    "# Alternatively, import plotting functions into the namespace\n",
    "from bokeh.plotting import *"
   ]
  },
  {
   "cell_type": "code",
   "execution_count": 2,
   "metadata": {
    "collapsed": false
   },
   "outputs": [
    {
     "ename": "NameError",
     "evalue": "name 'bk' is not defined",
     "output_type": "error",
     "traceback": [
      "\u001b[0;31m---------------------------------------------------------------------------\u001b[0m",
      "\u001b[0;31mNameError\u001b[0m                                 Traceback (most recent call last)",
      "\u001b[0;32m<ipython-input-2-6b73a158421e>\u001b[0m in \u001b[0;36m<module>\u001b[0;34m()\u001b[0m\n\u001b[1;32m      1\u001b[0m \u001b[0;31m# Plots can be displayed inline in an IPython Notebook\u001b[0m\u001b[0;34m\u001b[0m\u001b[0;34m\u001b[0m\u001b[0m\n\u001b[0;32m----> 2\u001b[0;31m \u001b[0mbk\u001b[0m\u001b[0;34m.\u001b[0m\u001b[0moutput_notebook\u001b[0m\u001b[0;34m(\u001b[0m\u001b[0;34m)\u001b[0m\u001b[0;34m\u001b[0m\u001b[0m\n\u001b[0m\u001b[1;32m      3\u001b[0m \u001b[0;34m\u001b[0m\u001b[0m\n\u001b[1;32m      4\u001b[0m \u001b[0;31m# They can also be saved to file\u001b[0m\u001b[0;34m\u001b[0m\u001b[0;34m\u001b[0m\u001b[0m\n\u001b[1;32m      5\u001b[0m \u001b[0mbk\u001b[0m\u001b[0;34m.\u001b[0m\u001b[0moutput_file\u001b[0m\u001b[0;34m(\u001b[0m\u001b[0;34m\"output_filename.html\"\u001b[0m\u001b[0;34m,\u001b[0m \u001b[0mtitle\u001b[0m\u001b[0;34m=\u001b[0m\u001b[0;34m\"Hello World!\"\u001b[0m\u001b[0;34m)\u001b[0m\u001b[0;34m\u001b[0m\u001b[0m\n",
      "\u001b[0;31mNameError\u001b[0m: name 'bk' is not defined"
     ]
    }
   ],
   "source": [
    "# Plots can be displayed inline in an IPython Notebook\n",
    "bk.output_notebook()\n",
    "\n",
    "# They can also be saved to file\n",
    "bk.output_file(\"output_filename.html\", title=\"Hello World!\")"
   ]
  },
  {
   "cell_type": "code",
   "execution_count": 3,
   "metadata": {
    "collapsed": false
   },
   "outputs": [
    {
     "ename": "NameError",
     "evalue": "name 'bk' is not defined",
     "output_type": "error",
     "traceback": [
      "\u001b[0;31m---------------------------------------------------------------------------\u001b[0m",
      "\u001b[0;31mNameError\u001b[0m                                 Traceback (most recent call last)",
      "\u001b[0;32m<ipython-input-3-3ecbec64a5f8>\u001b[0m in \u001b[0;36m<module>\u001b[0;34m()\u001b[0m\n\u001b[0;32m----> 1\u001b[0;31m bk.figure(plot_width=900, # in units of px\n\u001b[0m\u001b[1;32m      2\u001b[0m            \u001b[0mplot_height\u001b[0m\u001b[0;34m=\u001b[0m\u001b[0;36m900\u001b[0m\u001b[0;34m,\u001b[0m\u001b[0;34m\u001b[0m\u001b[0m\n\u001b[1;32m      3\u001b[0m            title=\"Hello World!\")\n",
      "\u001b[0;31mNameError\u001b[0m: name 'bk' is not defined"
     ]
    }
   ],
   "source": [
    "bk.figure(plot_width=900, # in units of px\n",
    "           plot_height=900,\n",
    "           title=\"Hello World!\")"
   ]
  },
  {
   "cell_type": "code",
   "execution_count": 4,
   "metadata": {
    "collapsed": false
   },
   "outputs": [
    {
     "ename": "NameError",
     "evalue": "name 'bk' is not defined",
     "output_type": "error",
     "traceback": [
      "\u001b[0;31m---------------------------------------------------------------------------\u001b[0m",
      "\u001b[0;31mNameError\u001b[0m                                 Traceback (most recent call last)",
      "\u001b[0;32m<ipython-input-4-389aedb9cfe3>\u001b[0m in \u001b[0;36m<module>\u001b[0;34m()\u001b[0m\n\u001b[0;32m----> 1\u001b[0;31m \u001b[0mbk\u001b[0m\u001b[0;34m.\u001b[0m\u001b[0mhold\u001b[0m\u001b[0;34m(\u001b[0m\u001b[0;34m)\u001b[0m\u001b[0;34m\u001b[0m\u001b[0m\n\u001b[0m",
      "\u001b[0;31mNameError\u001b[0m: name 'bk' is not defined"
     ]
    }
   ],
   "source": [
    "bk.hold()"
   ]
  },
  {
   "cell_type": "code",
   "execution_count": 5,
   "metadata": {
    "collapsed": false
   },
   "outputs": [
    {
     "ename": "NameError",
     "evalue": "name 'bk' is not defined",
     "output_type": "error",
     "traceback": [
      "\u001b[0;31m---------------------------------------------------------------------------\u001b[0m",
      "\u001b[0;31mNameError\u001b[0m                                 Traceback (most recent call last)",
      "\u001b[0;32m<ipython-input-5-a8589202e788>\u001b[0m in \u001b[0;36m<module>\u001b[0;34m()\u001b[0m\n\u001b[1;32m      2\u001b[0m \u001b[0mys\u001b[0m \u001b[0;34m=\u001b[0m \u001b[0;34m[\u001b[0m\u001b[0mx\u001b[0m\u001b[0;34m**\u001b[0m\u001b[0;36m2\u001b[0m \u001b[0;32mfor\u001b[0m \u001b[0mx\u001b[0m \u001b[0;32min\u001b[0m \u001b[0mxs\u001b[0m\u001b[0;34m]\u001b[0m\u001b[0;34m\u001b[0m\u001b[0m\n\u001b[1;32m      3\u001b[0m \u001b[0;34m\u001b[0m\u001b[0m\n\u001b[0;32m----> 4\u001b[0;31m \u001b[0mbk\u001b[0m\u001b[0;34m.\u001b[0m\u001b[0mline\u001b[0m\u001b[0;34m(\u001b[0m\u001b[0mxs\u001b[0m\u001b[0;34m,\u001b[0m \u001b[0mys\u001b[0m\u001b[0;34m,\u001b[0m \u001b[0mline_width\u001b[0m\u001b[0;34m=\u001b[0m\u001b[0;36m2\u001b[0m\u001b[0;34m)\u001b[0m\u001b[0;34m\u001b[0m\u001b[0m\n\u001b[0m",
      "\u001b[0;31mNameError\u001b[0m: name 'bk' is not defined"
     ]
    }
   ],
   "source": [
    "xs = [0,1,2,3,4,5]\n",
    "ys = [x**2 for x in xs]\n",
    "\n",
    "bk.line(xs, ys, line_width=2)"
   ]
  },
  {
   "cell_type": "code",
   "execution_count": 6,
   "metadata": {
    "collapsed": false
   },
   "outputs": [
    {
     "ename": "NameError",
     "evalue": "name 'bk' is not defined",
     "output_type": "error",
     "traceback": [
      "\u001b[0;31m---------------------------------------------------------------------------\u001b[0m",
      "\u001b[0;31mNameError\u001b[0m                                 Traceback (most recent call last)",
      "\u001b[0;32m<ipython-input-6-6fc6d4314bd6>\u001b[0m in \u001b[0;36m<module>\u001b[0;34m()\u001b[0m\n\u001b[1;32m      1\u001b[0m \u001b[0;31m# Assuming you have already declared `output_file()` above\u001b[0m\u001b[0;34m\u001b[0m\u001b[0;34m\u001b[0m\u001b[0m\n\u001b[0;32m----> 2\u001b[0;31m \u001b[0mbk\u001b[0m\u001b[0;34m.\u001b[0m\u001b[0msave\u001b[0m\u001b[0;34m(\u001b[0m\u001b[0;34m)\u001b[0m\u001b[0;34m\u001b[0m\u001b[0m\n\u001b[0m",
      "\u001b[0;31mNameError\u001b[0m: name 'bk' is not defined"
     ]
    }
   ],
   "source": [
    "# Assuming you have already declared `output_file()` above\n",
    "bk.save()"
   ]
  },
  {
   "cell_type": "code",
   "execution_count": 7,
   "metadata": {
    "collapsed": false
   },
   "outputs": [
    {
     "ename": "NameError",
     "evalue": "name 'bk' is not defined",
     "output_type": "error",
     "traceback": [
      "\u001b[0;31m---------------------------------------------------------------------------\u001b[0m",
      "\u001b[0;31mNameError\u001b[0m                                 Traceback (most recent call last)",
      "\u001b[0;32m<ipython-input-7-084ffcbfadc0>\u001b[0m in \u001b[0;36m<module>\u001b[0;34m()\u001b[0m\n\u001b[0;32m----> 1\u001b[0;31m \u001b[0mbk\u001b[0m\u001b[0;34m.\u001b[0m\u001b[0mshow\u001b[0m\u001b[0;34m(\u001b[0m\u001b[0;34m)\u001b[0m\u001b[0;34m\u001b[0m\u001b[0m\n\u001b[0m",
      "\u001b[0;31mNameError\u001b[0m: name 'bk' is not defined"
     ]
    }
   ],
   "source": [
    "bk.show()"
   ]
  },
  {
   "cell_type": "code",
   "execution_count": null,
   "metadata": {
    "collapsed": false
   },
   "outputs": [],
   "source": [
    "from __future__ import division\n",
    "\n",
    "import numpy as np\n",
    "from bokeh.plotting import *\n",
    "\n",
    "# Skip the first point because it can be troublesome\n",
    "theta = np.linspace(0, 8*np.pi, 10000)[1:]\n",
    "\n",
    "# Compute the radial coordinates for some different spirals\n",
    "lituus = theta**(-1/2)          # lituus\n",
    "golden = np.exp(0.306349*theta) # golden\n",
    "arch   = theta                  # Archimedean\n",
    "fermat = theta**(1/2)           # Fermat's\n",
    "\n",
    "# Now compute the X and Y coordinates (polar mappers planned for Bokeh later)\n",
    "golden_x = golden*np.cos(theta)\n",
    "golden_y = golden*np.sin(theta)\n",
    "lituus_x = lituus*np.cos(theta)\n",
    "lituus_y = lituus*np.sin(theta)\n",
    "arch_x   = arch*np.cos(theta)\n",
    "arch_y   = arch*np.sin(theta)\n",
    "fermat_x = fermat*np.cos(theta)\n",
    "fermat_y = fermat*np.sin(theta)\n",
    "\n",
    "# output to static HTML file\n",
    "output_file(\"lines.html\")\n",
    "\n",
    "# Plot the Archimedean spiral using the `line` renderer. Note how we set the\n",
    "# color, line thickness, title, and legend value.\n",
    "line(arch_x, arch_y, color=\"red\", line_width=2,\n",
    "     title=\"Archimean\", legend=\"Archimedean\")\n",
    "\n",
    "# EXERCISE: reproduce the above plot for one of the other spirals\n",
    "line(golden_x, golden_y, color=\"orange\", line_width=2,\n",
    "     title=\"golden\", legend=\"golden\")\n",
    "\n",
    "# Let's try to put all lines on one plot for comparison. First we need to\n",
    "# turn on `hold` so that each renderer does not create a brand new plot\n",
    "hold()\n",
    "\n",
    "# Next we need to actually create a new figure, so that the following\n",
    "# renderers work on a new plot, and not the last one.\n",
    "figure()\n",
    "\n",
    "# EXERCISE: add all four spirals to one plot, each with different line colors\n",
    "# and legend values. NOTE: title only set on the first renderer.\n",
    "line(golden_x, golden_y, color=\"#BD1550\", line_width=2,\n",
    "     legend=\"golden\", title=\"Various Spirals\")\n",
    "line(lituus_x, lituus_y, color=\"#E97F02\", line_width=2, legend=\"lituus\")\n",
    "line(arch_x,   arch_y,   color=\"#F8CA00\", line_width=2, legend=\"Archimedean\")\n",
    "line(fermat_x, fermat_y, color=\"#8A9B0F\", line_width=2, legend=\"Fermat\")\n",
    "\n",
    "# OK, so that doesn't look so good because Bokeh tried to autoscale to\n",
    "# accomodate all the data. We can set the plot range explicitly\n",
    "\n",
    "# EXERCISE: create a new figure\n",
    "figure()\n",
    "# EXERCISE: add x_range and y_range parameters to the first `line`, to set the\n",
    "# range to [-10, 10].\n",
    "line(golden_x, golden_y, color=\"#BD1550\", line_width=2,\n",
    "     legend=\"golden\", title=\"Various Spirals\",\n",
    "     x_range=[-10, 10], y_range=[-10, 10])\n",
    "line(lituus_x, lituus_y, color=\"#E97F02\", line_width=2, legend=\"lituus\")\n",
    "line(arch_x,   arch_y,   color=\"#F8CA00\", line_width=2, legend=\"Archimedean\")\n",
    "line(fermat_x, fermat_y, color=\"#8A9B0F\", line_width=2, legend=\"Fermat\")\n",
    "\n",
    "show()      # show the plot"
   ]
  },
  {
   "cell_type": "code",
   "execution_count": null,
   "metadata": {
    "collapsed": false
   },
   "outputs": [],
   "source": [
    "import time\n",
    "\n",
    "from numpy import cumprod, linspace, random\n",
    "\n",
    "from bokeh.plotting import figure, show, output_file, vplot\n",
    "\n",
    "num_points = 300\n",
    "\n",
    "now = time.time()\n",
    "dt = 24*3600 # days in seconds\n",
    "dates = linspace(now, now + num_points*dt, num_points) * 1000 # times in ms\n",
    "acme = cumprod(random.lognormal(0.0, 0.04, size=num_points))\n",
    "choam = cumprod(random.lognormal(0.0, 0.04, size=num_points))\n",
    "\n",
    "TOOLS = \"pan,wheel_zoom,box_zoom,reset,save\"\n",
    "\n",
    "output_file(\"correlation.html\", title=\"correlation.py example\")\n",
    "\n",
    "r = figure(x_axis_type = \"datetime\", tools=TOOLS)\n",
    "\n",
    "r.line(dates, acme, color='#1F78B4', legend='ACME')\n",
    "r.line(dates, choam, color='#FB9A99', legend='CHOAM')\n",
    "\n",
    "r.title = \"Stock Returns\"\n",
    "r.grid.grid_line_alpha=0.3\n",
    "\n",
    "c = figure(tools=TOOLS)\n",
    "\n",
    "c.circle(acme, choam, color='#A6CEE3', legend='close')\n",
    "\n",
    "c.title = \"ACME / CHOAM Correlations\"\n",
    "c.grid.grid_line_alpha=0.3\n",
    "\n",
    "show(vplot(r, c))  # open a browser"
   ]
  },
  {
   "cell_type": "code",
   "execution_count": null,
   "metadata": {
    "collapsed": false
   },
   "outputs": [],
   "source": [
    "from __future__ import print_function\n",
    "\n",
    "import numpy as np\n",
    "import pandas as pd\n",
    "\n",
    "from bokeh.browserlib import view\n",
    "from bokeh.document import Document\n",
    "from bokeh.embed import file_html\n",
    "from bokeh.models.glyphs import Circle, Line\n",
    "from bokeh.models import (\n",
    "    ColumnDataSource, Grid, GridPlot, LinearAxis, Plot, Range1d\n",
    ")\n",
    "from bokeh.resources import INLINE\n",
    "\n",
    "raw_columns=[\n",
    "[10.0,   8.04,   10.0,   9.14,   10.0,   7.46,   8.0,    6.58],\n",
    "[8.0,    6.95,   8.0,    8.14,   8.0,    6.77,   8.0,    5.76],\n",
    "[13.0,   7.58,   13.0,   8.74,   13.0,   12.74,  8.0,    7.71],\n",
    "[9.0,    8.81,   9.0,    8.77,   9.0,    7.11,   8.0,    8.84],\n",
    "[11.0,   8.33,   11.0,   9.26,   11.0,   7.81,   8.0,    8.47],\n",
    "[14.0,   9.96,   14.0,   8.10,   14.0,   8.84,   8.0,    7.04],\n",
    "[6.0,    7.24,   6.0,    6.13,   6.0,    6.08,   8.0,    5.25],\n",
    "[4.0,    4.26,   4.0,    3.10,   4.0,    5.39,   19.0,   12.5],\n",
    "[12.0,   10.84,  12.0,   9.13,   12.0,   8.15,   8.0,    5.56],\n",
    "[7.0,    4.82,   7.0,    7.26,   7.0,    6.42,   8.0,    7.91],\n",
    "[5.0,    5.68,   5.0,    4.74,   5.0,    5.73,   8.0,    6.89]]\n",
    "\n",
    "quartet = pd.DataFrame(data=raw_columns, columns=\n",
    "                       ['Ix','Iy','IIx','IIy','IIIx','IIIy','IVx','IVy'])\n",
    "\n",
    "\n",
    "circles_source = ColumnDataSource(\n",
    "    data = dict(\n",
    "        xi   = quartet['Ix'],\n",
    "        yi   = quartet['Iy'],\n",
    "        xii  = quartet['IIx'],\n",
    "        yii  = quartet['IIy'],\n",
    "        xiii = quartet['IIIx'],\n",
    "        yiii = quartet['IIIy'],\n",
    "        xiv  = quartet['IVx'],\n",
    "        yiv  = quartet['IVy'],\n",
    "    )\n",
    "   )\n",
    "\n",
    "x = np.linspace(-0.5, 20.5, 10)\n",
    "y = 3 + 0.5 * x\n",
    "lines_source = ColumnDataSource(data=dict(x=x, y=y))\n",
    "\n",
    "xdr = Range1d(start=-0.5, end=20.5)\n",
    "ydr = Range1d(start=-0.5, end=20.5)\n",
    "\n",
    "def make_plot(title, xname, yname):\n",
    "    plot = Plot(\n",
    "        x_range=xdr, y_range=ydr,\n",
    "        title=title, plot_width=400, plot_height=400,\n",
    "        border_fill='white', background_fill='#e9e0db'\n",
    "    )\n",
    "\n",
    "    xaxis = LinearAxis(axis_line_color=None)\n",
    "    plot.add_layout(xaxis, 'below')\n",
    "\n",
    "    yaxis = LinearAxis(axis_line_color=None)\n",
    "    plot.add_layout(yaxis, 'left')\n",
    "\n",
    "    plot.add_layout(Grid(dimension=0, ticker=xaxis.ticker))\n",
    "    plot.add_layout(Grid(dimension=1, ticker=yaxis.ticker))\n",
    "\n",
    "    line = Line(x='x', y='y', line_color=\"#666699\", line_width=2)\n",
    "    plot.add_glyph(lines_source, line)\n",
    "\n",
    "    circle = Circle(\n",
    "        x=xname, y=yname, size=12,\n",
    "        fill_color=\"#cc6633\", line_color=\"#cc6633\", fill_alpha=0.5\n",
    "    )\n",
    "    plot.add_glyph(circles_source, circle)\n",
    "\n",
    "    return plot\n",
    "\n",
    "#where will this comment show up\n",
    "I   = make_plot('I',   'xi',   'yi')\n",
    "II  = make_plot('II',  'xii',  'yii')\n",
    "III = make_plot('III', 'xiii', 'yiii')\n",
    "IV  = make_plot('IV',  'xiv',  'yiv')\n",
    "\n",
    "grid = GridPlot(children=[[I, II], [III, IV]])\n",
    "\n",
    "doc = Document()\n",
    "doc.add(grid)\n",
    "\n",
    "if __name__ == \"__main__\":\n",
    "    filename = \"anscombe.html\"\n",
    "    with open(filename, \"w\") as f:\n",
    "        f.write(file_html(doc, INLINE, \"Anscombe's Quartet\"))\n",
    "    print(\"Wrote %s\" % filename)\n",
    "    view(filename)"
   ]
  },
  {
   "cell_type": "code",
   "execution_count": null,
   "metadata": {
    "collapsed": true
   },
   "outputs": [],
   "source": [
    "from collections import OrderedDict\n",
    "\n",
    "import numpy as np\n",
    "import pandas as pd\n",
    "\n",
    "from bokeh.plotting import figure, show, output_file\n",
    "from bokeh.palettes import brewer\n",
    "\n",
    "N = 20\n",
    "categories = ['y' + str(x) for x in range(10)]\n",
    "data = {}\n",
    "data['x'] = np.arange(N)\n",
    "for cat in categories:\n",
    "    data[cat] = np.random.randint(10, 100, size=N)\n",
    "\n",
    "df = pd.DataFrame(data)\n",
    "df = df.set_index(['x'])\n",
    "\n",
    "def stacked(df, categories):\n",
    "    areas = OrderedDict()\n",
    "    last = np.zeros(len(df[categories[0]]))\n",
    "    for cat in categories:\n",
    "        next = last + df[cat]\n",
    "        areas[cat] = np.hstack((last[::-1], next))\n",
    "        last = next\n",
    "    return areas\n",
    "\n",
    "areas = stacked(df, categories)\n",
    "\n",
    "colors = brewer[\"Spectral\"][len(areas)]\n",
    "\n",
    "x2 = np.hstack((data['x'][::-1], data['x']))\n",
    "\n",
    "output_file(\"brewer.html\", title=\"brewer.py example\")\n",
    "\n",
    "p = figure()\n",
    "p.patches([x2 for a in areas], list(areas.values()), color=colors, alpha=0.8, line_color=None)\n",
    "\n",
    "p.grid.minor_grid_line_color = '#eeeeee'\n",
    "show(p)"
   ]
  },
  {
   "cell_type": "code",
   "execution_count": null,
   "metadata": {
    "collapsed": true
   },
   "outputs": [],
   "source": [
    "import numpy as np\n",
    "\n",
    "from bokeh.plotting import figure, show, output_file, vplot\n",
    "\n",
    "N = 100\n",
    "\n",
    "x = np.linspace(0, 4*np.pi, N)\n",
    "y = np.sin(x)\n",
    "\n",
    "output_file(\"legend.html\", title=\"legend.py example\")\n",
    "\n",
    "TOOLS = \"pan,wheel_zoom,box_zoom,reset,save,box_select\"\n",
    "\n",
    "p1 = figure(title=\"Legend Example\", tools=TOOLS)\n",
    "\n",
    "p1.circle(x, y, legend=\"sin(x)\")\n",
    "p1.circle(x, 2*y, legend=\"2*sin(x)\", color=\"orange\", )\n",
    "p1.circle(x, 3*y, legend=\"3*sin(x)\", color=\"green\", )\n",
    "\n",
    "p2 = figure(title=\"Another Legend Example\", tools=TOOLS)\n",
    "\n",
    "p2.circle(x, y, legend=\"sin(x)\")\n",
    "p2.line(x, y, legend=\"sin(x)\")\n",
    "\n",
    "p2.line(x, 2*y, legend=\"2*sin(x)\",\n",
    "    line_dash=[4, 4], line_color=\"orange\", line_width=2)\n",
    "\n",
    "p2.square(x, 3*y, legend=\"3*sin(x)\", fill_color=None, line_color=\"green\")\n",
    "p2.line(x, 3*y, legend=\"3*sin(x)\", line_color=\"green\")\n",
    "\n",
    "show(vplot(p1, p2))  # open a browser"
   ]
  },
  {
   "cell_type": "code",
   "execution_count": null,
   "metadata": {
    "collapsed": false
   },
   "outputs": [],
   "source": [
    "from collections import OrderedDict\n",
    "\n",
    "import pandas as pd\n",
    "\n",
    "from bokeh.charts import Donut, show, output_file\n",
    "from bokeh.sampledata.olympics2014 import data\n",
    "\n",
    "# throw the data into a pandas data frame\n",
    "df = pd.io.json.json_normalize(data['data'])\n",
    "\n",
    "# filter by countries with at least one medal and sort\n",
    "df = df[df['medals.total'] > 8]\n",
    "df = df.sort(\"medals.total\", ascending=False)\n",
    "\n",
    "# get the countries and we group the data by medal type\n",
    "countries = df.abbr.values.tolist()\n",
    "gold = df['medals.gold'].astype(float).values\n",
    "silver = df['medals.silver'].astype(float).values\n",
    "bronze = df['medals.bronze'].astype(float).values\n",
    "\n",
    "# build a dict containing the grouped data\n",
    "medals = OrderedDict()\n",
    "medals['bronze'] = bronze\n",
    "medals['silver'] = silver\n",
    "medals['gold'] = gold\n",
    "\n",
    "# any of the following commented are also valid Donut inputs\n",
    "#medals = list(medals.values())\n",
    "#medals = np.array(list(medals.values()))\n",
    "#medals = pd.DataFrame(medals)\n",
    "\n",
    "output_file(\"donut.html\")\n",
    "\n",
    "donut = Donut(medals, countries)\n",
    "\n",
    "show(donut)"
   ]
  },
  {
   "cell_type": "code",
   "execution_count": null,
   "metadata": {
    "collapsed": true
   },
   "outputs": [],
   "source": [
    "from collections import OrderedDict\n",
    "\n",
    "import pandas as pd\n",
    "\n",
    "from bokeh.charts import Bar, output_file, show\n",
    "from bokeh.sampledata.olympics2014 import data\n",
    "\n",
    "df = pd.io.json.json_normalize(data['data'])\n",
    "\n",
    "# filter by countries with at least one medal and sort\n",
    "df = df[df['medals.total'] > 0]\n",
    "df = df.sort(\"medals.total\", ascending=False)\n",
    "\n",
    "# get the countries and we group the data by medal type\n",
    "countries = df.abbr.values.tolist()\n",
    "gold = df['medals.gold'].astype(float).values\n",
    "silver = df['medals.silver'].astype(float).values\n",
    "bronze = df['medals.bronze'].astype(float).values\n",
    "\n",
    "# build a dict containing the grouped data\n",
    "medals = OrderedDict(bronze=bronze, silver=silver, gold=gold)\n",
    "\n",
    "# any of the following commented are also alid Bar inputs\n",
    "#medals = pd.DataFrame(medals)\n",
    "#medals = list(medals.values())\n",
    "\n",
    "output_file(\"stacked_bar.html\")\n",
    "\n",
    "bar = Bar(medals, countries, title=\"Stacked bars\", stacked=True)\n",
    "\n",
    "show(bar)"
   ]
  },
  {
   "cell_type": "code",
   "execution_count": null,
   "metadata": {
    "collapsed": false
   },
   "outputs": [],
   "source": [
    "from collections import OrderedDict\n",
    "from math import log, sqrt\n",
    "\n",
    "import numpy as np\n",
    "import pandas as pd\n",
    "from six.moves import cStringIO as StringIO\n",
    "\n",
    "from bokeh.plotting import figure, show, output_file\n",
    "\n",
    "antibiotics = \"\"\"\n",
    "bacteria,                        penicillin, streptomycin, neomycin, gram\n",
    "Mycobacterium tuberculosis,      800,        5,            2,        negative\n",
    "Salmonella schottmuelleri,       10,         0.8,          0.09,     negative\n",
    "Proteus vulgaris,                3,          0.1,          0.1,      negative\n",
    "Klebsiella pneumoniae,           850,        1.2,          1,        negative\n",
    "Brucella abortus,                1,          2,            0.02,     negative\n",
    "Pseudomonas aeruginosa,          850,        2,            0.4,      negative\n",
    "Escherichia coli,                100,        0.4,          0.1,      negative\n",
    "Salmonella (Eberthella) typhosa, 1,          0.4,          0.008,    negative\n",
    "Aerobacter aerogenes,            870,        1,            1.6,      negative\n",
    "Brucella antracis,               0.001,      0.01,         0.007,    positive\n",
    "Streptococcus fecalis,           1,          1,            0.1,      positive\n",
    "Staphylococcus aureus,           0.03,       0.03,         0.001,    positive\n",
    "Staphylococcus albus,            0.007,      0.1,          0.001,    positive\n",
    "Streptococcus hemolyticus,       0.001,      14,           10,       positive\n",
    "Streptococcus viridans,          0.005,      10,           40,       positive\n",
    "Diplococcus pneumoniae,          0.005,      11,           10,       positive\n",
    "\"\"\"\n",
    "\n",
    "drug_color = OrderedDict([\n",
    "    (\"Penicillin\",   \"#0d3362\"),\n",
    "    (\"Streptomycin\", \"#c64737\"),\n",
    "    (\"Neomycin\",     \"black\"  ),\n",
    "])\n",
    "\n",
    "gram_color = {\n",
    "    \"positive\" : \"#aeaeb8\",\n",
    "    \"negative\" : \"#e69584\",\n",
    "}\n",
    "\n",
    "df = pd.read_csv(StringIO(antibiotics),\n",
    "                 skiprows=1,\n",
    "                 skipinitialspace=True,\n",
    "                 engine='python')\n",
    "\n",
    "width = 800\n",
    "height = 800\n",
    "inner_radius = 90\n",
    "outer_radius = 300 - 10\n",
    "\n",
    "minr = sqrt(log(.001 * 1E4))\n",
    "maxr = sqrt(log(1000 * 1E4))\n",
    "a = (outer_radius - inner_radius) / (minr - maxr)\n",
    "b = inner_radius - a * maxr\n",
    "\n",
    "def rad(mic):\n",
    "    return a * np.sqrt(np.log(mic * 1E4)) + b\n",
    "\n",
    "big_angle = 2.0 * np.pi / (len(df) + 1)\n",
    "small_angle = big_angle / 7\n",
    "\n",
    "x = np.zeros(len(df))\n",
    "y = np.zeros(len(df))\n",
    "\n",
    "output_file(\"burtin.html\", title=\"burtin.py example\")\n",
    "\n",
    "p = figure(plot_width=width, plot_height=height, title=\"\",\n",
    "    x_axis_type=None, y_axis_type=None,\n",
    "    x_range=[-420, 420], y_range=[-420, 420],\n",
    "    min_border=0, outline_line_color=\"black\",\n",
    "    background_fill=\"#f0e1d2\", border_fill=\"#f0e1d2\")\n",
    "\n",
    "p.line(x+1, y+1, alpha=0)\n",
    "\n",
    "# annular wedges\n",
    "angles = np.pi/2 - big_angle/2 - df.index.to_series()*big_angle\n",
    "colors = [gram_color[gram] for gram in df.gram]\n",
    "p.annular_wedge(\n",
    "    x, y, inner_radius, outer_radius, -big_angle+angles, angles, color=colors,\n",
    ")\n",
    "\n",
    "# small wedges\n",
    "p.annular_wedge(x, y, inner_radius, rad(df.penicillin),\n",
    "    -big_angle+angles+5*small_angle, -big_angle+angles+6*small_angle,\n",
    "    color=drug_color['Penicillin'])\n",
    "p.annular_wedge(x, y, inner_radius, rad(df.streptomycin),\n",
    "    -big_angle+angles+3*small_angle, -big_angle+angles+4*small_angle,\n",
    "    color=drug_color['Streptomycin'])\n",
    "p.annular_wedge(x, y, inner_radius, rad(df.neomycin),\n",
    "    -big_angle+angles+1*small_angle, -big_angle+angles+2*small_angle,\n",
    "    color=drug_color['Neomycin'])\n",
    "\n",
    "# circular axes and lables\n",
    "labels = np.power(10.0, np.arange(-3, 4))\n",
    "radii = a * np.sqrt(np.log(labels * 1E4)) + b\n",
    "p.circle(x, y, radius=radii, fill_color=None, line_color=\"white\")\n",
    "p.text(x[:-1], radii[:-1], [str(r) for r in labels[:-1]],\n",
    "    text_font_size=\"8pt\", text_align=\"center\", text_baseline=\"middle\")\n",
    "\n",
    "# radial axes\n",
    "p.annular_wedge(x, y, inner_radius-10, outer_radius+10,\n",
    "    -big_angle+angles, -big_angle+angles, color=\"black\")\n",
    "\n",
    "# bacteria labels\n",
    "xr = radii[0]*np.cos(np.array(-big_angle/2 + angles))\n",
    "yr = radii[0]*np.sin(np.array(-big_angle/2 + angles))\n",
    "label_angle=np.array(-big_angle/2+angles)\n",
    "label_angle[label_angle < -np.pi/2] += np.pi # easier to read labels on the left side\n",
    "p.text(xr, yr, df.bacteria, angle=label_angle,\n",
    "    text_font_size=\"9pt\", text_align=\"center\", text_baseline=\"middle\")\n",
    "\n",
    "# OK, these hand drawn legends are pretty clunky, will be improved in future release\n",
    "p.circle([-40, -40], [-370, -390], color=list(gram_color.values()), radius=5)\n",
    "p.text([-30, -30], [-370, -390], text=[\"Gram-\" + gr for gr in gram_color.keys()],\n",
    "    text_font_size=\"7pt\", text_align=\"left\", text_baseline=\"middle\")\n",
    "\n",
    "p.rect([-40, -40, -40], [18, 0, -18], width=30, height=13,\n",
    "    color=list(drug_color.values()))\n",
    "p.text([-15, -15, -15], [18, 0, -18], text=list(drug_color.keys()),\n",
    "    text_font_size=\"9pt\", text_align=\"left\", text_baseline=\"middle\")\n",
    "\n",
    "p.xgrid.grid_line_color = None\n",
    "p.ygrid.grid_line_color = None\n",
    "\n",
    "show(p)"
   ]
  },
  {
   "cell_type": "code",
   "execution_count": null,
   "metadata": {
    "collapsed": false
   },
   "outputs": [],
   "source": [
    "from collections import OrderedDict\n",
    "\n",
    "import numpy as np\n",
    "import pandas as pd\n",
    "\n",
    "from bokeh.charts import Histogram, show, output_file\n",
    "\n",
    "# build some distributions and load them into a dict\n",
    "mu, sigma = 0, 0.5\n",
    "normal = np.random.normal(mu, sigma, 1000)\n",
    "lognormal = np.random.lognormal(mu, sigma, 1000)\n",
    "distributions = OrderedDict(normal=normal, lognormal=lognormal)\n",
    "\n",
    "# create a pandas data frame from the dict\n",
    "df = pd.DataFrame(distributions)\n",
    "distributions = df.to_dict()\n",
    "\n",
    "for k, v in distributions.items():\n",
    "    distributions[k] = v.values()\n",
    "\n",
    "# any of the following commented are valid Histogram inputs\n",
    "#df = list(distributions.values())\n",
    "#df = tuple(distributions.values())\n",
    "#df = tuple([tuple(x) for x in distributions.values()])\n",
    "#df = np.array(list(distributions.values()))\n",
    "#df = list(distributions.values())[0]\n",
    "\n",
    "output_file(\"histograms.html\")\n",
    "\n",
    "hist = Histogram(df, bins=50, legend=True)\n",
    "\n",
    "show(hist)"
   ]
  },
  {
   "cell_type": "code",
   "execution_count": null,
   "metadata": {
    "collapsed": false
   },
   "outputs": [],
   "source": [
    "#!/usr/bin/env python\n",
    "from __future__ import print_function\n",
    "import bokeh.server\n",
    "import bokeh.server.start\n",
    "if __name__ == \"__main__\":\n",
    "    try:\n",
    "        bokeh.server.run()\n",
    "    except KeyboardInterrupt:\n",
    "        bokeh.server.start.stop()\n",
    "        print(\"Shutting down bokeh-server ...\")\n",
    "        \n",
    "        "
   ]
  },
  {
   "cell_type": "code",
   "execution_count": null,
   "metadata": {
    "collapsed": true
   },
   "outputs": [],
   "source": [
    "from bokeh.plot_object import PlotObject\n",
    "from bokeh.server.utils.plugins import object_page\n",
    "from bokeh.server.app import bokeh_app\n",
    "from bokeh.plotting import curdoc, cursession\n",
    "from bokeh.crossfilter.models import CrossFilter\n",
    "from bokeh.sampledata.autompg import autompg\n",
    "\n",
    "@bokeh_app.route(\"/bokeh/crossfilter/\")\n",
    "@object_page(\"crossfilter\")\n",
    "def make_crossfilter():\n",
    "    autompg['cyl'] = autompg['cyl'].astype(str)\n",
    "    autompg['origin'] = autompg['origin'].astype(str)\n",
    "    app = CrossFilter.create(df=autompg)\n",
    "    return app"
   ]
  },
  {
   "cell_type": "code",
   "execution_count": null,
   "metadata": {
    "collapsed": true
   },
   "outputs": [],
   "source": []
  }
 ],
 "metadata": {
  "kernelspec": {
   "display_name": "Python 3",
   "language": "python",
   "name": "python3"
  },
  "language_info": {
   "codemirror_mode": {
    "name": "ipython",
    "version": 3
   },
   "file_extension": ".py",
   "mimetype": "text/x-python",
   "name": "python",
   "nbconvert_exporter": "python",
   "pygments_lexer": "ipython3",
   "version": "3.4.3"
  }
 },
 "nbformat": 4,
 "nbformat_minor": 0
}
